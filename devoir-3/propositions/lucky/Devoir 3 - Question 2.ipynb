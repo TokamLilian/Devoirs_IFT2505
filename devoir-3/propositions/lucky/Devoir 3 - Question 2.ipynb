{
 "cells": [
  {
   "cell_type": "code",
   "execution_count": 1,
   "id": "3b008a2c",
   "metadata": {},
   "outputs": [
    {
     "data": {
      "text/plain": [
       "4×7 Matrix{Int64}:\n",
       "  1   0   1  0  0  -1  3\n",
       "  0   1   2  1  0  -1  4\n",
       "  0   0   0  1  0  -1  2\n",
       " -3  -4  -5  0  0   0  0"
      ]
     },
     "metadata": {},
     "output_type": "display_data"
    },
    {
     "ename": "LoadError",
     "evalue": "Le problème est non borné.",
     "output_type": "error",
     "traceback": [
      "Le problème est non borné.",
      "",
      "Stacktrace:",
      " [1] error(s::String)",
      "   @ Base .\\error.jl:35",
      " [2] dualSimplexSolver(A::Matrix{Int64}, b::Vector{Int64}, c::Vector{Int64}; verbose::Bool)",
      "   @ Main .\\In[1]:55",
      " [3] top-level scope",
      "   @ In[1]:80"
     ]
    }
   ],
   "source": [
    "function pivot!(M::Matrix{T}, row::Int, col::Int) where T\n",
    "    M[row, :] ./= M[row, col]\n",
    "    for i in 1:size(M, 1)\n",
    "        if i != row\n",
    "            M[i, :] .-= M[i, col] .* M[row, :]\n",
    "        end\n",
    "    end\n",
    "end\n",
    "\n",
    "function findEnteringVariable(M::Matrix{T}) where T\n",
    "    cost = M[end, 1:end-1]\n",
    "    indices = findall(x -> x < 0, cost)\n",
    "    return isempty(indices) ? -1 : indices[1]\n",
    "end\n",
    "\n",
    "function findLeavingVariable(M::Matrix{T}, entering_var::Int) where T\n",
    "    min_ratio = Inf\n",
    "    leaving_var = 0\n",
    "    for i in 1:size(M, 1) - 1\n",
    "        if M[i, entering_var] < 0\n",
    "            ratio = -M[i, end] / M[i, entering_var]\n",
    "            if ratio < min_ratio\n",
    "                min_ratio = ratio\n",
    "                leaving_var = i\n",
    "            end\n",
    "        end\n",
    "    end\n",
    "    return (min_ratio == Inf) ? -1 : leaving_var\n",
    "end\n",
    "\n",
    "function dualSimplexSolver(A::Matrix{T}, b::Vector{T}, c::Vector{T}; verbose::Bool=false) where T\n",
    "    M = [A b; c' T(0)]\n",
    "    \n",
    "    while true\n",
    "            \n",
    "        if verbose\n",
    "            display(M)\n",
    "        end\n",
    "        \n",
    "        # Trouver la variable entrante \n",
    "        entering = findEnteringVariable(M)\n",
    "        if entering == -1\n",
    "            break  # Solution optimale trouvée\n",
    "        end\n",
    "        \n",
    "        # Trouver la variable sortante\n",
    "        leaving = findLeavingVariable(M, entering)\n",
    "        if leaving == -1\n",
    "            error(\"Le problème est non borné.\")\n",
    "        end\n",
    "\n",
    "        # Executer le pivot\n",
    "        if verbose\n",
    "            println(\"Entrée x$entering remplace sortie x$leaving\")\n",
    "        end\n",
    "        pivot!(M, leaving, entering)\n",
    "    end\n",
    "    \n",
    "    return M[1:end-1, end], M[end, end]  # Renvoie la solution et la valeur de l'objectif\n",
    "end\n",
    "\n",
    "\n",
    "c = [-3, -4, -5, 0, 0, 0]\n",
    "\n",
    "\n",
    "A = [[1  0  1  0  0  -1] \n",
    "     [0  1  2  1  0  -1]  \n",
    "     [0  0  0  1  0  -1]] \n",
    "\n",
    "b = [3, 4, 2]\n",
    "\n",
    "solution, objective_value = dualSimplexSolver(A, b, c, verbose=true)\n",
    "\n",
    "println(\"Solution: \", solution)\n",
    "println(\"Valeur de l’objectif: \", objective_value)"
   ]
  }
 ],
 "metadata": {
  "kernelspec": {
   "display_name": "Julia 1.9.3",
   "language": "julia",
   "name": "julia-1.9"
  },
  "language_info": {
   "file_extension": ".jl",
   "mimetype": "application/julia",
   "name": "julia",
   "version": "1.9.3"
  }
 },
 "nbformat": 4,
 "nbformat_minor": 5
}
