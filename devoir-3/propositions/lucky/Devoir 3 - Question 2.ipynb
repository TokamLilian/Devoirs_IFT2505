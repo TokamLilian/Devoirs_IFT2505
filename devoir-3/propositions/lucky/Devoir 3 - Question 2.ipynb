{
 "cells": [
  {
   "cell_type": "code",
   "execution_count": 1,
   "id": "3b008a2c",
   "metadata": {},
   "outputs": [
    {
     "name": "stdout",
     "output_type": "stream",
     "text": [
      "Solution optimale :\n",
      "x[1] = 2.0\n",
      "x[2] = 0.0\n",
      "x[3] = 1.0\n",
      "x[4] = 2.0\n",
      "Valeur de la fonction objectif : 14.0\n"
     ]
    }
   ],
   "source": [
    "using LinearAlgebra\n",
    "using JuMP\n",
    "using GLPK\n",
    "\n",
    "model = Model(GLPK.Optimizer)\n",
    "\n",
    "@variable(model, x[1:4] >= 0) # x1, x2, x3, x4\n",
    "\n",
    "@constraint(model, x[1] + x[3] >= 3)\n",
    "@constraint(model, x[2] + 2x[3] + x[4] >= 4)\n",
    "@constraint(model, x[4] >= 2)\n",
    "\n",
    "@objective(model, Min, 3x[2] + 4x[3] + 5x[4])\n",
    "\n",
    "optimize!(model)\n",
    "\n",
    "\n",
    "println(\"Solution optimale :\")\n",
    "for i in 1:4\n",
    "    println(\"x[$i] = \", value(x[i]))\n",
    "end\n",
    "println(\"Valeur de la fonction objectif : \", objective_value(model))"
   ]
  },
  {
   "cell_type": "code",
   "execution_count": null,
   "id": "563afdd1",
   "metadata": {},
   "outputs": [],
   "source": []
  }
 ],
 "metadata": {
  "kernelspec": {
   "display_name": "Julia 1.9.3",
   "language": "julia",
   "name": "julia-1.9"
  },
  "language_info": {
   "file_extension": ".jl",
   "mimetype": "application/julia",
   "name": "julia",
   "version": "1.9.3"
  }
 },
 "nbformat": 4,
 "nbformat_minor": 5
}
