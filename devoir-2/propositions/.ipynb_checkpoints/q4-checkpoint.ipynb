{
 "cells": [
  {
   "cell_type": "markdown",
   "metadata": {},
   "source": [
    "## $\\textbf{Question 4}$"
   ]
  },
  {
   "cell_type": "markdown",
   "metadata": {},
   "source": [
    "$\\text{Soit le système}$"
   ]
  },
  {
   "cell_type": "markdown",
   "metadata": {},
   "source": [
    "\\begin{align*}\n",
    "    x_1 + x_2 \\leq 1&\\\\\n",
    "    x_1 + x_2 \\geq 2&\\\\\n",
    "    x_1, x_2 \\geq 0&\\\\\n",
    "\\end{align*}\n",
    "\n",
    "$\\text{Utilisons la phase I du simplexe pour montrer que ce système de possède pas de solution}$\n",
    "\n",
    "$\\text{On converti le problème sous forme standard à l'introduction de deux variables artificiels}$ $x_3,$ $x_4,$ $\\text{on a;}$\n",
    "\n",
    "\\begin{array}{ccccc}\n",
    "    \\min\\ &&&x_3  &+x_4\\\\\n",
    "    \\text{tel que}&x_1  &+x_2  &+x_3 &&= 1\\\\\n",
    "    &x_1  &+x_2  &&+x_4 &= 2\\\\\n",
    "    &x_1, &x_2, &x_3, &x_4 &\\geq 0\\\\\n",
    "\\end{array}\n",
    "\n",
    "$\\text{On obtient le problème sous forme de tableau}$\n",
    "\\begin{array}{ccccc}\n",
    "    &x_1 & x_2 & x_3 &x_4 & b\\\\\n",
    "    &1   & 1   & 1   & 0  & 1\\\\\n",
    "    &1   & 1   & 0   & 1  & 2\\\\\n",
    "    c^T& 0   &0 &1 &1 &0\\\\\n",
    "\\end{array}\n",
    "$\\text{Pour obtenir une solution de base réalisable, il faut annuler les\n",
    "coefficients de}$ $x_3$ $\\text{et}$ $x_4.$ $\\text{Nous obtenons le nouveau tableau}$\n",
    "\\begin{array}{ccccc}\n",
    "    &x_1 & x_2 & x_3 &x_4 & b\\\\\n",
    "    &1   & 1   & 1   & 0  & 1\\\\\n",
    "    &1   & 1   & 0   & 1  & 2\\\\\n",
    "c^T &-2   &-2    &0    &0   &0\\\\\n",
    "\\end{array}\n",
    "\n",
    "$\\text{On peut maintenant continuer la résolution du système en utilisant le simplexe, comme d’ordinaire}$"
   ]
  }
 ],
 "metadata": {
  "kernelspec": {
   "display_name": "Python 3 (ipykernel)",
   "language": "python",
   "name": "python3"
  },
  "language_info": {
   "codemirror_mode": {
    "name": "ipython",
    "version": 3
   },
   "file_extension": ".py",
   "mimetype": "text/x-python",
   "name": "python",
   "nbconvert_exporter": "python",
   "pygments_lexer": "ipython3",
   "version": "3.11.4"
  }
 },
 "nbformat": 4,
 "nbformat_minor": 2
}
