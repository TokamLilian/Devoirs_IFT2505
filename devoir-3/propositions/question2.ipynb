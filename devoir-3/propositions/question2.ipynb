{
 "cells": [
  {
   "cell_type": "markdown",
   "metadata": {},
   "source": [
    "## $\\textbf{Question 2}$"
   ]
  },
  {
   "cell_type": "markdown",
   "metadata": {},
   "source": [
    "$\\text{Soit le problème de programmation linéaire: }$"
   ]
  },
  {
   "cell_type": "markdown",
   "metadata": {},
   "source": [
    "\\begin{align*}\n",
    "    \\min_x\\ & 3x_2 + 4x_3 + 5x_4\\\\\n",
    "    \\text{t.q.}\\ &\n",
    "        x_1 + x_3 \\ge 3\\\\\n",
    "        & x_2 + 2x_3 + x_4 \\ge4\\\\\n",
    "        & x_4 \\geq 2 \\\\\n",
    "        & x_1, x_2, x_3, x_4 \\ge 0\n",
    "\\end{align*}"
   ]
  },
  {
   "cell_type": "markdown",
   "metadata": {},
   "source": [
    "$\\text{On a le problème suivant sous forme standard,}$\n",
    "\\begin{align*}\n",
    "    \\min_x\\ & 3x_2 + 4x_3 + 5x_4\\\\\n",
    "    \\text{t.q.}\\ &\n",
    "        x_1 + x_3 -x_5 = 3\\\\\n",
    "        & x_2 + 2x_3 + x_4 -x_6 = 4\\\\\n",
    "        & x_4 - x_7 = 2 \\\\\n",
    "        & x_1, x_2, x_3, x_4, x_5, x_6, x_7 \\ge 0\n",
    "\\end{align*}\n"
   ]
  },
  {
   "cell_type": "markdown",
   "metadata": {},
   "source": [
    "\\begin{align*}\n",
    "    \\min_x\\ & 3x_2 + 4x_3 + 5x_4\\\\\n",
    "    \\text{t.q.}\\ &\n",
    "        -x_1 - x_3 + x_5 = -3\\\\\n",
    "        & -x_2 - 2x_3 - x_4 + x_6 = -4\\\\\n",
    "        & -x_4 + x_7 = -2 \\\\\n",
    "        & x_1, x_2, x_3, x_4, x_5, x_6, x_7 \\ge 0\n",
    "\\end{align*}"
   ]
  },
  {
   "cell_type": "markdown",
   "metadata": {},
   "source": [
    "\\begin{align*}\n",
    "    \\begin{array} {c|ccccccc|c}\n",
    "        v.d & x_1 & x_2 & x_3 & x_4 & x_5 & x_6 & x_7 & \\text{t.d.}\\\\\n",
    "        \\hline\n",
    "        x_5 &-1 & 0 & -1 & 0 & 1 & 0 & 0 & -3\\\\\n",
    "        x_6 & 0 &-1 & -2 &-1 & 0 & 1 & 0 & -4\\\\\n",
    "        x_7 & 0 & 0 &  0 &-1 & 0 & 0 & 1 &-2\\\\\n",
    "        \\hline\n",
    "        -z & 0 & 3 & 4 & 5 & 0 & 0 & 0 & 0\n",
    "    \\end{array}\n",
    "\\end{align*}"
   ]
  },
  {
   "cell_type": "code",
   "execution_count": null,
   "metadata": {},
   "outputs": [],
   "source": [
    "struct SimplexTableau\n",
    "    z_c     ::Array{Float64}          # coûts réduits\n",
    "    Y       ::Array{Vector{Float64}}  # contraintes linéaires\n",
    "    x_B     ::Array{Float64}          # solution de base\n",
    "    obj     ::Float64                 # valeur de la fonction objectif\n",
    "    b_idx   ::Array{Int64}            # indices des variables de bases\n",
    "\n",
    "    function SimplexTableau(z_c, Y, x_B, obj, b_idx)\n",
    "      new(z_c, Y, x_B, obj, b_idx)\n",
    "    end\n",
    "\n",
    "end \n",
    "\n",
    "\n",
    "function pivot_point(tableau_simplexe)\n",
    "    # Récupération des indices des variables de base\n",
    "    b_idx = tableau_simplexe.b_idx\n",
    "\n",
    "    # Calcul des coûts réduits des variables non de base\n",
    "    z_c = tableau_simplexe.z_c\n",
    "    \n",
    "    # Sélection de la variable d'entrée (variable avec le coût réduit le plus négatif)\n",
    "    indice_variable_entree = argmin(z_c)\n",
    "\n",
    "    # Récupération des coefficients de la colonne correspondant à la variable d'entrée\n",
    "    colonne_variable_entree = [ligne[indice_variable_entree] \n",
    "                                for ligne in tableau_simplexe.Y]\n",
    "\n",
    "    # Sélection de la variable de sortie (variable de base avec le rapport positif minimal)\n",
    "    indices_sortants = findall(x -> x > 0, colonne_variable_entree)\n",
    "\n",
    "    rapport_minimal = Inf\n",
    "    indice_variable_sortante = nothing\n",
    "\n",
    "    for indice_sortant in indices_sortants\n",
    "        rapport = tableau_simplexe.x_B[b_idx[indice_sortant]] / colonne_variable_entree[indice_sortant]\n",
    "        if rapport < rapport_minimal\n",
    "            rapport_minimal = rapport\n",
    "            indice_variable_sortante = indice_sortant\n",
    "        end\n",
    "    end\n",
    "\n",
    "    # Retourner les indices de la variable d'entrée et de sortie\n",
    "    return indice_variable_entree, b_idx[indice_variable_sortante]\n",
    "end\n",
    "\n",
    "\n",
    "function pivoting!(t::SimplexTableau)\n",
    "  #m, n = size(t.Y)   #for y :: array {float64}\n",
    "  m, n = length(t.Y), length(t.Y[1])\n",
    "\n",
    "  entering, exiting = pivot_point(t)\n",
    "\n",
    "  # Pivoting: exiting-row, entering-column\n",
    "  # updating exiting-row\n",
    "  coef = t.Y[exiting, entering]\n",
    "  t.Y[exiting, :] /= coef\n",
    "  t.x_B[exiting] /= coef\n",
    "\n",
    "  # updating other rows of Y\n",
    "  for i in setdiff(1:m, exiting)\n",
    "    coef = t.Y[i, entering]\n",
    "    t.Y[i, :] -= coef * t.Y[exiting, :]\n",
    "    t.x_B[i] -= coef * t.x_B[exiting]\n",
    "  end\n",
    "\n",
    "  # updating the row for the reduced costs\n",
    "  coef = t.z_c[entering]\n",
    "  t.z_c -= coef * t.Y[exiting, :]\n",
    "  t.obj -= coef * t.x_B[exiting]\n",
    "\n",
    "  # Updating b_idx\n",
    "  t.b_idx[ findall(t.b_idx .== t.b_idx[exiting]) ] = entering\n",
    "end  \n",
    "\n",
    "nouveauTableau = SimplexTableau([0, 3, 4, 5, 0, 0, 0], \n",
    "                            [ [-1//1, 0, -1, 0, 1, 0, 0],\n",
    "                              [0, -1, -2, -1, 0, 1, 0],\n",
    "                              [0,  0,  0, -1, 0, 0, 1] ],\n",
    "                            [-3, -4, -2],\n",
    "                            0,\n",
    "                            [5, 6, 7])\n",
    "\n",
    "pivoting!(nouveauTableau)\n"
   ]
  }
 ],
 "metadata": {
  "kernelspec": {
   "display_name": "Julia 1.9.3",
   "language": "julia",
   "name": "julia-1.9"
  },
  "language_info": {
   "file_extension": ".jl",
   "mimetype": "application/julia",
   "name": "julia",
   "version": "1.9.3"
  },
  "orig_nbformat": 4
 },
 "nbformat": 4,
 "nbformat_minor": 2
}
