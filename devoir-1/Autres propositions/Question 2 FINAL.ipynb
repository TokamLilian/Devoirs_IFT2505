{
 "cells": [
  {
   "cell_type": "markdown",
   "metadata": {},
   "source": [
    "## $\\textbf{Question 2}$"
   ]
  },
  {
   "cell_type": "markdown",
   "metadata": {},
   "source": [
    "$\\textbf{Soit le problème écrit au long :}$\n",
    "\\begin{align*}\n",
    "  \\min\\           & c_1x_1+\\dots+c_nx_n \\\\\n",
    "  \\text{tel que } &   a_1x_1 +\\dots+a_nx_n ≤ b \\\\\n",
    "                  &   x_1,\\dots, x_n \\geq 0\n",
    "\\end{align*}"
   ]
  },
  {
   "cell_type": "markdown",
   "metadata": {},
   "source": [
    " $\\textbf{On considère}$ $x_k$ $\\textbf{comme la variable de base du problème avec}$ ${A = (a_1 \\dots a_k \\dots a_n)}.$ \n",
    "\n",
    "$\\textbf{Comme}$ $x_k$ $\\textbf{est l'unique variable de base du problème nous avons : }$"
   ]
  },
  {
   "cell_type": "markdown",
   "metadata": {},
   "source": [
    "$ B = (a_k) \\implies B^{-1} = \\frac{1}{a_k}$"
   ]
  },
  {
   "cell_type": "markdown",
   "metadata": {},
   "source": [
    "$\\textbf{On a donc : }$ $Ax = b \\implies Bx_b = b \\implies x_b = bB^{-1} \\implies x_k = \\frac{b}{a_k} $"
   ]
  },
  {
   "cell_type": "markdown",
   "metadata": {},
   "source": [
    "\\begin{align*}&\n",
    "Où & X = \\begin{pmatrix}\n",
    "      x_b & 0\n",
    "\\end{pmatrix}\n",
    "\\begin{pmatrix}\n",
    "0 \\\\\n",
    "\\vdots \\\\\n",
    "\\frac{b}{a_k} \\\\\n",
    "\\vdots \\\\\n",
    "0\n",
    "\\end{pmatrix}\n",
    "\\end{align*}"
   ]
  },
  {
   "cell_type": "markdown",
   "metadata": {},
   "source": [
    "$\\textbf{C'est une solution de base non dégénérée puisque}$ $b>0$ $\\textbf{et}$ $a_k$>0  $\\textbf{(1)}$\n",
    "\n",
    "$\\textbf{On a que l'indice k satisfait la relation}$ $\\frac{c_k}{a_k} = \\underset{j = 1, \\dots, n}\\min \\{\\frac{c_j}{a_j}\\}$\n",
    "\n"
   ]
  },
  {
   "cell_type": "markdown",
   "metadata": {},
   "source": [
    "$\\textbf{par le fait que }$ $\\frac{c_k}{a_k}$ $\\textbf{est le}$ $\\underset{j = 1, \\dots, n}\\min \\{\\frac{c_j}{a_j}\\}$ $\\textbf{et  par (1) on a ainsi :}$"
   ]
  },
  {
   "cell_type": "markdown",
   "metadata": {},
   "source": [
    " $z =  c_k \\frac{b}{a_k} = \\frac{c_k}{a_k} * b$ $\\textbf{alors}$ \n",
    "\\begin{align*}&\n",
    "X =\n",
    "\\begin{pmatrix}\n",
    "0 \\\\\n",
    "\\vdots \\\\\n",
    "\\frac{b}{a_k} \\\\\n",
    "\\vdots \\\\\n",
    "0\n",
    "\\end{pmatrix}\n",
    "\\end{align*}"
   ]
  },
  {
   "cell_type": "markdown",
   "metadata": {},
   "source": [
    "$\\textbf{Puisque}$ $b$ $\\textbf{est constant et qu'il apparaît pour toute solutions de base non dégénérée,}$\n",
    "$\\textbf{on peut se concentrer uniquement sur la valeure de}$ $\\frac{c_j}{a_j}$.\n",
    "$\\textbf{afin d'évaluer la fonction objective.}$\n",
    "\n",
    "$\\textbf{Donc comme}$ $\\frac{c_k}{a_k}$ $\\textbf{est le}$ $\\underset{j = 1, \\dots, n}\\min \\{\\frac{c_j}{a_j}\\}$\n",
    "$\\textbf{Alors la solution est optimale pour}$ $\\frac{c_k}{a_k.}$"
   ]
  },
  {
   "cell_type": "markdown",
   "metadata": {},
   "source": [
    "$\\textbf{X est bien une solution de base optimale non dégénérée puisque}$ $z$ $\\textbf{est minimisé lorsqu'on choisi}$ $x_k$ $\\textbf{comme variable de base.}$"
   ]
  },
  {
   "cell_type": "markdown",
   "metadata": {},
   "source": [
    "$\\textbf{Par le théorème fondamentale de la programmation linéaire, c'est aussi une solution optimale du problème.}$"
   ]
  }
 ],
 "metadata": {
  "kernelspec": {
   "display_name": "Python 3 (ipykernel)",
   "language": "python",
   "name": "python3"
  },
  "language_info": {
   "codemirror_mode": {
    "name": "ipython",
    "version": 3
   },
   "file_extension": ".py",
   "mimetype": "text/x-python",
   "name": "python",
   "nbconvert_exporter": "python",
   "pygments_lexer": "ipython3",
   "version": "3.11.4"
  }
 },
 "nbformat": 4,
 "nbformat_minor": 4
}
