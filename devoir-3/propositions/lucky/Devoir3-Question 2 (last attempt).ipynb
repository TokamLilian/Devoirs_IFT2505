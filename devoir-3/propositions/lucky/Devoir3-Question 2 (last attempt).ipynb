{
 "cells": [
  {
   "cell_type": "code",
   "execution_count": 1,
   "id": "29b79993",
   "metadata": {},
   "outputs": [
    {
     "data": {
      "text/plain": [
       "simplexSolver (generic function with 1 method)"
      ]
     },
     "execution_count": 1,
     "metadata": {},
     "output_type": "execute_result"
    }
   ],
   "source": [
    "#code de la demo 3\n",
    "function pivot!(M::Matrix, i::Int, j::Int)\n",
    "    m, n = size(M)\n",
    "    @assert M[i, j] != 0\n",
    "    M[i, :] = M[i, :]/M[i, j]\n",
    "    for k in setdiff(1:m, i)\n",
    "        M[k, :] -= M[k, j] * M[i, :]\n",
    "    end\n",
    "    return M\n",
    "end\n",
    "\n",
    "function getReducedCosts(M::Matrix)\n",
    "    m, n = size(M)\n",
    "    return M[end, 1:n-1]\n",
    "end\n",
    "function getxB(M::Matrix)\n",
    "    m, n = size(M)\n",
    "    return M[1:m-1, end]\n",
    "end\n",
    "function enteringVar(M::Matrix)\n",
    "    rc = getReducedCosts(M)\n",
    "    index = argmin(rc)\n",
    "    return rc[index] >= 0 ? -1 : index\n",
    "end\n",
    "function exitingVarIndex(M::Matrix{T}, enteringVar::Int) where T\n",
    "    col = M[1:end-1, enteringVar]\n",
    "    xB = getxB(M)\n",
    "    m, n = size(M)\n",
    "    index = -1\n",
    "    val = T(Inf)\n",
    "    for i in 1:m-1\n",
    "        if (col[i] > 0) && (xB[i]/col[i] < val)\n",
    "            val = xB[i]/col[i]\n",
    "            index = i\n",
    "        end\n",
    "    end\n",
    "    return index\n",
    "end\n",
    "function isOneHot(v::Vector)\n",
    "    n = length(v)\n",
    "    return (sum(iszero, v) == n-1) && (sum(isone, v) == 1)\n",
    "end \n",
    "function isoptimal(M)\n",
    "    return enteringVar(M) == -1\n",
    "end\n",
    "function findInitialBasis!(M::Matrix)\n",
    "    m, n = size(M)\n",
    "    m-=1\n",
    "    n-=1\n",
    "    basis = [-1 for _ in 1:m]\n",
    "    for i in 1:n\n",
    "        if isOneHot(M[1:end-1, i])\n",
    "            index = findfirst(isone, M[:, i])\n",
    "            basis[index] = i\n",
    "        end\n",
    "    end\n",
    "    @assert !any(t-> t == -1, basis) \"problem not caconical\"\n",
    "    for i in 1:m\n",
    "        j = basis[i]\n",
    "        pivot!(M, i, j)\n",
    "    end\n",
    "    return basis\n",
    "end\n",
    "function simplexSolver(A::Matrix{T}, b::Vector, c::Vector; \n",
    "        verbose::Bool = false) where T\n",
    "    M = [A b; c' 0]\n",
    "    basis = findInitialBasis!(M)\n",
    "    k = 1\n",
    "    nmax = 1000\n",
    "    while !isoptimal(M) && k < nmax\n",
    "        k+=1\n",
    "        verbose && display(M)\n",
    "        entering = enteringVar(M)\n",
    "        entering == -1 && (println(\"------------\"); return T[-1, -1])\n",
    "        leaving = exitingVarIndex(M, entering)\n",
    "        leaving == -1 && (println(\"------------\"); return T[-1, -1])\n",
    "        verbose && @show (entering, leaving)\n",
    "        basis[leaving] = entering\n",
    "        pivot!(M, leaving, entering)\n",
    "    end\n",
    "    verbose && display(M)\n",
    "    m, n = size(M)\n",
    "    xstar = zeros(T, n - 1)\n",
    "    xstar[basis] = getxB(M)\n",
    "    #return xstar #code modifié ici. On retourne le tableau du simplex au lieux de la solution\n",
    "    return M\n",
    "end"
   ]
  },
  {
   "cell_type": "code",
   "execution_count": 2,
   "id": "1ac88772",
   "metadata": {},
   "outputs": [
    {
     "data": {
      "text/plain": [
       "DualsimplexSolver (generic function with 1 method)"
      ]
     },
     "execution_count": 2,
     "metadata": {},
     "output_type": "execute_result"
    }
   ],
   "source": [
    "#feasible vérifie si le tableau du simplexe contient une solution primale réalisable\n",
    "function feasible(M::Matrix{T}) where T\n",
    "    b = M[1:end-1, end]\n",
    "    # Vérifier si tous les éléments de b sont non-négatifs\n",
    "    return all(b .>= 0)\n",
    "end\n",
    "\n",
    "#retourrne la ligne du tableau du simplex dont la variable de base va sortir de la base\n",
    "function findLeavingVarInDual(M::Matrix{T}) where T\n",
    "    min_ratio = 0\n",
    "    index_of_min_ratio = -1\n",
    "    \n",
    "    for i in 1:(size(M, 1) - 1)\n",
    "        if M[i, end] < 0\n",
    "            ratio = M[i, end] / M[i, i]\n",
    "            if ratio < min_ratio\n",
    "                min_ratio = ratio\n",
    "                index_of_min_ratio = i\n",
    "            end\n",
    "        end\n",
    "    end\n",
    "    \n",
    "    return index_of_min_ratio\n",
    "end\n",
    "\n",
    "#retourne la variable qui va entrer dans la base. Si aucune variable ne peut entrer dans\n",
    "#la base, on retourne -1.\n",
    "function findEnteringVarInDual(M::Matrix{T}, leaving::Int) where T\n",
    "    n = size(M, 2) - 1  \n",
    "    max_ratio = -Inf\n",
    "    entering = -1\n",
    "    for j in 1:n\n",
    "        if M[leaving, j] < 0  \n",
    "            cost_reduced = M[end, j]\n",
    "            ratio = cost_reduced / M[leaving, j]\n",
    "            if ratio > max_ratio  \n",
    "                max_ratio = ratio\n",
    "                entering = j\n",
    "            end\n",
    "        end\n",
    "    end\n",
    "    return entering\n",
    "end\n",
    "\n",
    "function DualsimplexSolver(A::Matrix{T}, b::Vector, c::Vector; \n",
    "        verbose::Bool = false) where T\n",
    "    @assert all(c .>= 0) #dual feasibility\n",
    "    M = [A b; c' 0]\n",
    "    basis = findInitialBasis!(M)\n",
    "    k = 1\n",
    "    nmax = 1000\n",
    "    while !feasible(M) && k < nmax\n",
    "        k+=1\n",
    "        verbose && display(M)\n",
    "        leaving = findLeavingVarInDual(M)\n",
    "        entering = findEnteringVarInDual(M, leaving)\n",
    "        if entering == -1\n",
    "            println(\"aucune variable ne peut entrer dans la base.\")\n",
    "            println(\"problème non réalisable\")\n",
    "        end\n",
    "        verbose && @show (entering, leaving)\n",
    "        basis[leaving] = entering\n",
    "        pivot!(M, leaving, entering)\n",
    "    end\n",
    "    verbose && display(M)\n",
    "    m, n = size(M)\n",
    "    xstar = zeros(T, n - 1)\n",
    "    xstar[basis] = getxB(M)\n",
    "    return xstar\n",
    "end"
   ]
  },
  {
   "cell_type": "code",
   "execution_count": 3,
   "id": "1eaf03e8",
   "metadata": {},
   "outputs": [],
   "source": [
    "using LinearAlgebra"
   ]
  },
  {
   "cell_type": "code",
   "execution_count": 4,
   "id": "76c6c1c3",
   "metadata": {},
   "outputs": [
    {
     "name": "stdout",
     "output_type": "stream",
     "text": [
      "size(A) = (3, 7)\n",
      "size(b) = (3,)\n",
      "size(c) = (7,)\n"
     ]
    }
   ],
   "source": [
    "Atilde = [1//1 0 1 0; 0 1 2 1; 0 0 0 1]\n",
    "A = -[Atilde -I(3)]\n",
    "@show size(A)\n",
    "b = -[3, 4, 2]\n",
    "@show size(b)\n",
    "c = [0, 3, 4, 5, 0, 0, 0]\n",
    "@show size(c);"
   ]
  },
  {
   "cell_type": "code",
   "execution_count": 5,
   "id": "fd2d0454",
   "metadata": {},
   "outputs": [
    {
     "data": {
      "text/plain": [
       "4×8 Matrix{Rational{Int64}}:\n",
       " -1//1   0//1  -1//1   0//1  1//1  0//1  0//1  -3//1\n",
       "  0//1  -1//1  -2//1  -1//1  0//1  1//1  0//1  -4//1\n",
       "  0//1   0//1   0//1  -1//1  0//1  0//1  1//1  -2//1\n",
       "  0//1   3//1   4//1   5//1  0//1  0//1  0//1   0//1"
      ]
     },
     "metadata": {},
     "output_type": "display_data"
    },
    {
     "name": "stdout",
     "output_type": "stream",
     "text": [
      "(entering, leaving) = (4, 3)\n"
     ]
    },
    {
     "data": {
      "text/plain": [
       "4×8 Matrix{Rational{Int64}}:\n",
       " -1//1   0//1  -1//1  0//1  1//1  0//1   0//1   -3//1\n",
       "  0//1  -1//1  -2//1  0//1  0//1  1//1  -1//1   -2//1\n",
       "  0//1   0//1   0//1  1//1  0//1  0//1  -1//1    2//1\n",
       "  0//1   3//1   4//1  0//1  0//1  0//1   5//1  -10//1"
      ]
     },
     "metadata": {},
     "output_type": "display_data"
    },
    {
     "ename": "LoadError",
     "evalue": "BoundsError: attempt to access 4×8 Matrix{Rational{Int64}} at index [-1, 1]",
     "output_type": "error",
     "traceback": [
      "BoundsError: attempt to access 4×8 Matrix{Rational{Int64}} at index [-1, 1]",
      "",
      "Stacktrace:",
      " [1] getindex",
      "   @ .\\essentials.jl:14 [inlined]",
      " [2] findEnteringVarInDual(M::Matrix{Rational{Int64}}, leaving::Int64)",
      "   @ Main .\\In[2]:33",
      " [3] DualsimplexSolver(A::Matrix{Rational{Int64}}, b::Vector{Int64}, c::Vector{Int64}; verbose::Bool)",
      "   @ Main .\\In[2]:56",
      " [4] top-level scope",
      "   @ In[5]:1"
     ]
    }
   ],
   "source": [
    "xstar = DualsimplexSolver(A, b, c, verbose=true);"
   ]
  },
  {
   "cell_type": "code",
   "execution_count": null,
   "id": "482edf3d",
   "metadata": {},
   "outputs": [],
   "source": []
  }
 ],
 "metadata": {
  "kernelspec": {
   "display_name": "Julia 1.9.3",
   "language": "julia",
   "name": "julia-1.9"
  },
  "language_info": {
   "file_extension": ".jl",
   "mimetype": "application/julia",
   "name": "julia",
   "version": "1.9.3"
  }
 },
 "nbformat": 4,
 "nbformat_minor": 5
}
