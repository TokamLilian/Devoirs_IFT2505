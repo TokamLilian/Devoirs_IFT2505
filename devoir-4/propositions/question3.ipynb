{
 "cells": [
  {
   "cell_type": "markdown",
   "metadata": {},
   "source": [
    "## $\\textbf{Question 3}$"
   ]
  },
  {
   "cell_type": "code",
   "execution_count": 7,
   "metadata": {},
   "outputs": [
    {
     "data": {
      "text/plain": [
       "centre_analytique (generic function with 1 method)"
      ]
     },
     "metadata": {},
     "output_type": "display_data"
    }
   ],
   "source": [
    "using JuMP\n",
    "using Ipopt\n",
    "\n",
    "function centre_analytique(A, b)\n",
    "    m, n = size(A)\n",
    "    \n",
    "    model = Model(optimizer_with_attributes(Ipopt.Optimizer, \"print_level\" => 0))\n",
    "    \n",
    "    @variable(model, x[1:n])\n",
    "    @variable(model, t[1:m])\n",
    "    \n",
    "    for i in 1:m\n",
    "        @constraint(model, sum(A[i, j] * x[j] for j in 1:n) - b[i] <= t[i])\n",
    "    end\n",
    "\n",
    "    @objective(model, Min, sum(t))\n",
    "\n",
    "    optimize!(model)\n",
    "    \n",
    "    return value.(x)\n",
    "end"
   ]
  },
  {
   "cell_type": "code",
   "execution_count": 8,
   "metadata": {},
   "outputs": [
    {
     "name": "stdout",
     "output_type": "stream",
     "text": [
      "\n",
      "******************************************************************************\n",
      "This program contains Ipopt, a library for large-scale nonlinear optimization.\n",
      " Ipopt is released as open source code under the Eclipse Public License (EPL).\n",
      "         For more information visit https://github.com/coin-or/Ipopt\n",
      "******************************************************************************\n",
      "\n",
      "Le centre analytique est : "
     ]
    },
    {
     "name": "stdout",
     "output_type": "stream",
     "text": [
      "[0.8000000039999999, 0.8000000039999999]\n"
     ]
    }
   ],
   "source": [
    "# Définir les matrices A et b pour les contraintes données\n",
    "A = [1 1; -1 -1; 1 -1; -1 1]\n",
    "b = [3, -1, 1, 1]\n",
    "\n",
    "# Calculer le centre analytique\n",
    "centre = centre_analytique(A, b)\n",
    "\n",
    "# Afficher le résultat\n",
    "println(\"Le centre analytique est : \", centre)"
   ]
  }
 ],
 "metadata": {
  "kernelspec": {
   "display_name": "Julia 1.9.3",
   "language": "julia",
   "name": "julia-1.9"
  },
  "language_info": {
   "file_extension": ".jl",
   "mimetype": "application/julia",
   "name": "julia",
   "version": "1.9.3"
  },
  "orig_nbformat": 4
 },
 "nbformat": 4,
 "nbformat_minor": 2
}
