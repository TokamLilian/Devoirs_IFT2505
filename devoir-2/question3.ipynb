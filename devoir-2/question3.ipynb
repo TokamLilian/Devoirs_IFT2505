{
 "cells": [
  {
   "cell_type": "markdown",
   "metadata": {},
   "source": [
    "## $\\textbf{Question 3}$"
   ]
  },
  {
   "cell_type": "markdown",
   "metadata": {},
   "source": [
    "- $\\textbf{(a) Identifions les variables de base Initiales et Determinons}$ $B^{-1}$ $\\textbf{:}$\n",
    "\\begin{align*}\n",
    "    \\begin{array}{cccccc}\n",
    "    x_1 & x_2 & x_3 & x4 & x_5 & b \\\\\n",
    "    a & b & c & 1 & 0 & 6 \\\\\n",
    "    -1 & 2 & e & 0 & 1 & 1 \\\\\n",
    "    d & -1 & 3 & 0 & 0 & 0 \\\\\n",
    "    \\end{array}\n",
    "\\end{align*}"
   ]
  },
  {
   "cell_type": "markdown",
   "metadata": {},
   "source": [
    "$\\text{Les variables de base initiales sont}$ $x_4$ $\\text{et}$ $x_5$ $\\text{car elles leurs coeficients forment la matrice indentité.}$"
   ]
  },
  {
   "cell_type": "markdown",
   "metadata": {},
   "source": [
    "\\begin{align*}\n",
    "    B = \n",
    "    \\begin{pmatrix}\n",
    "        1 & 0\\\\\n",
    "        0 & 1 \\\\\n",
    "    \\end{pmatrix}\n",
    "    B^{-1} = \n",
    "    \\begin{pmatrix}\n",
    "        1 & 0 \\\\\n",
    "        0 & 1\n",
    "    \\end{pmatrix}\n",
    "\\end{align*}"
   ]
  },
  {
   "cell_type": "markdown",
   "metadata": {},
   "source": [
    "- $\\textbf{(b) Identifions les variables de base Initiales et Determinons}$ $B^{-1}$ $\\textbf{sur la deuxième itération:}$"
   ]
  },
  {
   "cell_type": "markdown",
   "metadata": {},
   "source": [
    "\\begin{align*}\n",
    "    \\begin{array}{cccccc}\n",
    "    x_1 & x_2 & x_3 & x4 & x_5 & b \\\\\n",
    "    f & 2/3 & 2/3 & 1/3 & 0 & i \\\\\n",
    "    g & h & -1/3 & 1/3 & 1 & j \\\\\n",
    "    0 & 1/3 & k & l & m & n \\\\\n",
    "    \\end{array}\n",
    "\\end{align*}"
   ]
  },
  {
   "cell_type": "markdown",
   "metadata": {},
   "source": [
    "$\\text{Les variables de base initiales sont}$ $x_1$ $\\text{et}$ $x_5$ "
   ]
  },
  {
   "cell_type": "markdown",
   "metadata": {},
   "source": [
    "$\\text{On obtient}$ $B^{-1}$ $\\text{directement depuis le nouveau tableau du simplexe:}$\n",
    "\\begin{align*}\n",
    "    B^{-1} = \n",
    "    \\begin{pmatrix}\n",
    "        1/3 & 0 \\\\\n",
    "        1/3 & 1\n",
    "    \\end{pmatrix}\n",
    "\\end{align*}"
   ]
  },
  {
   "cell_type": "markdown",
   "metadata": {},
   "source": [
    "- $\\textbf{(c) Trouvons les valeurs de a, b, c, d, e, f, g, h, i, j, k, l, m, n}$"
   ]
  },
  {
   "cell_type": "markdown",
   "metadata": {},
   "source": [
    "$\\text{On refait les étapes du simplexe sur le tableau initiale, on a;}$"
   ]
  },
  {
   "cell_type": "markdown",
   "metadata": {},
   "source": [
    "\\begin{align*}\n",
    "    \\begin{array}{cccccc}\n",
    "    x_1 & x_2 & x_3 & x4 & x_5 & b \\\\\n",
    "    \\color{red}a & b & c & 1 & 0 & 6 \\\\\n",
    "    -1 & 2 & e & 0 & 1 & 1 \\\\\n",
    "    d & -1 & 3 & 0 & 0 & 0 \\\\\n",
    "    \\end{array}\n",
    "\\end{align*}\n",
    "\n",
    "$x_1$ $\\text{entre dans la base donc on divise toute la première ligne par}$ $a$ $\\text{et on rend}$ $x_1$ $\\text{variable isolée en additionant la ligne 1 à la ligne 2 et en soustrayant d fois la ligne 1 à la ligne 3, on obtient}:$"
   ]
  },
  {
   "cell_type": "markdown",
   "metadata": {},
   "source": [
    "\\begin{align*}\n",
    "    \\begin{array}{cccccc}\n",
    "    x_1 & x_2 & x_3 & x4 & x_5 & b \\\\\n",
    "    1 & b/a & c/a & 1/a & 0 & 6/a \\\\\n",
    "    0 & 2+(b/a) & e+(c/a) & 0+(1/a) & 1 & 1+(6/a) \\\\\n",
    "    0 & -1-d(b/a) & 3-d(c/a) & 0-d(1/a) & 0 & 0-d(6/a) \\\\\n",
    "    \\end{array}\n",
    "\\end{align*}"
   ]
  },
  {
   "cell_type": "markdown",
   "metadata": {},
   "source": [
    "$\\text{En comaparant le tableau obtenu avec le premier et le deuxième tableau du simplexe donnés par l'énoncé, on a}$ $\\\\$\n",
    "\\begin{align*}\n",
    "\\begin{array}{ll}\n",
    "&f=1, g=0, a=3, m=0,\\\\\n",
    "b/a = 2/3 &\\implies b=2,\\\\\n",
    "c/a = 2/3 &\\implies c=2, \\\\\n",
    "i=6/a &\\implies i=2,\\\\\n",
    "h=2+b/a &\\implies h=8/3,\\\\\n",
    "e+(c/a) = -1/3 &\\implies e=-1,\\\\\n",
    "j=1+(6/a) &\\implies j=3,\\\\\n",
    "-1-d(b/a)=1/3 &\\implies d=-2,\\\\\n",
    "k=3-d(c/a) &\\implies k=13/3,\\\\\n",
    "l=0-d(1/a) &\\implies l=2/3,\\\\\n",
    "n = 0 - d(6/a) &\\implies n=4\n",
    "\\end{array}\n",
    "\\end{align*}"
   ]
  },
  {
   "cell_type": "markdown",
   "metadata": {},
   "source": [
    "- $\\textbf{(d) Tableau de la deuxième itération}$ $\\\\$\n",
    "$\\text{En remplaçant les valeurs obtenues en}$ $c)$ $\\text{on obtient le tableau suivant;}$\n"
   ]
  },
  {
   "cell_type": "markdown",
   "metadata": {},
   "source": [
    "\\begin{align*}\n",
    "    \\begin{array}{c|ccccc|c}\n",
    "    &x_1 & x_2 & x_3 & x4 & x_5 & b \\\\\n",
    "    \\hline\n",
    "    x_1 &1 & 2/3 & 2/3 & 1/3 & 0 & 2 \\\\\n",
    "    x_5 &0 & 8/3 & -1/3 & 1/3 & 1 & 3 \\\\\n",
    "    \\hline\n",
    "    r^T &0 & 1/3 & 13/3 & 2/3 & 0 & 4 \\\\\n",
    "    \\end{array}\n",
    "\\end{align*}"
   ]
  },
  {
   "cell_type": "markdown",
   "metadata": {},
   "source": [
    "$\\text{On a la solution réalisable non dégénérée qui est}$ $(x_1, x_2, x_3, x_4, x_5) = (2, 0, 0, 0, 3)$ $\\text{avec}$ $z^* = -4$ $\\text{la solution optimale car tous les coûts réduits sont non négatifs.}$ $\\\\$"
   ]
  },
  {
   "cell_type": "markdown",
   "metadata": {},
   "source": [
    "- $\\textbf{(e) Écrivons le problème initial}$ $\\\\$\n",
    "$\\text{En remplaçant les valeurs obtenues en}$ $c)$ $\\text{dans le tableau initial du simplexe, on obtient;}$\n",
    "\n",
    "\\begin{align*} \n",
    "\\begin{array}{l c c c c c c c c c} \n",
    "  \\min\\  z  =       &-2x_1   & - &  x_2  & + &  3x_3   \\\\ \n",
    "  \\text{tel que }   &  3x_1  & + &  2x_2  & + &  2x_3 & + &  x_4   &&  =  & 6  \\\\ \n",
    "                    &  -x_1  & + &  2x_2  & + & -x_3 && + &  x_5   &   =  & 1  \\\\ \n",
    "            & x_1, && x_2, && x_3 , && x_4, & x_5 & \\geq & 0      \\\\ \n",
    "\\end{array} \n",
    "\\end{align*}"
   ]
  }
 ],
 "metadata": {
  "language_info": {
   "name": "python"
  },
  "orig_nbformat": 4
 },
 "nbformat": 4,
 "nbformat_minor": 2
}
