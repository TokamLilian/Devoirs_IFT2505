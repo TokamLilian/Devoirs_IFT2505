{
 "cells": [
  {
   "cell_type": "markdown",
   "metadata": {},
   "source": [
    "<div></div>"
   ]
  },
  {
   "cell_type": "markdown",
   "metadata": {},
   "source": [
    "<div></div>"
   ]
  },
  {
   "cell_type": "markdown",
   "metadata": {},
   "source": [
    "\\begin{align*}\n",
    "\\textbf{DEVOIR 2}\n",
    "\\end{align*}"
   ]
  },
  {
   "cell_type": "markdown",
   "metadata": {},
   "source": [
    "<div></div>"
   ]
  },
  {
   "cell_type": "markdown",
   "metadata": {},
   "source": [
    "<div style=\"text-align:center; font-family:Times New Roman; font-size:22px\">\n",
    "    ROMAN NAKHUDA 20207082\n",
    "</div>\n",
    "\n",
    "<div style=\"text-align:center; font-family:Times New Roman; font-size:22px\">\n",
    "    LUCKY KHOUNVONGSA 20172476\n",
    "</div>\n",
    "<div style=\"text-align:center; font-family:Times New Roman; font-size:22px\">\n",
    "    ANGE LILIAN TCHOMTCHOUA TOKAM 20210129\n",
    "</div>"
   ]
  },
  {
   "cell_type": "markdown",
   "metadata": {},
   "source": [
    "<div></div>"
   ]
  },
  {
   "cell_type": "markdown",
   "metadata": {},
   "source": [
    "<div></div>"
   ]
  },
  {
   "cell_type": "markdown",
   "metadata": {},
   "source": [
    "<div style=\"text-align:center; font-family:Times New Roman; font-size:22px\">\n",
    "    OPTIMISATION LINEAIRE - IFT2505\n",
    "</div>\n",
    "<div style=\"text-align:center; font-family:Times New Roman; font-size:18px\">\n",
    "     PROFESSEUR FABIEN BASTIN\n",
    "</div>"
   ]
  },
  {
   "cell_type": "markdown",
   "metadata": {},
   "source": [
    "<div></div>"
   ]
  },
  {
   "cell_type": "markdown",
   "metadata": {},
   "source": [
    "<div></div>"
   ]
  },
  {
   "cell_type": "markdown",
   "metadata": {},
   "source": [
    "<div style=\"text-align:center; font-family:Times New Roman; font-size:16px\">\n",
    "    Université de Montréal\n",
    "</div>\n",
    "<div style=\"text-align:center; font-family:Times New Roman; font-size:16px\">\n",
    "    À remettre le 16 Octobre 2023 à 23:59\n",
    "</div>"
   ]
  },
  {
   "cell_type": "markdown",
   "metadata": {},
   "source": [
    "<div></div>"
   ]
  },
  {
   "cell_type": "markdown",
   "metadata": {},
   "source": [
    "<div></div>"
   ]
  },
  {
   "cell_type": "markdown",
   "metadata": {},
   "source": [
    "## $\\textbf{Question 1}$"
   ]
  },
  {
   "cell_type": "markdown",
   "metadata": {},
   "source": [
    "$\\textbf{Soit le problème: }$"
   ]
  },
  {
   "cell_type": "markdown",
   "metadata": {},
   "source": [
    "\\begin{align*} \n",
    "\\begin{array}{l c c c c c c c} \n",
    "  \\min\\  x  = &  -2x    & - &  y   & - &  3z  &  &   \\\\ \n",
    "  \\text{tel que }   &  2x  & + &  3y  & + &  4z   &  \\leq  & 120  \\\\ \n",
    "            &  x      & + &  2y  &&&  \\leq  & 50  \\\\ \n",
    "            &  x      && + &&  2z  &  \\leq  & 50  \\\\ \n",
    "            & x, && y, && z & \\geq & 0      \\\\ \n",
    "\\end{array} \n",
    "\\end{align*}"
   ]
  },
  {
   "cell_type": "markdown",
   "metadata": {},
   "source": [
    "- $\\textbf{(a) Resolvons le problème à la main avec la méthode du simplexe.}$"
   ]
  },
  {
   "cell_type": "markdown",
   "metadata": {},
   "source": [
    "$\\text{On transforme le problème sous la forme standard à l'introduction des variables d'écarts}$ $s_1,$ $s_2$ $\\text{et}$ $s_2.$"
   ]
  },
  {
   "cell_type": "markdown",
   "metadata": {},
   "source": [
    "$\\text{On obtient:}$"
   ]
  },
  {
   "cell_type": "markdown",
   "metadata": {},
   "source": [
    "\\begin{align*} \n",
    "\\begin{array}{l c c c c c c c c c c} \n",
    "  \\min\\  x  = &  -2x    & - &  y   & - &  3z  &  &   \\\\ \n",
    "  \\text{tel que }   &  2x  & + &  3y  & + &  4z  & + & s_1 & && && =  & 120  \\\\ \n",
    "            &  x      & + &  2y  && && & + & s_2 & &&  =  & 50  \\\\ \n",
    "            &  x      && & + & 2z &&  && &+& s_3&  =  & 50  \\\\ \n",
    "            & x, && y, && z, && s_1, && s_2, && s_3 & \\geq & 0      \\\\ \n",
    "\\end{array} \n",
    "\\end{align*}"
   ]
  },
  {
   "cell_type": "markdown",
   "metadata": {},
   "source": [
    "$\\text{Avec les variables dans la base}$ $s_1,$ $s_2$ $\\text{et}$ $s_2,$ $\\text{On obtient le tableau du simplexe suivant;}$"
   ]
  },
  {
   "cell_type": "markdown",
   "metadata": {},
   "source": [
    "\\begin{align*}\n",
    "\\begin{array}{c|cccccc|c}\n",
    "& x & y & z & s_1 & s_2 & s_3 & \\text{T.D.}\\\\\n",
    "\\hline\n",
    "s_1 & 2 & 3 & 4 & 1 & 0 & 0 & 120 \\\\\n",
    "s_2 & 1 & 2 & 0 & 0 & 1 & 0 & 50 \\\\\n",
    "s_3 & 1 & 0 & \\color{red} 2 & 0 & 0 & 1 & 50 \\\\\n",
    "\\hline\n",
    "-z  & -2 & -1 & -3 & 0 & 0 & 0 & 0\\\\\n",
    "\\end{array}\n",
    "\\end{align*}"
   ]
  },
  {
   "cell_type": "markdown",
   "metadata": {},
   "source": [
    "$\\text{On prend}$ $z$ $\\text{comme variable d'entrée et}$ $s_3$ $\\text{comme variable de sortie.}$"
   ]
  },
  {
   "cell_type": "markdown",
   "metadata": {},
   "source": [
    "\\begin{align*}\n",
    "\\begin{array}{c|cccccc|c}\n",
    "& x & y & z & s_1 & s_2 & s_3 & \\text{T.D.}\\\\\n",
    "\\hline\n",
    "s_1 & 0 & \\color{red}3 & 0 & 1 & 0 & 0 & 20 \\\\\n",
    "s_2 & 1 & 2 & 0 & 0 & 1 & 0 & 50 \\\\\n",
    "z & 1/2 & 0 & 1 & 0 & 0 & 1/2 & 25 \\\\\n",
    "\\hline\n",
    "-z  & -1/2 & -1 & 0 & 0 & 0 & 3/2 & 75\\\\\n",
    "\\end{array}\n",
    "\\end{align*}"
   ]
  },
  {
   "cell_type": "markdown",
   "metadata": {},
   "source": [
    "$\\text{On prend}$ $y$ $\\text{comme variable d'entrée et}$ $s_1$ $\\text{comme variable de sortie.}$"
   ]
  },
  {
   "cell_type": "markdown",
   "metadata": {},
   "source": [
    "\\begin{align*}\n",
    "\\begin{array}{c|cccccc|c}\n",
    "& x & y & z & s_1 & s_2 & s_3 & \\text{T.D.}\\\\\n",
    "\\hline\n",
    "y & 0 & 1 & 0 & 1/3 & 0 & 0 & 20/3 \\\\\n",
    "s_2 & \\color{red}1 & 0 & 0 & -2/3 & 1 & 0 & 110/3 \\\\\n",
    "z & 1/2 & 0 & 1 & 0 & 0 & 1/2 & 25 \\\\\n",
    "\\hline\n",
    "-z  & -1/2 & 0 & 0 & 1/3 & 0 & 3/2 & 245/3\\\\\n",
    "\\end{array}\n",
    "\\end{align*}"
   ]
  },
  {
   "cell_type": "markdown",
   "metadata": {},
   "source": [
    "$\\text{On prend}$ $x$ $\\text{comme variable d'entrée et}$ $s_2$ $\\text{comme variable de sortie.}$"
   ]
  },
  {
   "cell_type": "markdown",
   "metadata": {},
   "source": [
    "\\begin{align*}\n",
    "\\begin{array}{c|cccccc|c}\n",
    "& x & y & z & s_1 & s_2 & s_3 & \\text{T.D.}\\\\\n",
    "\\hline\n",
    "y & 0 & 1 & 0 & 1/3 & 0 & 0 & 20/3 \\\\\n",
    "x & 1 & 0 & 0 & -2/3 & 1 & 0 & 110/3 \\\\\n",
    "z & 0 & 0 & 1 & 0 & 1/3 & 1/2 & 20/3 \\\\\n",
    "\\hline\n",
    "-z  & 0 & 0 & 0 & 0 & 1/2 & 3/2 & 100\\\\\n",
    "\\end{array}\n",
    "\\end{align*}"
   ]
  },
  {
   "cell_type": "markdown",
   "metadata": {},
   "source": [
    "$\\text{Donc,}$"
   ]
  },
  {
   "cell_type": "markdown",
   "metadata": {},
   "source": [
    "\\begin{align*}\n",
    "&x=110/3,\\ y=20/3,\\ z=20/3 \\\\\n",
    "&s_1=s_2=s_3=0 \n",
    "\\end{align*}\n",
    "$\\text{et la valeur optimale du problème est}$ $z^{\\star}=100$."
   ]
  },
  {
   "cell_type": "markdown",
   "metadata": {},
   "source": [
    "- $\\textbf{(b) Resolvons le problème avec la méthode du simplexe revisée.}$"
   ]
  },
  {
   "cell_type": "markdown",
   "metadata": {},
   "source": [
    "$\\text{Considérons le problème sous forme canonique:}$\n",
    "\\begin{align*} \n",
    "\\begin{array}{l c c c c c c c c c c} \n",
    "  \\min\\  x  = &  -2x    & - &  y   & - &  3z  &  &   \\\\ \n",
    "  \\text{tel que }   &  2x  & + &  3y  & + &  4z  & + & s_1 & && && =  & 120  \\\\ \n",
    "            &  x      & + &  2y  && && & + & s_2 & &&  =  & 50  \\\\ \n",
    "            &  x      &&  & + & 2z&  && &+& s_3&  &=  & 50  \\\\ \n",
    "            & x, && y, && z, && s_1, && s_2, && s_3 & \\geq & 0      \\\\ \n",
    "\\end{array} \n",
    "\\end{align*}"
   ]
  },
  {
   "cell_type": "markdown",
   "metadata": {},
   "source": [
    "$\\text{On se limite à:}$\n",
    "\\begin{align*}\n",
    "\\begin{array}{c|ccc|c}\n",
    "\\text{Var} && && x_B\\\\\n",
    "\\hline\n",
    "s_1 & 1 & 0 & 0 & 120 \\\\\n",
    "s_2 & 0 & 1 & 0 & 50 \\\\\n",
    "s_3 & 0 & 0 & 1 & 50 \\\\\n",
    "\\end{array}\n",
    "\\end{align*}"
   ]
  },
  {
   "cell_type": "markdown",
   "metadata": {},
   "source": [
    "$\\text{On a,}$ $\\lambda ^T = c^T_B B^-1 =\n",
    "\\begin{pmatrix}\n",
    "0 & 0 & 0 \n",
    "\\end{pmatrix} B^{-1} =\n",
    "\\begin{pmatrix}\n",
    "0 & 0 & 0 \n",
    "\\end{pmatrix} $"
   ]
  },
  {
   "cell_type": "markdown",
   "metadata": {},
   "source": [
    "$\\text{et}$ $r^T_D = C^T_D - \\lambda ^T D = \n",
    "\\begin{pmatrix}\n",
    "-2 & -1 & -3 \n",
    "\\end{pmatrix}$"
   ]
  },
  {
   "cell_type": "markdown",
   "metadata": {},
   "source": [
    "$\\text{On obtient le dictionnaire;}$\n",
    "\\begin{align*}\n",
    "\\begin{array}{ccccc}\n",
    "s_1 & = & 120 & -2x &-3y &-4z\\\\\n",
    "s_2 & = & 50 & -x &-2y \\\\\n",
    "s_3 & = & 50 & -x && -2z\\\\\n",
    "\\hline\n",
    "z & = & 0 & -2x &-y &-3z\\\\\n",
    "\\end{array}\n",
    "\\end{align*}"
   ]
  },
  {
   "cell_type": "markdown",
   "metadata": {},
   "source": [
    "$\\text{La base}$ $B$ $\\text{est constituée des colonnes associées aux variables}$ $s_1,$ $s_2$ $\\text{et}$ $s_3.$\n",
    "\n",
    "\\begin{align*}\n",
    "    & B =\n",
    "    \\begin{pmatrix}\n",
    "         1 & 0 & 0 \\\\\n",
    "         0 & 1 & 0 \\\\\n",
    "         0 & 0 & 1\n",
    "    \\end{pmatrix} \\\\ \\\\\n",
    "\\end{align*}\n",
    "$\\text{Le variable entrante retenue est}$ $z,$ $\\text{et on construit le tableau}$\n",
    "\\begin{array}{c|ccc|c|c}\n",
    "          \\text{Var} && && x_B &x\\\\\n",
    "          \\hline\n",
    "          s_1 & 1 & 0 & 0 & 120 &4\\\\\n",
    "          s_2 & 0 & 1 & 0 & 50 &0\\\\\n",
    "          s_3 & 0 & 0 & 1 & 50 &\\color{red}2\\\\\\\n",
    "\\end{array}\n",
    "\n",
    "$\\text{Après le pivot,}$\n",
    "\\begin{array}{c|ccc|c}\n",
    "          \\text{Var} && && x_B \\\\\n",
    "          \\hline\n",
    "          s_1 & 1 & 0 & -2 & 20 \\\\\n",
    "          s_2 & 0 & 1 & 0 & 50 \\\\\n",
    "          z & 0 & 0 & 1/2 & 25 \\\\\n",
    "\\end{array}\n",
    " "
   ]
  },
  {
   "cell_type": "markdown",
   "metadata": {},
   "source": [
    "$\\text{Nous avons également}$ $C^T_B = \n",
    "\\begin{pmatrix}\n",
    "0 & 0 & -3\n",
    "\\end{pmatrix}\n",
    "$ $\\\\$\n",
    "$\\text{et}$ $\\lambda^T = c^T_B B^{-1} =\n",
    "\\begin{pmatrix}\n",
    "0 & 0 & -3\n",
    "\\end{pmatrix}\n",
    "\\begin{pmatrix}\n",
    "     1 & 0 & -2 \\\\\n",
    "     0 & 1 & 0 \\\\\n",
    "     0 & 0 & 1/2\n",
    "\\end{pmatrix} \n",
    " = \\begin{pmatrix}\n",
    "     0 & 0 & -3/2\n",
    "\\end{pmatrix}$\n"
   ]
  },
  {
   "cell_type": "markdown",
   "metadata": {},
   "source": [
    "$\\text{Les coûts reduits se calculent de manière similaire}$ $\\\\$\n",
    "\\begin{align*}\n",
    "    r^T_D & = C^T_D - \\lambda^T D \\\\\n",
    "    & = \n",
    "        \\begin{pmatrix}\n",
    "            -2 & -1 & 0\n",
    "        \\end{pmatrix}\n",
    "        - \\begin{pmatrix}\n",
    "            0 & 0 & -3/2\n",
    "          \\end{pmatrix}\n",
    "          \\begin{pmatrix}\n",
    "            2 & 3 & 0 \\\\\n",
    "            1 & 2 & 0 \\\\\n",
    "            1 & 0 & 1\n",
    "          \\end{pmatrix} \\\\\n",
    "    & = \n",
    "        \\begin{pmatrix}\n",
    "            -1/2 & -1 & 3/2\n",
    "        \\end{pmatrix} \\\\\n",
    "    & = \n",
    "        \\begin{pmatrix}\n",
    "            r_1 & r_2 & r_3\n",
    "        \\end{pmatrix}\n",
    "\\end{align*}"
   ]
  },
  {
   "cell_type": "markdown",
   "metadata": {},
   "source": [
    "$\\text{Par la suite, On prend}$ $y$ $\\text{comme variable entrante, on obtient;}$"
   ]
  },
  {
   "cell_type": "markdown",
   "metadata": {},
   "source": [
    "\\begin{align*}\n",
    "y = \n",
    "    \\begin{pmatrix}\n",
    "         1 & 0 & -2 \\\\\n",
    "         0 & 1 & 0 \\\\\n",
    "         0 & 0 & 1/2\n",
    "    \\end{pmatrix}\n",
    "    \\begin{pmatrix}\n",
    "         2 \\\\\n",
    "         1 \\\\\n",
    "         1 \n",
    "    \\end{pmatrix}\n",
    "    =\n",
    "    \\begin{pmatrix}\n",
    "         3 \\\\\n",
    "         2 \\\\\n",
    "         0 \n",
    "     \\end{pmatrix}\n",
    "\\end{align*} \\\\"
   ]
  },
  {
   "cell_type": "markdown",
   "metadata": {},
   "source": [
    "\\begin{array}{c|ccc|c|c}\n",
    "    \\text{Var} && && x_B &y\\\\\n",
    "    \\hline\n",
    "    s_1 & 1 & 0 & -2 & 20 &\\color{red}3 \\\\\n",
    "    s_2 & 0 & 1 & 0 & 50 &2\\\\\n",
    "    z & 0 & 0 & 1/2 & 25 &0\\\\\n",
    "\\end{array}"
   ]
  },
  {
   "cell_type": "markdown",
   "metadata": {},
   "source": [
    "$\\text{Après le pivot:}$\n",
    "\\begin{array}{c|ccc|c}\n",
    "    \\text{Var} && && x_B \\\\\n",
    "    \\hline\n",
    "    y & 1/3 & 0 & -2/3 & 20/3 \\\\\n",
    "    s_2 & -2/3 & 1 & 4/3 & 110/3 \\\\\n",
    "    z & 0 & 0 & 1/2 & 25 \\\\\n",
    "\\end{array}"
   ]
  },
  {
   "cell_type": "markdown",
   "metadata": {},
   "source": [
    "$\\text{Nous avons également}$ $C^T_B = \n",
    "\\begin{pmatrix}\n",
    "-1 & 0 & -3\n",
    "\\end{pmatrix}\n",
    "$ $\\\\$\n",
    "$\\text{et}$ $\\lambda^T = c^T_B B^{-1} =\n",
    "\\begin{pmatrix}\n",
    "-1 & 0 & -3\n",
    "\\end{pmatrix}\n",
    "\\begin{pmatrix}\n",
    "     1/3 & 0 & -2/3 \\\\\n",
    "     -2/3 & 1 & 4/3 \\\\\n",
    "     0 & 0 & 1/2\n",
    "\\end{pmatrix} \n",
    " = \\begin{pmatrix}\n",
    "     -1/3 & 0 & -5/6\n",
    "\\end{pmatrix}$\n"
   ]
  },
  {
   "cell_type": "markdown",
   "metadata": {},
   "source": [
    "\\begin{align*}\n",
    "    r^T_D =\n",
    "    & \n",
    "        \\begin{pmatrix}\n",
    "            -2 & 0 & 0\n",
    "        \\end{pmatrix}\n",
    "        - \\begin{pmatrix}\n",
    "            -1/3 & 0 & -5/6\n",
    "          \\end{pmatrix}\n",
    "          \\begin{pmatrix}\n",
    "            2 & 1 & 0 \\\\\n",
    "            1 & 0 & 0 \\\\\n",
    "            1 & 0 & 1\n",
    "          \\end{pmatrix} \\\\\n",
    "    & = \n",
    "        \\begin{pmatrix}\n",
    "            -1/2 & 1/3 & 5/6\n",
    "        \\end{pmatrix} \\\\\n",
    "    & = \n",
    "        \\begin{pmatrix}\n",
    "            r_1 && r_2 && r_3\n",
    "        \\end{pmatrix}\n",
    "\\end{align*}"
   ]
  },
  {
   "cell_type": "markdown",
   "metadata": {},
   "source": [
    "$\\text{Le variable entrante retenue est}$ $x,$ $\\text{et on construit le tableau}$"
   ]
  },
  {
   "cell_type": "markdown",
   "metadata": {},
   "source": [
    "\\begin{align*}\n",
    "x = \n",
    "    \\begin{pmatrix}\n",
    "         1/3 & 0 & -2/3 \\\\\n",
    "         -2/3 & 1 & 4/3 \\\\\n",
    "         0 & 0 & 1/2\n",
    "    \\end{pmatrix}\n",
    "    \\begin{pmatrix}\n",
    "         2 \\\\\n",
    "         1 \\\\\n",
    "         1 \n",
    "    \\end{pmatrix}\n",
    "    =\n",
    "    \\begin{pmatrix}\n",
    "         0 \\\\\n",
    "         1 \\\\\n",
    "         1/2 \n",
    "     \\end{pmatrix}\n",
    "\\end{align*} \\\\"
   ]
  },
  {
   "cell_type": "markdown",
   "metadata": {},
   "source": [
    "\\begin{array}{c|ccc|c|c}\n",
    "    \\text{Var} && && x_B &x\\\\\n",
    "    \\hline\n",
    "    y & 1/3 & 0 & -2/3 & 20/3 &0 \\\\\n",
    "    s_2 & -2/3 & 1 & 4/3 & 110/3 &\\color{red}1\\\\\n",
    "    z & 0 & 0 & 1/2 & 25 &1/2\\\\\n",
    "\\end{array}"
   ]
  },
  {
   "cell_type": "markdown",
   "metadata": {},
   "source": [
    "$\\text{Après le pivot et la variable sortante}$ $s_2,$"
   ]
  },
  {
   "cell_type": "markdown",
   "metadata": {},
   "source": [
    "\\begin{array}{c|ccc|c}\n",
    "    \\text{Var} && && x_B\\\\\n",
    "    \\hline\n",
    "    y & 1/3 & 0 & -2/3 & 20/3 \\\\\n",
    "    x & -2/3 & 1 & 4/3 & 110/3\\\\\n",
    "    z & 1/3 & -1/2 & -1/6 & 20/3\\\\\n",
    "\\end{array}"
   ]
  },
  {
   "cell_type": "markdown",
   "metadata": {},
   "source": [
    "$\\text{On a,}$ $\\lambda^T =\n",
    "\\begin{pmatrix}\n",
    "-1 & -2 & -3\n",
    "\\end{pmatrix}\n",
    "\\begin{pmatrix}\n",
    "     1/3 & 0 & -2/3 \\\\\n",
    "     -2/3 & 1 & 4/3 \\\\\n",
    "     1/3 & -1/2 & 1/6\n",
    "\\end{pmatrix} \n",
    " = \\begin{pmatrix}\n",
    "     0 & -1/2 & -3/2\n",
    "\\end{pmatrix}$"
   ]
  },
  {
   "cell_type": "markdown",
   "metadata": {},
   "source": [
    "\\begin{align*}\n",
    "    r^T_D =\n",
    "    & \n",
    "        \\begin{pmatrix}\n",
    "            0 & 0 & 0\n",
    "        \\end{pmatrix}\n",
    "        - \\begin{pmatrix}\n",
    "            0 & -1/2 & -3/2\n",
    "          \\end{pmatrix}\n",
    "          \\begin{pmatrix}\n",
    "            1 & 0 & 0 \\\\\n",
    "            0 & 1 & 0 \\\\\n",
    "            0 & 0 & 1\n",
    "          \\end{pmatrix} \\\\\n",
    "    & = \n",
    "        \\begin{pmatrix}\n",
    "            0 & 1/2 & 3/2\n",
    "        \\end{pmatrix} \\\\\n",
    "    & \\implies r_1 = 0, r_2 = 1/2, r_3 = 3/2\n",
    "        \n",
    "\\end{align*}"
   ]
  },
  {
   "cell_type": "markdown",
   "metadata": {},
   "source": [
    "$\\text{D'où la solution optimale}$\n",
    "$x = \n",
    "\\begin{pmatrix}\n",
    "    110/3, &20/3, &20/3, &0, &0, &0\n",
    "\\end{pmatrix}$"
   ]
  },
  {
   "cell_type": "markdown",
   "metadata": {},
   "source": [
    "- $\\textbf{(c) Utilisons  JuMP en Julia pour vérifier la solution du problème.}$"
   ]
  },
  {
   "cell_type": "code",
   "execution_count": 1,
   "metadata": {},
   "outputs": [],
   "source": [
    "using JuMP, HiGHS"
   ]
  },
  {
   "cell_type": "code",
   "execution_count": 2,
   "metadata": {},
   "outputs": [
    {
     "name": "stdout",
     "output_type": "stream",
     "text": [
      "Min -2 x - y - 3 z\n",
      "Subject to\n"
     ]
    },
    {
     "name": "stdout",
     "output_type": "stream",
     "text": [
      " "
     ]
    },
    {
     "name": "stdout",
     "output_type": "stream",
     "text": [
      "2 x + 3 y + 4 z <= 120\n",
      " x + 2 y <= 50\n",
      " x + 2 z <= 50\n",
      " x >= 0\n",
      " y >= 0\n",
      " z >= 0\n"
     ]
    }
   ],
   "source": [
    "m = Model(HiGHS.Optimizer)\n",
    "\n",
    "@variable(m, 0 <= x)\n",
    "@variable(m, 0 <= y)\n",
    "@variable(m, 0 <= z)\n",
    "\n",
    "@constraint(m, 2x + 3y + 4z <= 120.0)\n",
    "@constraint(m, x + 2y <= 50.0)\n",
    "@constraint(m, x + 2z <= 50.0)\n",
    "\n",
    "@objective(m, Min, -2x-y-3z)\n",
    "\n",
    "print(m)"
   ]
  },
  {
   "cell_type": "code",
   "execution_count": 3,
   "metadata": {},
   "outputs": [
    {
     "name": "stdout",
     "output_type": "stream",
     "text": [
      "Running HiGHS 1.5.3 [date: 1970-01-01, git hash: 45a127b78]\n",
      "Copyright (c) 2023 HiGHS under MIT licence terms\n",
      "Presolving model\n",
      "3 rows, 3 cols, 7 nonzeros\n",
      "3 rows, 3 cols, 7 nonzeros\n",
      "Presolve : Reductions: rows 3(-0); columns 3(-0); elements 7(-0) - Not reduced\n",
      "Problem not reduced by presolve: solving the LP\n",
      "Using EKK dual simplex solver - serial\n",
      "  Iteration        Objective     Infeasibilities num(sum)\n",
      "          0    -5.9999935790e+00 Ph1: 3(15); Du: 3(5.99999) 0s\n",
      "          3    -1.0000000000e+02 Pr: 0(0) 0s\n",
      "Model   status      : Optimal\n",
      "Simplex   iterations: 3\n",
      "Objective value     : -1.0000000000e+02\n",
      "HiGHS run time      :          0.01\n"
     ]
    }
   ],
   "source": [
    "status = optimize!(m)"
   ]
  },
  {
   "cell_type": "code",
   "execution_count": 4,
   "metadata": {},
   "outputs": [
    {
     "name": "stdout",
     "output_type": "stream",
     "text": [
      "[50.0, 0.0, -0.0]\n"
     ]
    }
   ],
   "source": [
    "println([value(x), value(y), value(z)])"
   ]
  },
  {
   "cell_type": "code",
   "execution_count": 5,
   "metadata": {},
   "outputs": [
    {
     "data": {
      "text/plain": [
       "simplexSolver (generic function with 1 method)"
      ]
     },
     "metadata": {},
     "output_type": "display_data"
    }
   ],
   "source": [
    "function pivot!(M::Matrix, i::Int, j::Int)\n",
    "    m, n = size(M)\n",
    "    @assert M[i, j] != 0\n",
    "    M[i, :] = M[i, :]/M[i, j]\n",
    "    for k in setdiff(1:m, i)\n",
    "        M[k, :] -= M[k, j] * M[i, :]\n",
    "    end\n",
    "    return M\n",
    "end\n",
    "\n",
    "function getReducedCosts(M::Matrix)\n",
    "    m, n = size(M)\n",
    "    return M[end, 1:n-1]\n",
    "end\n",
    "function getxB(M::Matrix)\n",
    "    m, n = size(M)\n",
    "    return M[1:m-1, end]\n",
    "end\n",
    "function enteringVar(M::Matrix)\n",
    "    rc = getReducedCosts(M)\n",
    "    index = argmin(rc)\n",
    "    return rc[index] >= 0 ? -1 : index\n",
    "end\n",
    "function exitingVarIndex(M::Matrix{T}, enteringVar::Int) where T\n",
    "    col = M[1:end-1, enteringVar]\n",
    "    xB = getxB(M)\n",
    "    m, n = size(M)\n",
    "    index = -1\n",
    "    val = T(Inf)\n",
    "    for i in 1:m-1\n",
    "        if (col[i] > 0) && (xB[i]/col[i] < val)\n",
    "            val = xB[i]/col[i]\n",
    "            index = i\n",
    "        end\n",
    "    end\n",
    "    return index\n",
    "end\n",
    "function isOneHot(v::Vector)\n",
    "    n = length(v)\n",
    "    return (sum(iszero, v) == n-1) && (sum(isone, v) == 1)\n",
    "end \n",
    "function isoptimal(M)\n",
    "    return enteringVar(M) == -1\n",
    "end\n",
    "function findInitialBasis!(M::Matrix)\n",
    "    m, n = size(M)\n",
    "    m-=1\n",
    "    n-=1\n",
    "    basis = [-1 for _ in 1:m]\n",
    "    for i in 1:n\n",
    "        if isOneHot(M[1:end-1, i])\n",
    "            index = findfirst(isone, M[:, i])\n",
    "            basis[index] = i\n",
    "        end\n",
    "    end\n",
    "    @assert !any(t-> t == -1, basis) \"problem not caconical\"\n",
    "    for i in 1:m\n",
    "        j = basis[i]\n",
    "        pivot!(M, i, j)\n",
    "    end\n",
    "    return basis\n",
    "end\n",
    "function simplexSolver(A::Matrix{T}, b::Vector, c::Vector; verbose::Bool = false) where T\n",
    "    M = [A b; c' 0]\n",
    "    basis = findInitialBasis!(M)\n",
    "    k = 1\n",
    "    nmax = 1000\n",
    "    while !isoptimal(M) && k < nmax\n",
    "        k+=1\n",
    "        verbose && display(M)\n",
    "        entering = enteringVar(M)\n",
    "        entering == -1 && (println(\"------------\"); return T[-1, -1])\n",
    "        leaving = exitingVarIndex(M, entering)\n",
    "        leaving == -1 && (println(\"------------\"); return T[-1, -1])\n",
    "        verbose && @show (entering, leaving)\n",
    "        basis[leaving] = entering\n",
    "        pivot!(M, leaving, entering)\n",
    "    end\n",
    "    verbose && display(M)\n",
    "    m, n = size(M)\n",
    "    xstar = zeros(T, n - 1)\n",
    "    xstar[basis] = getxB(M)\n",
    "    return xstar\n",
    "end"
   ]
  },
  {
   "cell_type": "code",
   "execution_count": 6,
   "metadata": {},
   "outputs": [
    {
     "data": {
      "text/plain": [
       "6-element Vector{Int64}:\n",
       " -2\n",
       " -1\n",
       " -3\n",
       "  0\n",
       "  0\n",
       "  0"
      ]
     },
     "metadata": {},
     "output_type": "display_data"
    }
   ],
   "source": [
    "A=[2//1 3 4 1 0 0 ; \n",
    "    1 2 0 0 1 0;\n",
    "    1 0 2 0 0 1;\n",
    "]\n",
    "b=[120, 50, 50]\n",
    "c = [-2,-1,-3,0,0,0]"
   ]
  },
  {
   "cell_type": "code",
   "execution_count": 7,
   "metadata": {},
   "outputs": [
    {
     "data": {
      "text/plain": [
       "4×7 Matrix{Rational{Int64}}:\n",
       "  2//1   3//1   4//1  1//1  0//1  0//1  120//1\n",
       "  1//1   2//1   0//1  0//1  1//1  0//1   50//1\n",
       "  1//1   0//1   2//1  0//1  0//1  1//1   50//1\n",
       " -2//1  -1//1  -3//1  0//1  0//1  0//1    0//1"
      ]
     },
     "metadata": {},
     "output_type": "display_data"
    },
    {
     "data": {
      "text/plain": [
       "4×7 Matrix{Rational{Int64}}:\n",
       "  0//1   3//1  0//1  1//1  0//1  -2//1  20//1\n",
       "  1//1   2//1  0//1  0//1  1//1   0//1  50//1\n",
       "  1//2   0//1  1//1  0//1  0//1   1//2  25//1\n",
       " -1//2  -1//1  0//1  0//1  0//1   3//2  75//1"
      ]
     },
     "metadata": {},
     "output_type": "display_data"
    },
    {
     "data": {
      "text/plain": [
       "4×7 Matrix{Rational{Int64}}:\n",
       "  0//1  1//1  0//1   1//3  0//1  -2//3   20//3\n",
       "  1//1  0//1  0//1  -2//3  1//1   4//3  110//3\n",
       "  1//2  0//1  1//1   0//1  0//1   1//2   25//1\n",
       " -1//2  0//1  0//1   1//3  0//1   5//6  245//3"
      ]
     },
     "metadata": {},
     "output_type": "display_data"
    },
    {
     "data": {
      "text/plain": [
       "4×7 Matrix{Rational{Int64}}:\n",
       " 0//1  1//1  0//1   1//3   0//1  -2//3   20//3\n",
       " 1//1  0//1  0//1  -2//3   1//1   4//3  110//3\n",
       " 0//1  0//1  1//1   1//3  -1//2  -1//6   20//3\n",
       " 0//1  0//1  0//1   0//1   1//2   3//2  100//1"
      ]
     },
     "metadata": {},
     "output_type": "display_data"
    },
    {
     "name": "stdout",
     "output_type": "stream",
     "text": [
      "(entering, leaving) = (3, 3)\n",
      "(entering, leaving) = (2, 1)\n",
      "(entering, leaving) = (1, 2)\n"
     ]
    },
    {
     "data": {
      "text/plain": [
       "6-element Vector{Rational{Int64}}:\n",
       " 110//3\n",
       "  20//3\n",
       "  20//3\n",
       "   0//1\n",
       "   0//1\n",
       "   0//1"
      ]
     },
     "metadata": {},
     "output_type": "display_data"
    }
   ],
   "source": [
    "simplexSolver(A, b, c, verbose=true)"
   ]
  },
  {
   "cell_type": "markdown",
   "metadata": {},
   "source": [
    "## $\\textbf{Question 2}$"
   ]
  },
  {
   "cell_type": "markdown",
   "metadata": {},
   "source": [
    "$\\text{On va résoudre la démonstration par contradiction}$"
   ]
  },
  {
   "cell_type": "markdown",
   "metadata": {},
   "source": [
    "$\\text{On suppose}$ $\\urcorner p$ $\\text{ ainsi: }$\n",
    "$\\text{On suppose que toutes solutions de base réalisable dégénérée}$ $\\\\$ $\\text{peuvent être optimales en satisfaisant}$ $r_j \\geq 0$ $\\text{pour tout }$ $j.$"
   ]
  },
  {
   "cell_type": "markdown",
   "metadata": {},
   "source": [
    "$\\text{On considère ainsi le problème linéaire suivant: }$"
   ]
  },
  {
   "cell_type": "markdown",
   "metadata": {},
   "source": [
    "$\\text{Considérons le programme linéaire suivant:}$\n",
    "\\begin{array}{ccccc}\n",
    "    \\max\\ &x_1  & + & x_2\\\\\n",
    "    \\text{tel que} &x_1 & + & x_2  & \\leq & 0\\\\\n",
    "                   &&& x_2  & \\leq &0\\\\\n",
    "    &x_1, &&x_2 & \\geq &0\\\\\n",
    "\\end{array}\n"
   ]
  },
  {
   "cell_type": "markdown",
   "metadata": {},
   "source": [
    "\\begin{array}{ccccccccc}\n",
    "    &-\\min\\ &-x_1  & - & x_2\\\\\n",
    "    &\\text{tel que} &x_1 & + & x_2 & + & x_3 && = & 0\\\\\n",
    "    \\implies &               &&& x_2 && + &x_4 &  = &0\\\\\n",
    "    &&x_1, &&x_2, && x_3, & x_4 & \\geq &0\\\\\n",
    "\\end{array}"
   ]
  },
  {
   "cell_type": "markdown",
   "metadata": {},
   "source": [
    "$\\text{En utilisant la méthode du simplexe on a:}$"
   ]
  },
  {
   "cell_type": "markdown",
   "metadata": {},
   "source": [
    "\\begin{array}{ccccc}\n",
    "    &x_1 & x_2 & x_3 &x_4 & b\\\\\n",
    "    x_3 &\\color{red}1   & 1   & 1   & 0  & 0\\\\\n",
    "    x_4 &0   & 1   & 0   & 1  & 0\\\\\n",
    "    c^T& -1 & -1 & 0 &0 &0\\\\\n",
    "\\end{array}"
   ]
  },
  {
   "cell_type": "markdown",
   "metadata": {},
   "source": [
    "$\\text{Il y a des coéficientes reduits négatifs, par la suite on a:}$"
   ]
  },
  {
   "cell_type": "markdown",
   "metadata": {},
   "source": [
    "\\begin{array}{ccccc}\n",
    "    &x_1 & x_2 & x_3 &x_4 & b\\\\\n",
    "    &1   & 1   & 1   & 0  & 0\\\\\n",
    "    &0   & 1   & 0   & 1  & 0\\\\\n",
    "    c^T& 0 & 0 & 1 &0 &0\\\\\n",
    "\\end{array}"
   ]
  },
  {
   "cell_type": "markdown",
   "metadata": {},
   "source": [
    "$\\text{On obtient donc la solution optimale}$ $(0, 0, 0, 0)$ $\\text{et}$ $z=0$ $\\text{avec des coûts réduits négatifs,}$ $\\\\$ $\\text{ce qui mène à une contradiction à}$ $\\urcorner p:$"
   ]
  },
  {
   "cell_type": "markdown",
   "metadata": {},
   "source": [
    "$\\text{Par conséquent on a prouvé par contradiction qu'une solution de base peut être optimale en satisfaisant}$ $r_j \\geq 0$"
   ]
  },
  {
   "cell_type": "markdown",
   "metadata": {},
   "source": [
    "## $\\textbf{Question 3}$"
   ]
  },
  {
   "cell_type": "markdown",
   "metadata": {},
   "source": [
    "- $\\textbf{(a) Identifions les variables de base Initiales et Determinons}$ $B^{-1}$ $\\textbf{:}$\n",
    "\\begin{align*}\n",
    "    \\begin{array}{cccccc}\n",
    "    x_1 & x_2 & x_3 & x4 & x_5 & b \\\\\n",
    "    a & b & c & 1 & 0 & 6 \\\\\n",
    "    -1 & 2 & e & 0 & 1 & 1 \\\\\n",
    "    d & -1 & 3 & 0 & 0 & 0 \\\\\n",
    "    \\end{array}\n",
    "\\end{align*}"
   ]
  },
  {
   "cell_type": "markdown",
   "metadata": {},
   "source": [
    "$\\text{Les variables de base initiales sont}$ $x_4$ $\\text{et}$ $x_5$ $\\text{car elles leurs coeficients forment la matrice indentité.}$"
   ]
  },
  {
   "cell_type": "markdown",
   "metadata": {},
   "source": [
    "\\begin{align*}\n",
    "    B = \n",
    "    \\begin{pmatrix}\n",
    "        1 & 0\\\\\n",
    "        0 & 1 \\\\\n",
    "    \\end{pmatrix}\n",
    "    B^{-1} = \n",
    "    \\begin{pmatrix}\n",
    "        1 & 0 \\\\\n",
    "        0 & 1\n",
    "    \\end{pmatrix}\n",
    "\\end{align*}"
   ]
  },
  {
   "cell_type": "markdown",
   "metadata": {},
   "source": [
    "- $\\textbf{(b) Identifions les variables de base Initiales et Determinons}$ $B^{-1}$ $\\textbf{sur la deuxième itération:}$"
   ]
  },
  {
   "cell_type": "markdown",
   "metadata": {},
   "source": [
    "\\begin{align*}\n",
    "    \\begin{array}{cccccc}\n",
    "    x_1 & x_2 & x_3 & x4 & x_5 & b \\\\\n",
    "    f & 2/3 & 2/3 & 1/3 & 0 & i \\\\\n",
    "    g & h & -1/3 & 1/3 & 1 & j \\\\\n",
    "    0 & 1/3 & k & l & m & n \\\\\n",
    "    \\end{array}\n",
    "\\end{align*}"
   ]
  },
  {
   "cell_type": "markdown",
   "metadata": {},
   "source": [
    "$\\text{Les variables de base initiales sont}$ $x_1$ $\\text{et}$ $x_5$ "
   ]
  },
  {
   "cell_type": "markdown",
   "metadata": {},
   "source": [
    "$\\text{On obtient}$ $B^{-1}$ $\\text{directement depuis le nouveau tableau du simplexe:}$\n",
    "\\begin{align*}\n",
    "    B^{-1} = \n",
    "    \\begin{pmatrix}\n",
    "        1/3 & 0 \\\\\n",
    "        1/3 & 1\n",
    "    \\end{pmatrix}\n",
    "\\end{align*}"
   ]
  },
  {
   "cell_type": "markdown",
   "metadata": {},
   "source": [
    "- $\\textbf{(c) Trouvons les valeurs de a, b, c, d, e, f, g, h, i, j, k, l, m, n}$"
   ]
  },
  {
   "cell_type": "markdown",
   "metadata": {},
   "source": [
    "$\\text{On refait les étapes du simplexe sur le tableau initiale, on a;}$"
   ]
  },
  {
   "cell_type": "markdown",
   "metadata": {},
   "source": [
    "\\begin{align*}\n",
    "    \\begin{array}{cccccc}\n",
    "    x_1 & x_2 & x_3 & x4 & x_5 & b \\\\\n",
    "    \\color{red}a & b & c & 1 & 0 & 6 \\\\\n",
    "    -1 & 2 & e & 0 & 1 & 1 \\\\\n",
    "    d & -1 & 3 & 0 & 0 & 0 \\\\\n",
    "    \\end{array}\n",
    "\\end{align*}\n",
    "\n",
    "$x_1$ $\\text{entre dans la base donc on divise toute la première ligne par}$ $a$ $\\text{et on rend}$ $x_1$ $\\text{variable isolée en additionant la ligne 1 à la ligne 2 et en soustrayant d fois la ligne 1 à la ligne 3, on obtient}:$"
   ]
  },
  {
   "cell_type": "markdown",
   "metadata": {},
   "source": [
    "\\begin{align*}\n",
    "    \\begin{array}{cccccc}\n",
    "    x_1 & x_2 & x_3 & x4 & x_5 & b \\\\\n",
    "    1 & b/a & c/a & 1/a & 0 & 6/a \\\\\n",
    "    0 & 2+(b/a) & e+(c/a) & 0+(1/a) & 1 & 1+(6/a) \\\\\n",
    "    0 & -1-d(b/a) & 3-d(c/a) & 0-d(1/a) & 0 & 0-d(6/a) \\\\\n",
    "    \\end{array}\n",
    "\\end{align*}"
   ]
  },
  {
   "cell_type": "markdown",
   "metadata": {},
   "source": [
    "$\\text{En comaparant le tableau obtenu avec le premier et le deuxième tableau du simplexe donnés par l'énoncé, on a}$ $\\\\$\n",
    "\\begin{align*}\n",
    "\\begin{array}{ll}\n",
    "&f=1, g=0, a=3, m=0,\\\\\n",
    "b/a = 2/3 &\\implies b=2,\\\\\n",
    "c/a = 2/3 &\\implies c=2, \\\\\n",
    "i=6/a &\\implies i=2,\\\\\n",
    "h=2+b/a &\\implies h=8/3,\\\\\n",
    "e+(c/a) = -1/3 &\\implies e=-1,\\\\\n",
    "j=1+(6/a) &\\implies j=3,\\\\\n",
    "-1-d(b/a)=1/3 &\\implies d=-2,\\\\\n",
    "k=3-d(c/a) &\\implies k=13/3,\\\\\n",
    "l=0-d(1/a) &\\implies l=2/3,\\\\\n",
    "n = 0 - d(6/a) &\\implies n=4\n",
    "\\end{array}\n",
    "\\end{align*}"
   ]
  },
  {
   "cell_type": "markdown",
   "metadata": {},
   "source": [
    "- $\\textbf{(d) Tableau de la deuxième itération}$ $\\\\$\n",
    "$\\text{En remplaçant les valeurs obtenues en}$ $c)$ $\\text{on obtient le tableau suivant;}$\n"
   ]
  },
  {
   "cell_type": "markdown",
   "metadata": {},
   "source": [
    "\\begin{align*}\n",
    "    \\begin{array}{c|ccccc|c}\n",
    "    &x_1 & x_2 & x_3 & x4 & x_5 & b \\\\\n",
    "    \\hline\n",
    "    x_1 &1 & 2/3 & 2/3 & 1/3 & 0 & 2 \\\\\n",
    "    x_5 &0 & 8/3 & -1/3 & 1/3 & 1 & 3 \\\\\n",
    "    \\hline\n",
    "    r^T &0 & 1/3 & 13/3 & 2/3 & 0 & 4 \\\\\n",
    "    \\end{array}\n",
    "\\end{align*}"
   ]
  },
  {
   "cell_type": "markdown",
   "metadata": {},
   "source": [
    "$\\text{On a la solution réalisable non dégénérée qui est}$ $(x_1, x_2, x_3, x_4, x_5) = (2, 0, 0, 0, 3)$ $\\text{avec}$ $z^* = -4$ $\\text{la solution optimale car tous les coûts réduits sont non négatifs.}$ $\\\\$"
   ]
  },
  {
   "cell_type": "markdown",
   "metadata": {},
   "source": [
    "- $\\textbf{(e) Écrivons le problème initial}$ $\\\\$\n",
    "$\\text{En remplaçant les valeurs obtenues en}$ $c)$ $\\text{dans le tableau initial du simplexe, on obtient;}$\n",
    "\n",
    "\\begin{align*} \n",
    "\\begin{array}{l c c c c c c c c c} \n",
    "  \\min\\  z  =       &-2x_1   & - &  x_2  & + &  3x_3   \\\\ \n",
    "  \\text{tel que }   &  3x_1  & + &  2x_2  & + &  2x_3 & + &  x_4   &&  =  & 6  \\\\ \n",
    "                    &  -x_1  & + &  2x_2  & + & -x_3 && + &  x_5   &   =  & 1  \\\\ \n",
    "            & x_1, && x_2, && x_3 , && x_4, & x_5 & \\geq & 0      \\\\ \n",
    "\\end{array} \n",
    "\\end{align*}"
   ]
  },
  {
   "cell_type": "markdown",
   "metadata": {},
   "source": [
    "## $\\textbf{Question 4}$"
   ]
  },
  {
   "cell_type": "markdown",
   "metadata": {},
   "source": [
    "$\\text{Soit le système}$"
   ]
  },
  {
   "cell_type": "markdown",
   "metadata": {},
   "source": [
    "\\begin{align*}\n",
    "    x_1 + x_2 \\leq 1&\\\\\n",
    "    x_1 + x_2 \\geq 2&\\\\\n",
    "    x_1, x_2 \\geq 0&\\\\\n",
    "\\end{align*}\n",
    "\n",
    "$\\text{Utilisons la phase I du simplexe pour montrer que ce système ne possède pas de solution}$\n",
    "\n",
    "$\\text{On converti le problème sous forme standard à l'introduction de deux variables artificiels}$ $x_3,$ $x_4,$ $\\text{on a;}$\n",
    "\n",
    "\\begin{array}{ccccc}\n",
    "    \\min\\ &&&x_3  &+x_4\\\\\n",
    "    \\text{tel que}&x_1  &+x_2  &+x_3 &&= 1\\\\\n",
    "    &x_1  &+x_2  &&-x_4 &= 2\\\\\n",
    "    &x_1, &x_2, &x_3, &x_4 &\\geq 0\\\\\n",
    "\\end{array}\n",
    "\n",
    "$\\text{On obtient le problème sous forme de tableau}$\n",
    "\\begin{array}{ccccc}\n",
    "    &x_1 & x_2 & x_3 &x_4 & b\\\\\n",
    "    &1   & 1   & 1   & 0  & 1\\\\\n",
    "    &1   & 1   & 0   & -1  & 2\\\\\n",
    "    c^T& 0   &0 &1 &1 &0\\\\\n",
    "\\end{array}\n",
    "$\\text{Pour avoir les colonnes de la matrice identité, on multipli la deuxième ligne par}$ $-1$ $\\text{on a;}$\n",
    "\\begin{array}{ccccc}\n",
    "    &x_1 & x_2 & x_3 &x_4 & b\\\\\n",
    "    &1   & 1   & 1   & 0  & 1\\\\\n",
    "    &-1   &-1   & 0   & 1  & -2\\\\\n",
    "    c^T& 0   &0 &1 &1 &0\\\\\n",
    "\\end{array}\n",
    "\n",
    "$\\text{Pour obtenir une solution de base réalisable, il faut annuler les\n",
    "coefficients de}$ $x_3$ $\\text{et}$ $x_4.$ $\\text{Nous obtenons le nouveau tableau}$\n",
    "\\begin{array}{ccccc}\n",
    "    &x_1 & x_2 & x_3 &x_4 & b\\\\\n",
    "    &1   & 1   & 1   & 0  & 1\\\\\n",
    "    &-1   & -1   & 0   & 1  & -2\\\\\n",
    "c^T &0   &0    &0    &0   &1\\\\\n",
    "\\end{array}\n",
    "\n",
    "$\\text{On ne peut donc pas continuer la résolution du système en utilisant le simplexe comme d’ordinaire car}$ $\\\\$ $\\text{on a un système linéaire incompatible qui n'a aucune solution.}$ \n",
    "\\begin{array}{rrrrrrr}\n",
    "    &&&&&&&&&&&&&&&&&&&&&&QED \n",
    "\\end{array}"
   ]
  },
  {
   "cell_type": "markdown",
   "metadata": {},
   "source": [
    "$\\text{La partie en julia;}$"
   ]
  },
  {
   "cell_type": "code",
   "execution_count": 8,
   "metadata": {},
   "outputs": [
    {
     "data": {
      "text/plain": [
       "simplexSolver (generic function with 1 method)"
      ]
     },
     "metadata": {},
     "output_type": "display_data"
    }
   ],
   "source": [
    "function pivot!(M::Matrix, i::Int, j::Int)\n",
    "    m, n = size(M)\n",
    "    @assert M[i, j] != 0\n",
    "    M[i, :] = M[i, :]/M[i, j]\n",
    "    for k in setdiff(1:m, i)\n",
    "        M[k, :] -= M[k, j] * M[i, :]\n",
    "    end\n",
    "    return M\n",
    "end\n",
    "\n",
    "function getReducedCosts(M::Matrix)\n",
    "    m, n = size(M)\n",
    "    return M[end, 1:n-1]\n",
    "end\n",
    "function getxB(M::Matrix)\n",
    "    m, n = size(M)\n",
    "    return M[1:m-1, end]\n",
    "end\n",
    "function enteringVar(M::Matrix)\n",
    "    rc = getReducedCosts(M)\n",
    "    index = argmin(rc)\n",
    "    return rc[index] >= 0 ? -1 : index\n",
    "end\n",
    "function exitingVarIndex(M::Matrix{T}, enteringVar::Int) where T\n",
    "    col = M[1:end-1, enteringVar]\n",
    "    xB = getxB(M)\n",
    "    m, n = size(M)\n",
    "    index = -1\n",
    "    val = T(Inf)\n",
    "    for i in 1:m-1\n",
    "        if (col[i] > 0) && (xB[i]/col[i] < val)\n",
    "            val = xB[i]/col[i]\n",
    "            index = i\n",
    "        end\n",
    "    end\n",
    "    return index\n",
    "end\n",
    "function isOneHot(v::Vector)\n",
    "    n = length(v)\n",
    "    return (sum(iszero, v) == n-1) && (sum(isone, v) == 1)\n",
    "end \n",
    "function isoptimal(M)\n",
    "    return enteringVar(M) == -1\n",
    "end\n",
    "function findInitialBasis!(M::Matrix)\n",
    "    m, n = size(M)\n",
    "    m-=1\n",
    "    n-=1\n",
    "    basis = [-1 for _ in 1:m]\n",
    "    for i in 1:n\n",
    "        if isOneHot(M[1:end-1, i])\n",
    "            index = findfirst(isone, M[:, i])\n",
    "            basis[index] = i\n",
    "        end\n",
    "    end\n",
    "    @assert !any(t-> t == -1, basis) \"problem not caconical\"\n",
    "    for i in 1:m\n",
    "        j = basis[i]\n",
    "        pivot!(M, i, j)\n",
    "    end\n",
    "    return basis\n",
    "end\n",
    "function simplexSolver(A::Matrix{T}, b::Vector, c::Vector; verbose::Bool = false) where T\n",
    "    M = [A b; c' 0]\n",
    "    basis = findInitialBasis!(M)\n",
    "    k = 1\n",
    "    nmax = 1000\n",
    "    while !isoptimal(M) && k < nmax\n",
    "        k+=1\n",
    "        verbose && display(M)\n",
    "        entering = enteringVar(M)\n",
    "        entering == -1 && (println(\"------------\"); return T[-1, -1])\n",
    "        leaving = exitingVarIndex(M, entering)\n",
    "        leaving == -1 && (println(\"------------\"); return T[-1, -1])\n",
    "        verbose && @show (entering, leaving)\n",
    "        basis[leaving] = entering\n",
    "        pivot!(M, leaving, entering)\n",
    "    end\n",
    "    verbose && display(M)\n",
    "    m, n = size(M)\n",
    "    xstar = zeros(T, n - 1)\n",
    "    xstar[basis] = getxB(M)\n",
    "    return xstar\n",
    "end"
   ]
  },
  {
   "cell_type": "code",
   "execution_count": 9,
   "metadata": {},
   "outputs": [
    {
     "data": {
      "text/plain": [
       "3×5 Matrix{Rational{Int64}}:\n",
       "  1//1   1//1  1//1  0//1   1//1\n",
       " -1//1  -1//1  0//1  1//1  -2//1\n",
       "  0//1   0//1  0//1  0//1   1//1"
      ]
     },
     "metadata": {},
     "output_type": "display_data"
    },
    {
     "data": {
      "text/plain": [
       "4-element Vector{Rational{Int64}}:\n",
       "  0//1\n",
       "  0//1\n",
       "  1//1\n",
       " -2//1"
      ]
     },
     "metadata": {},
     "output_type": "display_data"
    }
   ],
   "source": [
    "function  devoir3_4()\n",
    "    \n",
    "    A=[1//1 1 1 0 ; \n",
    "          -1 -1 0 1;\n",
    "    ]\n",
    "    \n",
    "    b=[1, -2]\n",
    "    \n",
    "    c = [0, 0, 1, 1]\n",
    "    simplexSolver(A, b, c, verbose=true)\n",
    "end\n",
    "\n",
    "devoir3_4()"
   ]
  }
 ],
 "metadata": {
  "kernelspec": {
   "display_name": "Julia 1.9.3",
   "language": "julia",
   "name": "julia-1.9"
  },
  "language_info": {
   "file_extension": ".jl",
   "mimetype": "application/julia",
   "name": "julia",
   "version": "1.9.3"
  }
 },
 "nbformat": 4,
 "nbformat_minor": 2
}
