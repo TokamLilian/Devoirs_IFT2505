{
 "cells": [
  {
   "cell_type": "markdown",
   "metadata": {},
   "source": [
    "<div></div>"
   ]
  },
  {
   "cell_type": "markdown",
   "metadata": {},
   "source": [
    "<div></div>"
   ]
  },
  {
   "cell_type": "markdown",
   "metadata": {},
   "source": [
    "\\begin{align*}\n",
    "\\textbf{DEVOIR 4}\n",
    "\\end{align*}"
   ]
  },
  {
   "cell_type": "markdown",
   "metadata": {},
   "source": [
    "<div></div>"
   ]
  },
  {
   "cell_type": "markdown",
   "metadata": {},
   "source": [
    "<div style=\"text-align:center; font-family:Times New Roman; font-size:22px\">\n",
    "    ROMAN NAKHUDA 20207082\n",
    "</div>\n",
    "\n",
    "<div style=\"text-align:center; font-family:Times New Roman; font-size:22px\">\n",
    "    LUCKY KHOUNVONGSA 20172476\n",
    "</div>\n",
    "<div style=\"text-align:center; font-family:Times New Roman; font-size:22px\">\n",
    "    ANGE LILIAN TCHOMTCHOUA TOKAM 20210129\n",
    "</div>"
   ]
  },
  {
   "cell_type": "markdown",
   "metadata": {},
   "source": [
    "<div></div>"
   ]
  },
  {
   "cell_type": "markdown",
   "metadata": {},
   "source": [
    "<div></div>"
   ]
  },
  {
   "cell_type": "markdown",
   "metadata": {},
   "source": [
    "<div style=\"text-align:center; font-family:Times New Roman; font-size:22px\">\n",
    "    OPTIMISATION LINEAIRE - IFT2505\n",
    "</div>\n",
    "<div style=\"text-align:center; font-family:Times New Roman; font-size:18px\">\n",
    "     PROFESSEUR FABIEN BASTIN\n",
    "</div>"
   ]
  },
  {
   "cell_type": "markdown",
   "metadata": {},
   "source": [
    "<div></div>"
   ]
  },
  {
   "cell_type": "markdown",
   "metadata": {},
   "source": [
    "<div></div>"
   ]
  },
  {
   "cell_type": "markdown",
   "metadata": {},
   "source": [
    "<div style=\"text-align:center; font-family:Times New Roman; font-size:16px\">\n",
    "    Université de Montréal\n",
    "</div>\n",
    "<div style=\"text-align:center; font-family:Times New Roman; font-size:16px\">\n",
    "    À remettre le 8 Décembre 2023 à 9:00\n",
    "</div>"
   ]
  },
  {
   "cell_type": "markdown",
   "metadata": {},
   "source": [
    "<div></div>"
   ]
  },
  {
   "cell_type": "markdown",
   "metadata": {},
   "source": [
    "<div></div>"
   ]
  },
  {
   "cell_type": "markdown",
   "metadata": {},
   "source": [
    "## $\\textbf{Question 1}$"
   ]
  },
  {
   "cell_type": "markdown",
   "metadata": {},
   "source": [
    "$\\text{Nous avons le problème suivant : }$\n",
    "\n",
    "\\begin{align*}\n",
    "    \\min_x \\ & 4x_1 + x_2 + x_3 \\\\\n",
    "    t.q. & 2x_1 + x_2 + 2x_3 = 4 \\\\\n",
    "    & 3x_1 + 3x_2 +x_3 = 3\\\\\n",
    "    \\\\& x_1 \\geq 0,\\ x_2 \\geq 0,\\ x_3 \\geq 0.\n",
    "\\end{align*}\n",
    "\n",
    "$\\text{Comme tous les coefficients dans l'objectifs sont non-négatifs, le vecteur}$ $\\lambda$  =  ( $0$ , $0$ ) $\\text{est réalisable pour le dual. Avec}$ $\\lambda$  = ( $0$ , $0$ ), $\\\\ \\text{aucune contrainte du dual n'est active, et donc }$ $P = \\emptyset$\n",
    "\n",
    "$\\text{Le primal restreint est donc :}$\n",
    "\\begin{align*}\n",
    "    \\min_x \\ & y_1 + y_2  \\\\\n",
    "    t.q.  & 2x_1 + x_2 + 2x_3 + y_1 = 4 \\\\\n",
    "    & 3x_1 + 3x_2 +x_3 + y_2 = 3\\\\\n",
    "    \\\\& x_1=x_2=x_3 = 0 \n",
    "    \\\\& y_1,y_2 \\geq 0\n",
    "\\end{align*}\n",
    "\n",
    "$\\text{Formons le tableau du simplexe pour le primal restreint associé.}$\n",
    "\\begin{align*}\n",
    "    \\begin{matrix}\n",
    "        y_1 & 2 & 1 &  2 & 1 & 0 &  4 \\\\\n",
    "        y_2 & 3 & \\color{red}3 &  1 & 0 & 1 &  3 \\\\\n",
    "        &-5 &  -4 & -3 & 0 & 0 & -7 \\\\\n",
    "        & 4 &  1 &  1 \\\\\n",
    "    \\end{matrix}\n",
    "\\end{align*}\n",
    "\n",
    "$P = \\emptyset.$ $\\text{Des rapports entre la quatrième et la troisième ligne, on voit qu'il faut entrer 2 dans } P \\text{, donnant}$\n",
    "\\begin{align*}\n",
    "    \\begin{matrix}\n",
    "        y_1 & 2 & 1 &  2 & 1 & 0 &  4 \\\\\n",
    "        x_2 & 3 & 3 &  1 & 0 & 1 &  3 \\\\\n",
    "        & -5 &  -4 & -3 & 0 & 0 & -7 \\\\\n",
    "        & 11/4 &  0 &  1/4 \\\\\n",
    "    \\end{matrix}\n",
    "\\end{align*}\n",
    "\n",
    "$\\text{On passe à la résolution du primale restreint:}$\n",
    "\\begin{align*}\n",
    "    \\begin{matrix}\n",
    "        y_1 & 1 & 0 &  \\color{red}5/3 & 1 & -1/3 &  3 \\\\\n",
    "        x_2 & 1 & 1 &  1/3 & 0 & 1/3 &  1 \\\\\n",
    "        & -1 &  0 & -5/3 & 0 & 4/3 & -3 \\\\\n",
    "        & 11/4 &  0 &  1/4 \\\\\n",
    "    \\end{matrix}\n",
    "\\end{align*}\n",
    "\n",
    "$P=2. \\\\ \\text{Des rapports entre la quatrième et la troisième ligne, on voit qu'il faut entrer 3 dans } P, \\text{ ainsi}$ $P = \\{2,3\\}$\n",
    "\\begin{align*}\n",
    "    \\begin{matrix}\n",
    "        x_3 & 1 & 0 &  5/3 & 1 & -1/3 &  3 \\\\\n",
    "        x_2 & 1 & 1 &  1/3 & 0 & 1/3 &  1 \\\\\n",
    "        & -1 &  0 & -5/3 & 0 & 4/3 & -3 \\\\\n",
    "        & 13/5 &  0 &  0 \\\\\n",
    "    \\end{matrix}\n",
    "\\end{align*}\n",
    "\n",
    "\n",
    "$\\text{On obtient après resolution :}$\n",
    "\\begin{align*}\n",
    "    \\begin{matrix}\n",
    "        x_3 & 3/5 & 0 &  1 & 3/5 & -1/5 &  9/5 \\\\\n",
    "        x_2 & 4/5 & 1 &  0 & -1/5 & 2/5 &  2/5 \\\\\n",
    "        & 0 &  0 & 0 & 1 & 1 & 0 \\\\\n",
    "        & 13/5 &  0 &  0 \\\\\n",
    "    \\end{matrix}\n",
    "\\end{align*}\n",
    "\n",
    "$\\text{On en déduit la solution optimale}$ $x_1 = 0$, $x_2 = 2/5$, $x_3 = 9/5$ $\\text{avec}$ $z= 11/5.$\n"
   ]
  },
  {
   "cell_type": "markdown",
   "metadata": {},
   "source": [
    "<div></div>"
   ]
  },
  {
   "cell_type": "markdown",
   "metadata": {},
   "source": [
    "<div></div>"
   ]
  },
  {
   "cell_type": "markdown",
   "metadata": {},
   "source": [
    "## $\\textbf{Question 2}$"
   ]
  },
  {
   "cell_type": "markdown",
   "metadata": {},
   "source": [
    "### $\\text{(a)} $"
   ]
  },
  {
   "cell_type": "markdown",
   "metadata": {},
   "source": [
    "$y = \\{ y | A^Ty \\leq c \\} $ $, A \\in \\mathbb{R}^{m\\times n} \\, c  \\in \\mathbb{R} $\n",
    "\n",
    "$\\underset{y}{\\text{min }} \\psi(y_1, \\dots, y_n) $\n",
    "\\begin{align*}\n",
    "\\psi _{y_1, \\dots, y_n} & = - \\left(log(c_1 - a_1^T y_1) + log(c_2 - a_2^T y_2) + \\dots + log(c_n - a_n^T y_n)\\right) \\\\\n",
    "& = - \\left( log(s_1) + log(s_2) + \\dots + log(s_n)\\right)\\\\\n",
    "& = - \\left( log(s_1 s_2 \\dots s_n) \\right) \\\\\n",
    "& = - \\sum_{j=1}^n \\log s_j\n",
    "\\end{align*}\n",
    "\n",
    "$\\text{comme la fonction} -\\log (x) \\text{est strictement décroissante sur } ] 0, +\\infty [, \\\\ \\text{minimiser} -\\log (x) \\text{ revient à maximiser x, ainsi maximiser } s_1 s_2 \\dots s_n $\n"
   ]
  },
  {
   "cell_type": "markdown",
   "metadata": {},
   "source": [
    "### $\\text{(b)} $"
   ]
  },
  {
   "cell_type": "markdown",
   "metadata": {},
   "source": [
    "$AS^{-1} e = 0 $\n",
    "$\\text{Cela découle de la définition du centre analytique, en effet;} \\\\ \\text{On a } AX=0 \\text{ avec } x_j = \\frac{1}{s_j} \\iff X = $\n",
    "\n",
    "\\begin{pmatrix}\n",
    "    \\frac{1}{s_1} \\\\ \\frac{1}{s_2} \\\\ \\vdots \\\\ \\frac{1}{s_n}\n",
    "\\end{pmatrix} \n",
    "\n",
    "$\\text{par définition.} $\n"
   ]
  },
  {
   "cell_type": "markdown",
   "metadata": {},
   "source": [
    "$\\text{il suffit de vérifier que } X= S^{-1}e $\n",
    "$\\text{ainsi, on a }$ \n",
    "\\begin{align*}\n",
    "    S^{-1} = \n",
    "    \\begin{pmatrix}\n",
    "        \\frac{1}{s_1} & 0 & \\dots & 0 \\\\\n",
    "        0 & \\frac{1}{s_2} & \\dots & 0\\\\\n",
    "        \\vdots & \\vdots & \\ddots &\\vdots\\\\\n",
    "        0 & 0 & \\dots & \\frac{1}{s_n}\\\\\n",
    "    \\end{pmatrix}\n",
    "\\end{align*}"
   ]
  },
  {
   "cell_type": "markdown",
   "metadata": {},
   "source": [
    "\\begin{align*}\n",
    "    \\text{donc }S^{-1}e = \n",
    "    \\begin{pmatrix}\n",
    "        \\frac{1}{s_1} & 0 & \\dots & 0 \\\\\n",
    "        0 & \\frac{1}{s_2} & \\dots & 0\\\\\n",
    "        \\vdots & \\vdots & \\ddots &\\vdots\\\\\n",
    "        0 & 0 & \\dots & \\frac{1}{s_n}\\\\\n",
    "    \\end{pmatrix}\n",
    "    \\begin{pmatrix}\n",
    "        1\\\\\n",
    "        1\\\\\n",
    "        \\vdots\\\\\n",
    "        1\\\\\n",
    "    \\end{pmatrix}\n",
    "    =\n",
    "    \\begin{pmatrix}\n",
    "        \\frac{1}{s_1} \\\\ \\frac{1}{s_2} \\\\ \\vdots \\\\ \\frac{1}{s_n}\n",
    "    \\end{pmatrix} \n",
    "    = X\n",
    "\\end{align*}"
   ]
  },
  {
   "cell_type": "markdown",
   "metadata": {},
   "source": [
    "$\\text{on a donc l'inégalité voulu} $\n",
    "$AX = AS^{-1}e = 0 $"
   ]
  },
  {
   "cell_type": "markdown",
   "metadata": {},
   "source": [
    "### $\\text{(c)} $"
   ]
  },
  {
   "cell_type": "markdown",
   "metadata": {},
   "source": [
    "$\\text{On sait que si } m = n \\text{alors ce système }AX=0 \\text{a une solution non-triviale donc le polytope } \\Omega \\text{n'est pas vide. Par conséquent on peut choisir}\\\\ \\text{le centre analytique sur } AT_{y+s} = c \\text{la surface linéaire, pour pouvoir maximiser le produit des variables d'écart.} $"
   ]
  },
  {
   "cell_type": "markdown",
   "metadata": {},
   "source": [
    "<div></div>"
   ]
  },
  {
   "cell_type": "markdown",
   "metadata": {},
   "source": [
    "<div></div>"
   ]
  },
  {
   "cell_type": "markdown",
   "metadata": {},
   "source": [
    "## $\\textbf{Question 3}$"
   ]
  },
  {
   "cell_type": "code",
   "execution_count": 1,
   "id": "24ec925f",
   "metadata": {},
   "outputs": [],
   "source": [
    "using LinearAlgebra\n",
    "\n",
    "# Prévenir les log(0)\n",
    "epsillon = 1e-5\n",
    "\n",
    "\n",
    "function barrier(x)\n",
    "    return -sum(log.(max.(epsillon, b - A * x)))\n",
    "end\n",
    "\n",
    "# Gradiant de la fonction barrier\n",
    "function grad_barrier(x)\n",
    "    return A' * (1. ./ max.(epsillon, b - A * x))\n",
    "end\n",
    "\n",
    "# Hessian of the barrier function\n",
    "function hessian_barrier(x)\n",
    "    return A' * Diagonal((1. ./ max.(epsillon, b - A * x)).^2) * A\n",
    "end\n",
    "\n",
    "# Application de Newton\n",
    "function newton(x0; tol=1e-8, iter_max=100)\n",
    "    x = x0\n",
    "    for i in 1:iter_max\n",
    "        gradiant = grad_barrier(x)\n",
    "        hessienne = hessian_barrier(x)\n",
    "        \n",
    "        delta_x = -inv(hessienne) * gradiant\n",
    "        lambda = -gradiant' * delta_x\n",
    "        \n",
    "        # Arret\n",
    "        if sqrt(lambda) / 2 < tol\n",
    "            break\n",
    "        end\n",
    "        \n",
    "        # Backtracking (Recherche arrière)\n",
    "        t = 1.0\n",
    "        alpha = 0.25\n",
    "        beta = 0.5\n",
    "        while barrier(x + t * delta_x) > barrier(x) + alpha * t * gradiant' * delta_x\n",
    "            t *= beta\n",
    "        end\n",
    "        \n",
    "        x += t * delta_x\n",
    "    end\n",
    "    return x\n",
    "end\n",
    "\n",
    "# Contraintes\n",
    "A = [1 1; -1 -1; 1 -1; -1 1]\n",
    "b = [3; -1; 1; 1]\n",
    "\n",
    "# Point de départ\n",
    "x0 = [1, 1]\n",
    "\n",
    "center = newton(x0)\n",
    "\n",
    "println(\"Centre analytique du polyhedre: \", center)"
   ]
  }
 ],
 "metadata": {
  "kernelspec": {
   "display_name": "Julia 1.9.3",
   "language": "julia",
   "name": "julia-1.9"
  },
  "language_info": {
   "file_extension": ".jl",
   "mimetype": "application/julia",
   "name": "julia",
   "version": "1.9.3"
  }
 },
 "nbformat": 4,
 "nbformat_minor": 2
}
