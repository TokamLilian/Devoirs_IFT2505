{
 "cells": [
  {
   "cell_type": "markdown",
   "metadata": {},
   "source": [
    "## $\\textbf{Question 1}$"
   ]
  },
  {
   "cell_type": "markdown",
   "metadata": {},
   "source": [
    "$\\textbf{Soit le problème: }$"
   ]
  },
  {
   "cell_type": "markdown",
   "metadata": {},
   "source": [
    "\\begin{align*} \n",
    "\\begin{array}{l c c c c c c c} \n",
    "  \\min\\  x  = &  -2x    & - &  y   & - &  3z  &  &   \\\\ \n",
    "  \\text{tel que }   &  2x  & + &  3y  & + &  4z   &  \\leq  & 120  \\\\ \n",
    "            &  x      & + &  2y  &&&  \\leq  & 50  \\\\ \n",
    "            &  x      && + &&  2z  &  \\leq  & 50  \\\\ \n",
    "            & x, && y, && z & \\geq & 0      \\\\ \n",
    "\\end{array} \n",
    "\\end{align*}"
   ]
  },
  {
   "cell_type": "markdown",
   "metadata": {},
   "source": [
    "- $\\textbf{(a) Resolvons le problème à la main avec la méthode du simplexe.}$"
   ]
  },
  {
   "cell_type": "markdown",
   "metadata": {},
   "source": [
    "$\\text{On transforme le problème sous la forme standard à l'introduction des variables d'écarts}$ $s_1,$ $s_2$ $\\text{et}$ $s_2.$"
   ]
  },
  {
   "cell_type": "markdown",
   "metadata": {},
   "source": [
    "$\\text{On obtient:}$"
   ]
  },
  {
   "cell_type": "markdown",
   "metadata": {},
   "source": [
    "\\begin{align*} \n",
    "\\begin{array}{l c c c c c c c c c c} \n",
    "  \\min\\  x  = &  -2x    & - &  y   & - &  3z  &  &   \\\\ \n",
    "  \\text{tel que }   &  2x  & + &  3y  & + &  4z  & + & s_1 & && && =  & 120  \\\\ \n",
    "            &  x      & + &  2y  && && & + & s_2 & &&  =  & 50  \\\\ \n",
    "            &  x      && & + & 2z &&  && &+& s_3&  =  & 50  \\\\ \n",
    "            & x, && y, && z, && s_1, && s_2, && s_3 & \\geq & 0      \\\\ \n",
    "\\end{array} \n",
    "\\end{align*}"
   ]
  },
  {
   "cell_type": "markdown",
   "metadata": {},
   "source": [
    "$\\text{Avec les variables dans la base}$ $s_1,$ $s_2$ $\\text{et}$ $s_2,$ $\\text{On obtient le tableau du simplexe suivant;}$"
   ]
  },
  {
   "cell_type": "markdown",
   "metadata": {},
   "source": [
    "\\begin{align*}\n",
    "\\begin{array}{c|cccccc|c}\n",
    "& x & y & z & s_1 & s_2 & s_3 & \\text{T.D.}\\\\\n",
    "\\hline\n",
    "s_1 & 2 & 3 & 4 & 1 & 0 & 0 & 120 \\\\\n",
    "s_2 & 1 & 2 & 0 & 0 & 1 & 0 & 50 \\\\\n",
    "s_3 & 1 & 0 & \\color{red} 2 & 0 & 0 & 1 & 50 \\\\\n",
    "\\hline\n",
    "-z  & -2 & -1 & -3 & 0 & 0 & 0 & 0\\\\\n",
    "\\end{array}\n",
    "\\end{align*}"
   ]
  },
  {
   "cell_type": "markdown",
   "metadata": {},
   "source": [
    "$\\text{On prend}$ $z$ $\\text{comme variable d'entrée et}$ $s_3$ $\\text{comme variable de sortie.}$"
   ]
  },
  {
   "cell_type": "markdown",
   "metadata": {},
   "source": [
    "\\begin{align*}\n",
    "\\begin{array}{c|cccccc|c}\n",
    "& x & y & z & s_1 & s_2 & s_3 & \\text{T.D.}\\\\\n",
    "\\hline\n",
    "s_1 & 0 & \\color{red}3 & 0 & 1 & 0 & 0 & 20 \\\\\n",
    "s_2 & 1 & 2 & 0 & 0 & 1 & 0 & 50 \\\\\n",
    "z & 1/2 & 0 & 1 & 0 & 0 & 1/2 & 25 \\\\\n",
    "\\hline\n",
    "-z  & -1/2 & -1 & 0 & 0 & 0 & 3/2 & 75\\\\\n",
    "\\end{array}\n",
    "\\end{align*}"
   ]
  },
  {
   "cell_type": "markdown",
   "metadata": {},
   "source": [
    "$\\text{On prend}$ $y$ $\\text{comme variable d'entrée et}$ $s_1$ $\\text{comme variable de sortie.}$"
   ]
  },
  {
   "cell_type": "markdown",
   "metadata": {},
   "source": [
    "\\begin{align*}\n",
    "\\begin{array}{c|cccccc|c}\n",
    "& x & y & z & s_1 & s_2 & s_3 & \\text{T.D.}\\\\\n",
    "\\hline\n",
    "y & 0 & 1 & 0 & 1/3 & 0 & 0 & 20/3 \\\\\n",
    "s_2 & \\color{red}1 & 0 & 0 & -2/3 & 1 & 0 & 110/3 \\\\\n",
    "z & 1/2 & 0 & 1 & 0 & 0 & 1/2 & 25 \\\\\n",
    "\\hline\n",
    "-z  & -1/2 & 0 & 0 & 1/3 & 0 & 3/2 & 245/3\\\\\n",
    "\\end{array}\n",
    "\\end{align*}"
   ]
  },
  {
   "cell_type": "markdown",
   "metadata": {},
   "source": [
    "$\\text{On prend}$ $x$ $\\text{comme variable d'entrée et}$ $s_2$ $\\text{comme variable de sortie.}$"
   ]
  },
  {
   "cell_type": "markdown",
   "metadata": {},
   "source": [
    "\\begin{align*}\n",
    "\\begin{array}{c|cccccc|c}\n",
    "& x & y & z & s_1 & s_2 & s_3 & \\text{T.D.}\\\\\n",
    "\\hline\n",
    "y & 0 & 1 & 0 & 1/3 & 0 & 0 & 20/3 \\\\\n",
    "x & 1 & 0 & 0 & -2/3 & 1 & 0 & 110/3 \\\\\n",
    "z & 0 & 0 & 1 & 0 & 1/3 & 1/2 & 20/3 \\\\\n",
    "\\hline\n",
    "-z  & 0 & 0 & 0 & 0 & 1/2 & 3/2 & 100\\\\\n",
    "\\end{array}\n",
    "\\end{align*}"
   ]
  },
  {
   "cell_type": "markdown",
   "metadata": {},
   "source": [
    "$\\text{Donc,}$"
   ]
  },
  {
   "cell_type": "markdown",
   "metadata": {},
   "source": [
    "\\begin{align*}\n",
    "&x=110/3,\\ y=20/3,\\ z=20/3 \\\\\n",
    "&s_1=s_2=s_3=0 \n",
    "\\end{align*}\n",
    "$\\text{et la valeur optimale du problème est}$ $z^{\\star}=-100$."
   ]
  },
  {
   "cell_type": "markdown",
   "metadata": {},
   "source": [
    "- $\\textbf{(b) Resolvons le problème avec la méthode du simplexe revisée.}$"
   ]
  },
  {
   "cell_type": "markdown",
   "metadata": {},
   "source": [
    "$\\text{Considérons le problème sous forme canonique:}$\n",
    "\\begin{align*} \n",
    "\\begin{array}{l c c c c c c c c c c} \n",
    "  \\min\\  x  = &  -2x    & - &  y   & - &  3z  &  &   \\\\ \n",
    "  \\text{tel que }   &  2x  & + &  3y  & + &  4z  & + & s_1 & && && =  & 120  \\\\ \n",
    "            &  x      & + &  2y  && && & + & s_2 & &&  =  & 50  \\\\ \n",
    "            &  x      &&  & + & 2z&  && &+& s_3&  &=  & 50  \\\\ \n",
    "            & x, && y, && z, && s_1, && s_2, && s_3 & \\geq & 0      \\\\ \n",
    "\\end{array} \n",
    "\\end{align*}"
   ]
  },
  {
   "cell_type": "markdown",
   "metadata": {},
   "source": [
    "$\\text{On se limite à:}$\n",
    "\\begin{align*}\n",
    "\\begin{array}{c|ccc|c}\n",
    "\\text{Var} && && x_B\\\\\n",
    "\\hline\n",
    "s_1 & 1 & 0 & 0 & 120 \\\\\n",
    "s_2 & 0 & 1 & 0 & 50 \\\\\n",
    "s_3 & 0 & 0 & 1 & 50 \\\\\n",
    "\\end{array}\n",
    "\\end{align*}"
   ]
  },
  {
   "cell_type": "markdown",
   "metadata": {},
   "source": [
    "$\\text{On a,}$ $\\lambda ^T = c^T_B B^-1 =\n",
    "\\begin{pmatrix}\n",
    "0 & 0 & 0 \n",
    "\\end{pmatrix} B^{-1} =\n",
    "\\begin{pmatrix}\n",
    "0 & 0 & 0 \n",
    "\\end{pmatrix} $"
   ]
  },
  {
   "cell_type": "markdown",
   "metadata": {},
   "source": [
    "$\\text{et}$ $r^T_D = C^T_D - \\lambda ^T D = \n",
    "\\begin{pmatrix}\n",
    "-2 & -1 & -3 \n",
    "\\end{pmatrix}$"
   ]
  },
  {
   "cell_type": "markdown",
   "metadata": {},
   "source": [
    "$\\text{On obtient le dictionnaire;}$\n",
    "\\begin{align*}\n",
    "\\begin{array}{ccccc}\n",
    "s_1 & = & 120 & -2x &-3y &-4z\\\\\n",
    "s_2 & = & 50 & -x &-2y \\\\\n",
    "s_3 & = & 50 & -x && -2z\\\\\n",
    "\\hline\n",
    "z & = & 0 & -2x &-y &-3z\\\\\n",
    "\\end{array}\n",
    "\\end{align*}"
   ]
  },
  {
   "cell_type": "markdown",
   "metadata": {},
   "source": [
    "$\\text{La base}$ $B$ $\\text{est constituée des colonnes associées aux variables}$ $s_1,$ $s_2$ $\\text{et}$ $s_3.$\n",
    "\n",
    "\\begin{align*}\n",
    "    & B =\n",
    "    \\begin{pmatrix}\n",
    "         1 & 0 & 0 \\\\\n",
    "         0 & 1 & 0 \\\\\n",
    "         0 & 0 & 1\n",
    "    \\end{pmatrix} \\\\ \\\\\n",
    "\\end{align*}\n",
    "$\\text{Le variable entrante retenue est}$ $z,$ $\\text{et on construit le tableau}$\n",
    "\\begin{array}{c|ccc|c|c}\n",
    "          \\text{Var} && && x_B &x\\\\\n",
    "          \\hline\n",
    "          s_1 & 1 & 0 & 0 & 120 &4\\\\\n",
    "          s_2 & 0 & 1 & 0 & 50 &0\\\\\n",
    "          s_3 & 0 & 0 & 1 & 50 &\\color{red}2\\\\\\\n",
    "\\end{array}\n",
    "\n",
    "$\\text{Après le pivot,}$\n",
    "\\begin{array}{c|ccc|c}\n",
    "          \\text{Var} && && x_B \\\\\n",
    "          \\hline\n",
    "          s_1 & 1 & 0 & -2 & 20 \\\\\n",
    "          s_2 & 0 & 1 & 0 & 50 \\\\\n",
    "          z & 0 & 0 & 1/2 & 25 \\\\\n",
    "\\end{array}\n",
    " "
   ]
  },
  {
   "cell_type": "markdown",
   "metadata": {},
   "source": [
    "$\\text{Nous avons également}$ $C^T_B = \n",
    "\\begin{pmatrix}\n",
    "0 & 0 & -3\n",
    "\\end{pmatrix}\n",
    "$ $\\\\$\n",
    "$\\text{et}$ $\\lambda^T = c^T_B B^{-1} =\n",
    "\\begin{pmatrix}\n",
    "0 & 0 & -3\n",
    "\\end{pmatrix}\n",
    "\\begin{pmatrix}\n",
    "     1 & 0 & -2 \\\\\n",
    "     0 & 1 & 0 \\\\\n",
    "     0 & 0 & 1/2\n",
    "\\end{pmatrix} \n",
    " = \\begin{pmatrix}\n",
    "     0 & 0 & -3/2\n",
    "\\end{pmatrix}$\n"
   ]
  },
  {
   "cell_type": "markdown",
   "metadata": {},
   "source": [
    "$\\text{Les coûts reduits se calculent de manière similaire}$ $\\\\$\n",
    "\\begin{align*}\n",
    "    r^T_D & = C^T_D - \\lambda^T D \\\\\n",
    "    & = \n",
    "        \\begin{pmatrix}\n",
    "            -2 & -1 & 0\n",
    "        \\end{pmatrix}\n",
    "        - \\begin{pmatrix}\n",
    "            0 & 0 & -3/2\n",
    "          \\end{pmatrix}\n",
    "          \\begin{pmatrix}\n",
    "            2 & 3 & 0 \\\\\n",
    "            1 & 2 & 0 \\\\\n",
    "            1 & 0 & 1\n",
    "          \\end{pmatrix} \\\\\n",
    "    & = \n",
    "        \\begin{pmatrix}\n",
    "            -1/2 & -1 & 3/2\n",
    "        \\end{pmatrix} \\\\\n",
    "    & = \n",
    "        \\begin{pmatrix}\n",
    "            r_1 & r_2 & r_3\n",
    "        \\end{pmatrix}\n",
    "\\end{align*}"
   ]
  },
  {
   "cell_type": "markdown",
   "metadata": {},
   "source": [
    "$\\text{Par la suite, On prend}$ $y$ $\\text{comme variable entrante, on obtient;}$"
   ]
  },
  {
   "cell_type": "markdown",
   "metadata": {},
   "source": [
    "\\begin{align*}\n",
    "y = \n",
    "    \\begin{pmatrix}\n",
    "         1 & 0 & -2 \\\\\n",
    "         0 & 1 & 0 \\\\\n",
    "         0 & 0 & 1/2\n",
    "    \\end{pmatrix}\n",
    "    \\begin{pmatrix}\n",
    "         2 \\\\\n",
    "         1 \\\\\n",
    "         1 \n",
    "    \\end{pmatrix}\n",
    "    =\n",
    "    \\begin{pmatrix}\n",
    "         3 \\\\\n",
    "         2 \\\\\n",
    "         0 \n",
    "     \\end{pmatrix}\n",
    "\\end{align*} \\\\"
   ]
  },
  {
   "cell_type": "markdown",
   "metadata": {},
   "source": [
    "\\begin{array}{c|ccc|c|c}\n",
    "    \\text{Var} && && x_B &y\\\\\n",
    "    \\hline\n",
    "    s_1 & 1 & 0 & -2 & 20 &\\color{red}3 \\\\\n",
    "    s_2 & 0 & 1 & 0 & 50 &2\\\\\n",
    "    z & 0 & 0 & 1/2 & 25 &0\\\\\n",
    "\\end{array}"
   ]
  },
  {
   "cell_type": "markdown",
   "metadata": {},
   "source": [
    "$\\text{Après le pivot:}$\n",
    "\\begin{array}{c|ccc|c}\n",
    "    \\text{Var} && && x_B \\\\\n",
    "    \\hline\n",
    "    y & 1/3 & 0 & -2/3 & 20/3 \\\\\n",
    "    s_2 & -2/3 & 1 & 4/3 & 110/3 \\\\\n",
    "    z & 0 & 0 & 1/2 & 25 \\\\\n",
    "\\end{array}"
   ]
  },
  {
   "cell_type": "markdown",
   "metadata": {},
   "source": [
    "$\\text{Nous avons également}$ $C^T_B = \n",
    "\\begin{pmatrix}\n",
    "-1 & 0 & -3\n",
    "\\end{pmatrix}\n",
    "$ $\\\\$\n",
    "$\\text{et}$ $\\lambda^T = c^T_B B^{-1} =\n",
    "\\begin{pmatrix}\n",
    "-1 & 0 & -3\n",
    "\\end{pmatrix}\n",
    "\\begin{pmatrix}\n",
    "     1/3 & 0 & -2/3 \\\\\n",
    "     -2/3 & 1 & 4/3 \\\\\n",
    "     0 & 0 & 1/2\n",
    "\\end{pmatrix} \n",
    " = \\begin{pmatrix}\n",
    "     -1/3 & 0 & -5/6\n",
    "\\end{pmatrix}$\n"
   ]
  },
  {
   "cell_type": "markdown",
   "metadata": {},
   "source": [
    "\\begin{align*}\n",
    "    r^T_D =\n",
    "    & \n",
    "        \\begin{pmatrix}\n",
    "            -2 & 0 & 0\n",
    "        \\end{pmatrix}\n",
    "        - \\begin{pmatrix}\n",
    "            -1/3 & 0 & -5/6\n",
    "          \\end{pmatrix}\n",
    "          \\begin{pmatrix}\n",
    "            2 & 1 & 0 \\\\\n",
    "            1 & 0 & 0 \\\\\n",
    "            1 & 0 & 1\n",
    "          \\end{pmatrix} \\\\\n",
    "    & = \n",
    "        \\begin{pmatrix}\n",
    "            -1/2 & 1/3 & 5/6\n",
    "        \\end{pmatrix} \\\\\n",
    "    & = \n",
    "        \\begin{pmatrix}\n",
    "            r_1 && r_2 && r_3\n",
    "        \\end{pmatrix}\n",
    "\\end{align*}"
   ]
  },
  {
   "cell_type": "markdown",
   "metadata": {},
   "source": [
    "$\\text{Le variable entrante retenue est}$ $x,$ $\\text{et on construit le tableau}$"
   ]
  },
  {
   "cell_type": "markdown",
   "metadata": {},
   "source": [
    "\\begin{align*}\n",
    "x = \n",
    "    \\begin{pmatrix}\n",
    "         1/3 & 0 & -2/3 \\\\\n",
    "         -2/3 & 1 & 4/3 \\\\\n",
    "         0 & 0 & 1/2\n",
    "    \\end{pmatrix}\n",
    "    \\begin{pmatrix}\n",
    "         2 \\\\\n",
    "         1 \\\\\n",
    "         1 \n",
    "    \\end{pmatrix}\n",
    "    =\n",
    "    \\begin{pmatrix}\n",
    "         0 \\\\\n",
    "         1 \\\\\n",
    "         1/2 \n",
    "     \\end{pmatrix}\n",
    "\\end{align*} \\\\"
   ]
  },
  {
   "cell_type": "markdown",
   "metadata": {},
   "source": [
    "\\begin{array}{c|ccc|c|c}\n",
    "    \\text{Var} && && x_B &x\\\\\n",
    "    \\hline\n",
    "    y & 1/3 & 0 & -2/3 & 20/3 &0 \\\\\n",
    "    s_2 & -2/3 & 1 & 4/3 & 110/3 &\\color{red}1\\\\\n",
    "    z & 0 & 0 & 1/2 & 25 &1/2\\\\\n",
    "\\end{array}"
   ]
  },
  {
   "cell_type": "markdown",
   "metadata": {},
   "source": [
    "$\\text{Après le pivot et la variable sortante}$ $s_2,$"
   ]
  },
  {
   "cell_type": "markdown",
   "metadata": {},
   "source": [
    "\\begin{array}{c|ccc|c}\n",
    "    \\text{Var} && && x_B\\\\\n",
    "    \\hline\n",
    "    y & 1/3 & 0 & -2/3 & 20/3 \\\\\n",
    "    x & -2/3 & 1 & 4/3 & 110/3\\\\\n",
    "    z & 1/3 & -1/2 & -1/6 & 20/3\\\\\n",
    "\\end{array}"
   ]
  },
  {
   "cell_type": "markdown",
   "metadata": {},
   "source": [
    "$\\text{On a,}$ $\\lambda^T =\n",
    "\\begin{pmatrix}\n",
    "-1 & -2 & -3\n",
    "\\end{pmatrix}\n",
    "\\begin{pmatrix}\n",
    "     1/3 & 0 & -2/3 \\\\\n",
    "     -2/3 & 1 & 4/3 \\\\\n",
    "     1/3 & -1/2 & 1/6\n",
    "\\end{pmatrix} \n",
    " = \\begin{pmatrix}\n",
    "     0 & -1/2 & -3/2\n",
    "\\end{pmatrix}$"
   ]
  },
  {
   "cell_type": "markdown",
   "metadata": {},
   "source": [
    "\\begin{align*}\n",
    "    r^T_D =\n",
    "    & \n",
    "        \\begin{pmatrix}\n",
    "            0 & 0 & 0\n",
    "        \\end{pmatrix}\n",
    "        - \\begin{pmatrix}\n",
    "            0 & -1/2 & -3/2\n",
    "          \\end{pmatrix}\n",
    "          \\begin{pmatrix}\n",
    "            1 & 0 & 0 \\\\\n",
    "            0 & 1 & 0 \\\\\n",
    "            0 & 0 & 1\n",
    "          \\end{pmatrix} \\\\\n",
    "    & = \n",
    "        \\begin{pmatrix}\n",
    "            0 & 1/2 & 3/2\n",
    "        \\end{pmatrix} \\\\\n",
    "    & \\implies r_1 = 0, r_2 = 1/2, r_3 = 3/2\n",
    "        \n",
    "\\end{align*}"
   ]
  },
  {
   "cell_type": "markdown",
   "metadata": {},
   "source": [
    "$\\text{D'où la solution optimale}$\n",
    "$x = \n",
    "\\begin{pmatrix}\n",
    "    110/3, &20/3, &20/3, &0, &0, &0\n",
    "\\end{pmatrix}$"
   ]
  },
  {
   "cell_type": "markdown",
   "metadata": {},
   "source": [
    "- $\\textbf{(c) Utilisons  JuMP en Julia pour vérifier la solution du problème.}$"
   ]
  },
  {
   "cell_type": "code",
   "execution_count": null,
   "metadata": {},
   "outputs": [],
   "source": [
    "using JuMP, HiGHS"
   ]
  },
  {
   "cell_type": "code",
   "execution_count": null,
   "metadata": {},
   "outputs": [],
   "source": [
    "m = Model(HiGHS.Optimizer)\n",
    "\n",
    "@variable(m, 0 <= x)\n",
    "@variable(m, 0 <= y)\n",
    "@variable(m, 0 <= z)\n",
    "\n",
    "@constraint(m, 2x + 3y + 4z <= 120.0)\n",
    "@constraint(m, x + 2y <= 50.0)\n",
    "@constraint(m, x + 2z <= 50.0)\n",
    "\n",
    "@objective(m, Min, -2x-y-3z)\n",
    "\n",
    "print(m)"
   ]
  },
  {
   "cell_type": "code",
   "execution_count": null,
   "metadata": {},
   "outputs": [],
   "source": [
    "status = optimize!(m)"
   ]
  },
  {
   "cell_type": "code",
   "execution_count": null,
   "metadata": {},
   "outputs": [],
   "source": [
    "println([value(x), value(y), value(z)])"
   ]
  },
  {
   "cell_type": "code",
   "execution_count": null,
   "metadata": {},
   "outputs": [],
   "source": [
    "function pivot!(M::Matrix, i::Int, j::Int)\n",
    "    m, n = size(M)\n",
    "    @assert M[i, j] != 0\n",
    "    M[i, :] = M[i, :]/M[i, j]\n",
    "    for k in setdiff(1:m, i)\n",
    "        M[k, :] -= M[k, j] * M[i, :]\n",
    "    end\n",
    "    return M\n",
    "end\n",
    "\n",
    "function getReducedCosts(M::Matrix)\n",
    "    m, n = size(M)\n",
    "    return M[end, 1:n-1]\n",
    "end\n",
    "function getxB(M::Matrix)\n",
    "    m, n = size(M)\n",
    "    return M[1:m-1, end]\n",
    "end\n",
    "function enteringVar(M::Matrix)\n",
    "    rc = getReducedCosts(M)\n",
    "    index = argmin(rc)\n",
    "    return rc[index] >= 0 ? -1 : index\n",
    "end\n",
    "function exitingVarIndex(M::Matrix{T}, enteringVar::Int) where T\n",
    "    col = M[1:end-1, enteringVar]\n",
    "    xB = getxB(M)\n",
    "    m, n = size(M)\n",
    "    index = -1\n",
    "    val = T(Inf)\n",
    "    for i in 1:m-1\n",
    "        if (col[i] > 0) && (xB[i]/col[i] < val)\n",
    "            val = xB[i]/col[i]\n",
    "            index = i\n",
    "        end\n",
    "    end\n",
    "    return index\n",
    "end\n",
    "function isOneHot(v::Vector)\n",
    "    n = length(v)\n",
    "    return (sum(iszero, v) == n-1) && (sum(isone, v) == 1)\n",
    "end \n",
    "function isoptimal(M)\n",
    "    return enteringVar(M) == -1\n",
    "end\n",
    "function findInitialBasis!(M::Matrix)\n",
    "    m, n = size(M)\n",
    "    m-=1\n",
    "    n-=1\n",
    "    basis = [-1 for _ in 1:m]\n",
    "    for i in 1:n\n",
    "        if isOneHot(M[1:end-1, i])\n",
    "            index = findfirst(isone, M[:, i])\n",
    "            basis[index] = i\n",
    "        end\n",
    "    end\n",
    "    @assert !any(t-> t == -1, basis) \"problem not caconical\"\n",
    "    for i in 1:m\n",
    "        j = basis[i]\n",
    "        pivot!(M, i, j)\n",
    "    end\n",
    "    return basis\n",
    "end\n",
    "function simplexSolver(A::Matrix{T}, b::Vector, c::Vector; verbose::Bool = false) where T\n",
    "    M = [A b; c' 0]\n",
    "    basis = findInitialBasis!(M)\n",
    "    k = 1\n",
    "    nmax = 1000\n",
    "    while !isoptimal(M) && k < nmax\n",
    "        k+=1\n",
    "        verbose && display(M)\n",
    "        entering = enteringVar(M)\n",
    "        entering == -1 && (println(\"------------\"); return T[-1, -1])\n",
    "        leaving = exitingVarIndex(M, entering)\n",
    "        leaving == -1 && (println(\"------------\"); return T[-1, -1])\n",
    "        verbose && @show (entering, leaving)\n",
    "        basis[leaving] = entering\n",
    "        pivot!(M, leaving, entering)\n",
    "    end\n",
    "    verbose && display(M)\n",
    "    m, n = size(M)\n",
    "    xstar = zeros(T, n - 1)\n",
    "    xstar[basis] = getxB(M)\n",
    "    return xstar\n",
    "end"
   ]
  },
  {
   "cell_type": "code",
   "execution_count": null,
   "metadata": {},
   "outputs": [],
   "source": [
    "A=[2//1 3 4 1 0 0 ; \n",
    "    1 2 0 0 1 0;\n",
    "    1 0 2 0 0 1;\n",
    "]\n",
    "b=[120, 50, 50]\n",
    "c = [-2,-1,-3,0,0,0]"
   ]
  },
  {
   "cell_type": "code",
   "execution_count": null,
   "metadata": {},
   "outputs": [],
   "source": [
    "simplexSolver(A, b, c, verbose=true)"
   ]
  }
 ],
 "metadata": {
  "kernelspec": {
   "display_name": "Julia 1.9.3",
   "language": "julia",
   "name": "julia-1.9"
  },
  "language_info": {
   "file_extension": ".jl",
   "mimetype": "application/julia",
   "name": "julia",
   "version": "1.9.3"
  },
  "orig_nbformat": 4
 },
 "nbformat": 4,
 "nbformat_minor": 2
}
