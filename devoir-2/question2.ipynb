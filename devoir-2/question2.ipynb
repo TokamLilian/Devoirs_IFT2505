{
 "cells": [
  {
   "cell_type": "markdown",
   "metadata": {},
   "source": [
    "## $\\textbf{Question 2}$"
   ]
  },
  {
   "cell_type": "markdown",
   "metadata": {},
   "source": [
    "$\\text{On va résoudre la démonstration par contradiction}$"
   ]
  },
  {
   "cell_type": "markdown",
   "metadata": {},
   "source": [
    "$\\text{On suppose}$ $\\urcorner p$ $\\text{ ainsi: }$\n",
    "$\\text{On suppose que toutes solutions de base réalisable dégénérée}$ $\\\\$ $\\text{peuvent être optimales en satisfaisant}$ $r_j \\geq 0$ $\\text{pour tout }$ $j.$"
   ]
  },
  {
   "cell_type": "markdown",
   "metadata": {},
   "source": [
    "$\\text{On considère ainsi le problème linéaire suivant: }$"
   ]
  },
  {
   "cell_type": "markdown",
   "metadata": {},
   "source": [
    "$\\text{Considérons le programme linéaire suivant:}$\n",
    "\\begin{array}{ccccc}\n",
    "    \\max\\ &x_1  & + & x_2\\\\\n",
    "    \\text{tel que} &x_1 & + & x_2  & \\leq & 0\\\\\n",
    "                   &&& x_2  & \\leq &0\\\\\n",
    "    &x_1, &&x_2 & \\geq &0\\\\\n",
    "\\end{array}\n"
   ]
  },
  {
   "cell_type": "markdown",
   "metadata": {},
   "source": [
    "\\begin{array}{ccccccccc}\n",
    "    &-\\min\\ &-x_1  & - & x_2\\\\\n",
    "    &\\text{tel que} &x_1 & + & x_2 & + & x_3 && = & 0\\\\\n",
    "    \\implies &               &&& x_2 && + &x_4 &  = &0\\\\\n",
    "    &&x_1, &&x_2, && x_3, & x_4 & \\geq &0\\\\\n",
    "\\end{array}"
   ]
  },
  {
   "cell_type": "markdown",
   "metadata": {},
   "source": [
    "$\\text{En utilisant la méthode du simplexe on a:}$"
   ]
  },
  {
   "cell_type": "markdown",
   "metadata": {},
   "source": [
    "\\begin{array}{ccccc}\n",
    "    &x_1 & x_2 & x_3 &x_4 & b\\\\\n",
    "    x_3 &\\color{red}1   & 1   & 1   & 0  & 0\\\\\n",
    "    x_4 &0   & 1   & 0   & 1  & 0\\\\\n",
    "    c^T& -1 & -1 & 0 &0 &0\\\\\n",
    "\\end{array}"
   ]
  },
  {
   "cell_type": "markdown",
   "metadata": {},
   "source": [
    "$\\text{Il y a des coéficientes reduits négatifs, par la suite on a:}$"
   ]
  },
  {
   "cell_type": "markdown",
   "metadata": {},
   "source": [
    "\\begin{array}{ccccc}\n",
    "    &x_1 & x_2 & x_3 &x_4 & b\\\\\n",
    "    &1   & 1   & 1   & 0  & 0\\\\\n",
    "    &0   & 1   & 0   & 1  & 0\\\\\n",
    "    c^T& 0 & 0 & 1 &0 &0\\\\\n",
    "\\end{array}"
   ]
  },
  {
   "cell_type": "markdown",
   "metadata": {},
   "source": [
    "$\\text{On obtient donc la solution optimale}$ $(0, 0, 0, 0)$ $\\text{et}$ $z=0$ $\\text{avec des coûts réduits négatifs,}$ $\\\\$ $\\text{ce qui mène à une contradiction à}$ $\\urcorner p:$"
   ]
  },
  {
   "cell_type": "markdown",
   "metadata": {},
   "source": [
    "$\\text{Par conséquent on a prouvé par contradiction qu'une solution de base peut être optimale en satisfaisant}$ $r_j \\geq 0$ }$"
   ]
  }
 ],
 "metadata": {
  "language_info": {
   "name": "python"
  },
  "orig_nbformat": 4
 },
 "nbformat": 4,
 "nbformat_minor": 2
}
