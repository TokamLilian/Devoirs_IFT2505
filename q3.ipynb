{
 "cells": [
  {
   "cell_type": "markdown",
   "metadata": {},
   "source": [
    "## $\\textbf{Question 3}$"
   ]
  },
  {
   "cell_type": "markdown",
   "metadata": {},
   "source": [
    "$\\textbf{Soit}$ $K =\\{x | Ax = b, x \\geq 0 \\}$ $\\textbf{K est non vide}$"
   ]
  },
  {
   "cell_type": "markdown",
   "metadata": {},
   "source": [
    "### $\\textbf{Corollaire 1:}$"
   ]
  },
  {
   "cell_type": "markdown",
   "metadata": {},
   "source": [
    "$\\textbf{Montrons que si l'ensemble convexe K est non vide, alors il existe aumoin un point extrême.}$"
   ]
  },
  {
   "cell_type": "markdown",
   "metadata": {},
   "source": [
    "$\\textbf{On sait que tous les points de K peuvent s'écrire comme combinaison convexe d'au plus}$ $n+1$ $\\textbf{points de K où n est la dimension de l'espace.}$"
   ]
  },
  {
   "cell_type": "markdown",
   "metadata": {},
   "source": [
    "$\\textbf{Tout point de K satisfait}$ $Ax = b$ $\\textbf{avec}$ $x \\geq$ 0"
   ]
  },
  {
   "cell_type": "markdown",
   "metadata": {},
   "source": [
    "\\begin{equation}\n",
    "    x = \n",
    "    \\begin{cases}\n",
    "        x_1, x_i & si & x_i \\geq 0 \\\\\n",
    "        x_2, x_i & si & x_i = 0\n",
    "    \\end {cases}\n",
    "\\end{equation}"
   ]
  },
  {
   "cell_type": "markdown",
   "metadata": {},
   "source": [
    "$\\textbf{Il suffit de montrer que}$ $\\forall x \\in k$, $\\textbf{x s'écrit comme combinaison convexe d'au plus}$ $(n+1)$ $\\textbf{points.}$"
   ]
  },
  {
   "cell_type": "markdown",
   "metadata": {},
   "source": [
    "$\\textbf{Si}$ $x_1 = 0, x \\in k$ $\\textbf{et il peut s'écrire comme combinaison convexe de lui même (0).}$ \\\n",
    "$\\textbf{Si}$ $x_2 \\gt 0, x \\in k$ $\\textbf{pour n'importe quel}$ $\\alpha$ $\\textbf{tel que}$ $0 \\leq \\alpha \\leq 1,$ $\\textbf{on a}$ $x= \\alpha x_1 + (1-\\alpha)x_1 + x_2 \\in k$ $\\textbf{ainsi on a x qui s'écrit comme combinaison convexe de}$ $x_1$ $\\textbf{et}$ $x_2.$"
   ]
  },
  {
   "cell_type": "markdown",
   "metadata": {},
   "source": [
    "\\begin{align*}\n",
    "&&&&&&&&&&&&&&&&&&&&&&&&&&&&&&&&&&&&&&&&&&&&&&&&&&&&&&&&&&&&&& \\ QED\n",
    "\\end{align*}"
   ]
  },
  {
   "cell_type": "markdown",
   "metadata": {},
   "source": [
    "### $\\textbf{Corollaire 2:}$"
   ]
  },
  {
   "cell_type": "markdown",
   "metadata": {},
   "source": [
    "$\\textbf{Montrons que s'il existe une solution optimale finie à un problème d'optimisation linéaire,}$ $\\textbf{alors il existe une solution optimale finie qui est un point extrême de l'ensemble des contraintes.}$\n",
    "\n",
    "$\\textbf{Soit le problème mathématique}$ $\\min C^T x$\n",
    "$\\textbf{S'il existe une solution optimale finie}$ $x^*$ $\\textbf{, alors}$ $x^*$ $\\textbf{minimise la valeur de l'objectif plus que toute autre solution réalisable. Donc}$ $x^*$ $\\in$ $\\textbf{K car il satisfait l'ensemble des contraintes}$."
   ]
  },
  {
   "cell_type": "markdown",
   "metadata": {},
   "source": [
    "$\\textbf{Pour montrer que}$ $x^*$ $\\textbf{est un point extrême de K, il s'agit de montrer qu'il n'esxiste pas deux points distincts}$ $x_1$ $\\textbf{et}$ $x_2$ $\\textbf{dans K tels que}$ $x^* = \\alpha x_1 + (1-\\alpha)x_2$ $\\textbf{pour}$ $0 \\lt \\alpha \\lt 1,$ $\\textbf{qui voudrait dire que}$ $x^*$ $\\textbf{ne peut pas s'écrire comme combinaison convexe de deux points dans K.}$"
   ]
  },
  {
   "cell_type": "markdown",
   "metadata": {},
   "source": [
    "$\\textbf{Supposons par l'absurde qu'il existe deux points distincts}$ $x_1 \\in K$ $\\textbf{et}$ $x_2 \\in K$ $\\textbf{tels que}$ $x^* = (\\alpha x_1 + (1-\\alpha)x_2$ $\\textbf{pour}$ $0 \\lt \\alpha \\lt 1) \\geq 0,$ $\\textbf{pour}$ $0 \\lt \\alpha \\lt 1$"
   ]
  },
  {
   "cell_type": "markdown",
   "metadata": {},
   "source": [
    "\\begin{align*}\n",
    "    \n",
    "    \\begin{aligned}x_1 , x_2 \\in K\\implies A(\\alpha x_1 + (1-\\alpha)x_2)\n",
    "        &= \\alpha Ax_1 + (1-\\alpha)Ax_2 \\\\\n",
    "        &= \\alpha b + (1-\\alpha)b \\\\\n",
    "        &= b\n",
    "    \\end{aligned}\n",
    "\\end{align*}"
   ]
  },
  {
   "cell_type": "markdown",
   "metadata": {},
   "source": [
    "$\\textbf{Ce qui signifie que}$ $\\alpha x_1 + (1-\\alpha)x_2$ $\\textbf{est une solution réalisable car elle satisfait les contraintes en K.}$"
   ]
  },
  {
   "cell_type": "markdown",
   "metadata": {},
   "source": [
    "$\\textbf{On sait que}$ $\\alpha$ $\\textbf{et}$ $(1-\\alpha)$ $\\textbf{sont positifs car}$ $0 \\lt \\alpha \\lt 1,$ $\\textbf{Donc en remplacant}$ $x^*$ $\\textbf{dans l'équation de l'objectif, on a}$ "
   ]
  },
  {
   "cell_type": "markdown",
   "metadata": {},
   "source": [
    "$ c^T(\\alpha x_1) + c^T(1 - \\alpha) x_2 \\lt C^T x^*$ $\\textbf{car}$ $c^T(\\alpha x_1)$ $\\textbf{est une fraction de}$ $c^T(x_1),$ $\\textbf{de même pour}$ $c^T(1 - \\alpha) x_1$ $\\textbf{qui est une fraction de}$ $c^Tx_2.$"
   ]
  },
  {
   "cell_type": "markdown",
   "metadata": {},
   "source": [
    "$\\textbf{Par conséquent, la supposition qu'il existe}$ $x_1$ $\\textbf{et}$ $x_2$ $\\textbf{tels que}$ $x^*$ $\\textbf{peut être combinaison convexe de}$ $x_1$ $\\textbf{et}$ $x_2$ $\\textbf{est fausse.}$ \n",
    "$\\textbf{Ainsi}$ $x^*$ $\\textbf{ne peut pas s'écrire comme combinaison convexe de deux points distincts de K donc}$ $x^*$ $\\textbf{est un point extrême de K.}$"
   ]
  },
  {
   "cell_type": "markdown",
   "metadata": {},
   "source": [
    "\\begin{align*}\n",
    "&&&&&&&&&&&&&&&&&&&&&&&&&&&&&&&&&&&&&&&&&&&&&&&&&&&&&&&&&&&&&&&&&&&&&&&&&&&&&&&&&&&&&&&&&&&&&&&&&&&&&&&&&&&&&&&&&&&&&&&&&&&&&& \\ QED\n",
    "\\end{align*}"
   ]
  }
 ],
 "metadata": {
  "language_info": {
   "name": "python"
  },
  "orig_nbformat": 4
 },
 "nbformat": 4,
 "nbformat_minor": 2
}
