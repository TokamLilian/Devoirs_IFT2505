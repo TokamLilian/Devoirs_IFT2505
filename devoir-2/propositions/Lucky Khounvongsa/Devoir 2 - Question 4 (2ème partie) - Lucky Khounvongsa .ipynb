{
 "cells": [
  {
   "cell_type": "code",
   "execution_count": 1,
   "id": "f8751c47",
   "metadata": {},
   "outputs": [],
   "source": [
    "using JuMP, HiGHS"
   ]
  },
  {
   "cell_type": "code",
   "execution_count": 2,
   "id": "e235601d",
   "metadata": {},
   "outputs": [
    {
     "data": {
      "text/latex": [
       "$$ \\begin{aligned}\n",
       "\\min\\quad & a + b\\\\\n",
       "\\text{Subject to} \\quad & x + y + a = 1\\\\\n",
       " & x + y + b = 2\\\\\n",
       " & x \\geq 0\\\\\n",
       " & y \\geq 0\\\\\n",
       " & a \\geq 0\\\\\n",
       " & b \\geq 0\\\\\n",
       "\\end{aligned} $$"
      ]
     },
     "metadata": {},
     "output_type": "display_data"
    }
   ],
   "source": [
    "m = Model(HiGHS.Optimizer)\n",
    "\n",
    "@variable(m, 0 <= x)\n",
    "@variable(m, 0 <= y)\n",
    "@variable(m, 0 <= a)\n",
    "@variable(m, 0 <= b)\n",
    "\n",
    "@constraint(m, x + y + a == 1.0)\n",
    "@constraint(m, x + y + b == 2.0)\n",
    "\n",
    "\n",
    "@objective(m, Min, a + b)\n",
    "\n",
    "print(m)"
   ]
  },
  {
   "cell_type": "code",
   "execution_count": 3,
   "id": "c34486e1",
   "metadata": {},
   "outputs": [
    {
     "data": {
      "text/plain": [
       "simplexSolver (generic function with 1 method)"
      ]
     },
     "execution_count": 3,
     "metadata": {},
     "output_type": "execute_result"
    }
   ],
   "source": [
    "function pivot!(M::Matrix, i::Int, j::Int)\n",
    "    m, n = size(M)\n",
    "    @assert M[i, j] != 0\n",
    "    M[i, :] = M[i, :]/M[i, j]\n",
    "    for k in setdiff(1:m, i)\n",
    "        M[k, :] -= M[k, j] * M[i, :]\n",
    "    end\n",
    "    return M\n",
    "end\n",
    "\n",
    "function getReducedCosts(M::Matrix)\n",
    "    m, n = size(M)\n",
    "    return M[end, 1:n-1]\n",
    "end\n",
    "function getxB(M::Matrix)\n",
    "    m, n = size(M)\n",
    "    return M[1:m-1, end]\n",
    "end\n",
    "function enteringVar(M::Matrix)\n",
    "    rc = getReducedCosts(M)\n",
    "    index = argmin(rc)\n",
    "    return rc[index] >= 0 ? -1 : index\n",
    "end\n",
    "function exitingVarIndex(M::Matrix{T}, enteringVar::Int) where T\n",
    "    col = M[1:end-1, enteringVar]\n",
    "    xB = getxB(M)\n",
    "    m, n = size(M)\n",
    "    index = -1\n",
    "    val = T(Inf)\n",
    "    for i in 1:m-1\n",
    "        if (col[i] > 0) && (xB[i]/col[i] < val)\n",
    "            val = xB[i]/col[i]\n",
    "            index = i\n",
    "        end\n",
    "    end\n",
    "    return index\n",
    "end\n",
    "function isOneHot(v::Vector)\n",
    "    n = length(v)\n",
    "    return (sum(iszero, v) == n-1) && (sum(isone, v) == 1)\n",
    "end \n",
    "function isoptimal(M)\n",
    "    return enteringVar(M) == -1\n",
    "end\n",
    "function findInitialBasis!(M::Matrix)\n",
    "    m, n = size(M)\n",
    "    m-=1\n",
    "    n-=1\n",
    "    basis = [-1 for _ in 1:m]\n",
    "    for i in 1:n\n",
    "        if isOneHot(M[1:end-1, i])\n",
    "            index = findfirst(isone, M[:, i])\n",
    "            basis[index] = i\n",
    "        end\n",
    "    end\n",
    "    @assert !any(t-> t == -1, basis) \"problem not caconical\"\n",
    "    for i in 1:m\n",
    "        j = basis[i]\n",
    "        pivot!(M, i, j)\n",
    "    end\n",
    "    return basis\n",
    "end\n",
    "\n",
    "function simplexSolver(A::Matrix{T}, b::Vector, c::Vector; verbose::Bool = false) where T\n",
    "    M = [A b; c' 0]\n",
    "    basis = findInitialBasis!(M)\n",
    "    k = 1\n",
    "    nmax = 1000\n",
    "    while !isoptimal(M) && k < nmax\n",
    "        k += 1\n",
    "        verbose && display(M)\n",
    "        entering = enteringVar(M)\n",
    "        entering == -1 && (println(\"------------ Optimal Solution Reached\"); return T[-1, -1])\n",
    "        leaving = exitingVarIndex(M, entering)\n",
    "        leaving == -1 && (println(\"------------ Unbounded Solution\"); return T[-1, -1])\n",
    "        verbose && @show (entering, leaving)\n",
    "        basis[leaving] = entering\n",
    "        pivot!(M, leaving, entering)\n",
    "        \n",
    "        # Ajout d'affichages pour commenter le résultat de chaque itération\n",
    "        if verbose\n",
    "            println(\"Iteration $k:\")\n",
    "            println(\"Entering Variable: $entering\")\n",
    "            println(\"Leaving Variable: $leaving\")\n",
    "            println(\"Updated Tableau:\")\n",
    "            display(M)\n",
    "        end\n",
    "    end\n",
    "    \n",
    "    # Vérification de l'absence de solution réalisable\n",
    "    if k >= nmax\n",
    "        verbose && println(\"Maximum Iterations Reached - No Feasible Solution\")\n",
    "        return T[-1, -1]\n",
    "    end\n",
    "    \n",
    "    # Affichage du résultat final\n",
    "    verbose && println(\"Final Tableau:\")\n",
    "    verbose && display(M)\n",
    "    \n",
    "    m, n = size(M)\n",
    "    xstar = zeros(T, n - 1)\n",
    "    xstar[basis] = getxB(M)\n",
    "    return xstar\n",
    "end"
   ]
  },
  {
   "cell_type": "code",
   "execution_count": 4,
   "id": "601593bc",
   "metadata": {},
   "outputs": [
    {
     "data": {
      "text/plain": [
       "4-element Vector{Int64}:\n",
       " 0\n",
       " 0\n",
       " 1\n",
       " 1"
      ]
     },
     "execution_count": 4,
     "metadata": {},
     "output_type": "execute_result"
    }
   ],
   "source": [
    "A=[1//1 1 1 0; \n",
    "    1 1 0 1;\n",
    "]\n",
    "b=[1, 2]\n",
    "c = [0,0,1,1]"
   ]
  },
  {
   "cell_type": "code",
   "execution_count": 5,
   "id": "cee36874",
   "metadata": {},
   "outputs": [
    {
     "data": {
      "text/plain": [
       "3×5 Matrix{Rational{Int64}}:\n",
       "  1//1   1//1  1//1  0//1   1//1\n",
       "  1//1   1//1  0//1  1//1   2//1\n",
       " -2//1  -2//1  0//1  0//1  -3//1"
      ]
     },
     "metadata": {},
     "output_type": "display_data"
    },
    {
     "name": "stdout",
     "output_type": "stream",
     "text": [
      "(entering, leaving) = (1, 1)\n",
      "Iteration 2:\n",
      "Entering Variable: 1\n",
      "Leaving Variable: 1\n",
      "Updated Tableau:\n"
     ]
    },
    {
     "data": {
      "text/plain": [
       "3×5 Matrix{Rational{Int64}}:\n",
       " 1//1  1//1   1//1  0//1   1//1\n",
       " 0//1  0//1  -1//1  1//1   1//1\n",
       " 0//1  0//1   2//1  0//1  -1//1"
      ]
     },
     "metadata": {},
     "output_type": "display_data"
    },
    {
     "name": "stdout",
     "output_type": "stream",
     "text": [
      "Final Tableau:\n"
     ]
    },
    {
     "data": {
      "text/plain": [
       "3×5 Matrix{Rational{Int64}}:\n",
       " 1//1  1//1   1//1  0//1   1//1\n",
       " 0//1  0//1  -1//1  1//1   1//1\n",
       " 0//1  0//1   2//1  0//1  -1//1"
      ]
     },
     "metadata": {},
     "output_type": "display_data"
    },
    {
     "data": {
      "text/plain": [
       "4-element Vector{Rational{Int64}}:\n",
       " 1//1\n",
       " 0//1\n",
       " 0//1\n",
       " 1//1"
      ]
     },
     "execution_count": 5,
     "metadata": {},
     "output_type": "execute_result"
    }
   ],
   "source": [
    "simplexSolver(A, b, c, verbose=true)"
   ]
  }
 ],
 "metadata": {
  "kernelspec": {
   "display_name": "Julia 1.9.3",
   "language": "julia",
   "name": "julia-1.9"
  },
  "language_info": {
   "file_extension": ".jl",
   "mimetype": "application/julia",
   "name": "julia",
   "version": "1.9.3"
  }
 },
 "nbformat": 4,
 "nbformat_minor": 5
}
