{
 "cells": [
  {
   "cell_type": "markdown",
   "metadata": {},
   "source": [
    "## $\\textbf{Question 2}$"
   ]
  },
  {
   "cell_type": "markdown",
   "metadata": {},
   "source": [
    "$\\text{Montrons qu'une solution de base réalisable dégénérée peut être\n",
    "optimale sans satisfaire}$ $r_j \\geq 0$ $\\text{pour tout}$ $j.$"
   ]
  },
  {
   "cell_type": "markdown",
   "metadata": {},
   "source": [
    "$\\text{Supposons par contraposition que toute solution de base réalisable dégénérée peut être optimale en satisfaisant}$ $r_j \\geq 0$ $\\text{pour tout}$ $j.$"
   ]
  },
  {
   "cell_type": "markdown",
   "metadata": {},
   "source": [
    "$\\text{Considérons le programme linéaire suivant:}$\n",
    "\\begin{array}{ccccc}\n",
    "    \\max\\ &x_1  & + & x_2\\\\\n",
    "    \\text{tel que} &x_1 & + & x_2  & \\leq & 0\\\\\n",
    "                   &&& x_2  & \\leq &0\\\\\n",
    "    &x_1, &&x_2 & \\geq &0\\\\\n",
    "\\end{array}\n"
   ]
  },
  {
   "cell_type": "markdown",
   "metadata": {},
   "source": [
    "\\begin{array}{cccccccc}\n",
    "    -\\min\\ &-x_1  & - & x_2\\\\\n",
    "    \\text{tel que} &x_1 & + & x_2 & + & x_3 && = & 0\\\\\n",
    "                   &&& x_2 && + &x_4 &  = &0\\\\\n",
    "    &x_1, &&x_2, && x_3, & x_4 & \\geq &0\\\\\n",
    "\\end{array}"
   ]
  },
  {
   "cell_type": "markdown",
   "metadata": {},
   "source": [
    "$\\text{Sans faire de calcul, on voit directement qu'une resoution à ce programme est:}$ $\\\\$ $(x_1, x_2, x_3,x_4) = (0, 0, 0,0)$"
   ]
  },
  {
   "cell_type": "markdown",
   "metadata": {},
   "source": [
    "\\begin{array}{ccccc}\n",
    "    &x_1 & x_2 & x_3 &x_4 & b\\\\\n",
    "    &\\color{red}1   & 1   & 1   & 0  & 0\\\\\n",
    "    &0   & 1   & 0   & 1  & 0\\\\\n",
    "    c^T& -1 & -1 & 0 &0 &0\\\\\n",
    "\\end{array}"
   ]
  },
  {
   "cell_type": "markdown",
   "metadata": {},
   "source": [
    "$\\text{On choisit}$ $x$ $\\text{comme variable d'entrée et}$ $x_3$ $\\text{comme variable de sortie}$"
   ]
  },
  {
   "cell_type": "markdown",
   "metadata": {},
   "source": [
    "\\begin{array}{ccccc}\n",
    "    &x_1 & x_2 & x_3 &x_4 & b\\\\\n",
    "    &1   & 1   & 1   & 0  & 0\\\\\n",
    "    &0   & 1   & 0   & 1  & 0\\\\\n",
    "    c^T& 0 & 0 & 1 &0 &0\\\\\n",
    "\\end{array}"
   ]
  },
  {
   "cell_type": "markdown",
   "metadata": {},
   "source": [
    "$\\text{Une autre solution optimale en}$ $(x_1, x_2, x_3,x_4) = (0, 0, 0,0)$"
   ]
  },
  {
   "cell_type": "markdown",
   "metadata": {},
   "source": [
    "$\\text{Par conséquent, il existe une solution réalisable dégénérée qui est optimale sans forcément satisfaire}$ $r_j \\geq 0$ $\\text{pour tout}$ $j.$ $\\text{Donc notre supposision est fausse, ainsi une solution de base réalisable dégénérée peut être optimale sans satisfaire}$ $r_j \\geq 0$ $\\text{pour tout}$ $j.$ "
   ]
  }
 ],
 "metadata": {
  "language_info": {
   "name": "python"
  },
  "orig_nbformat": 4
 },
 "nbformat": 4,
 "nbformat_minor": 2
}
