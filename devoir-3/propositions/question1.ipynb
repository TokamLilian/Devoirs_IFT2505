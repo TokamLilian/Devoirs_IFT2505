{
 "cells": [
  {
   "cell_type": "markdown",
   "metadata": {},
   "source": [
    "## $\\textbf{Question 1}$"
   ]
  },
  {
   "cell_type": "markdown",
   "metadata": {},
   "source": [
    "$\\text{Soit le problème de programmation linéaire: }$"
   ]
  },
  {
   "cell_type": "markdown",
   "metadata": {},
   "source": [
    "\\begin{align*}\n",
    "    \\min_x\\ & 2x_1 +3x_2 + 4x_3\\\\\n",
    "    \\text{t.q.}\\ &\n",
    "        x_1 +2x_2 +x_3 \\ge 3\\\\\n",
    "        & 2x_1 -x_2 +3x_3 \\ge4\\\\\n",
    "        & x_1,x_2,x_3,x_3 \\ge 0\n",
    "\\end{align*}"
   ]
  },
  {
   "cell_type": "markdown",
   "metadata": {},
   "source": [
    "#### $\\text{(a)}$ $\\text{Resolvons le problème avec l'algorithme dual du simplexe;}$"
   ]
  },
  {
   "cell_type": "markdown",
   "metadata": {},
   "source": [
    "$\\text{On transforme le problème sous forme standard à l'introdution des variables supplémentaires} \\\\ x_4 \\text{ et } x_5$"
   ]
  },
  {
   "cell_type": "markdown",
   "metadata": {},
   "source": [
    "\\begin{align*}\n",
    "\\min_x\\ & 2x_1 +3 x_2 +4 x_3 \\\\\n",
    "\t\\text{t.q.} &\n",
    "-x_1 -2x_2 -x_3 +x_4 = -3\\\\\n",
    "& -2x_1 +x_2 -3x_3 +x_5 = -4 \\\\\n",
    "& x_1,x_2,x_3,x_3, x_4, x_5 \\ge 0\n",
    "\\end{align*}"
   ]
  },
  {
   "cell_type": "markdown",
   "metadata": {},
   "source": [
    "$\\text{On applique l'algorithme du simplexe dual;}$"
   ]
  },
  {
   "cell_type": "markdown",
   "metadata": {},
   "source": [
    "\\begin{align*}\n",
    "    \\begin{array} {c|ccccc|c|c}\n",
    "        v.d & x_1 & x_2 & x_3 & x_4 &  x_5 & -z & \\text{t.d.}\\\\\n",
    "        \\hline\n",
    "        x_4 & -1 & -2 & -1 & 1 & 0 & 0 & -3\\\\\n",
    "        x_5 & \\color{red}{-2} & 1 & -3 & 0 & 1 & 0 & -4\\\\\n",
    "        \\hline\n",
    "        -z & 2 & 3 & 4 & 0 & 0 & 1 & 0\n",
    "    \\end{array}\n",
    "\\end{align*}\n",
    "\n",
    "\\begin{align*}\n",
    "    \\begin{array} {c|ccccc|c|c}\n",
    "        v.d.& x_1 & x_2 & x_3 & x_4 &  x_5 & -z & \\text{t.d.}\\\\\n",
    "        \\hline\n",
    "        x_4 & 0 & \\color{red}{-5/2} & 1/2 & 1 & -1/2 & 0 & -1\\\\\n",
    "        x_1 & 1 & -1/2 & 3/2 & 0 & -1/2 & 0 & 2\\\\\n",
    "        \\hline\n",
    "        -z & 0 & 4 & 1 & 0 & 1 & 1 & -4\n",
    "    \\end{array}\n",
    "\\end{align*}\n",
    "\n",
    "\n",
    "\\begin{align*}\n",
    "    \\begin{array} {c|ccccc|c|c}\n",
    "        v.d.& x_1 & x_2 & x_3 & x_4 &  x_5 & -z & \\text{t.d.}\\\\\n",
    "        \\hline\n",
    "        x_2 & 0 & 1 & -1/5 & -2/5 & 1/5 & 0 & 2/5 \\\\\n",
    "        x_1 & 1 & 0 & 7/5 & -1/5 & -2/5 & 0 & 11/5\\\\\n",
    "        \\hline\n",
    "        -z & 0 & 0 & 9/5 & 8/5 & 1/5 & 1 & -28/5 \n",
    "    \\end{array}\n",
    "\\end{align*}\n",
    "\n",
    "$\\text{On obtient ainsi la solution optimale } (11/5, 2/5, 0, 0, 0) \\text{ avec } z = 28/5. $"
   ]
  },
  {
   "cell_type": "markdown",
   "metadata": {},
   "source": [
    "#### $\\text{(b)}$ $\\text{Déterminons une solution optimale avec les écarts complémentaires;}$"
   ]
  },
  {
   "cell_type": "markdown",
   "metadata": {},
   "source": [
    "$\\text{Le problème du dual associé est;}$"
   ]
  },
  {
   "cell_type": "markdown",
   "metadata": {},
   "source": [
    "\\begin{align*}\t\n",
    "\t\\max_x \\ &3 \\lambda_1 + 4\\lambda_2 \\\\\n",
    "\t\\text{s.a. } &\n",
    "\t\\lambda_1 + 2\\lambda_2 \\le 2\\\\\n",
    "\t&2 \\lambda_1 - \\lambda_2 \\le 3\\\\\\\n",
    "\t&\\lambda_1 + 3 \\lambda_2 \\le 4\\\\\n",
    "\t&\\lambda_1, \\lambda_2 \\ge 0\n",
    "\\end{align*}\t"
   ]
  },
  {
   "cell_type": "markdown",
   "metadata": {},
   "source": [
    "$\\text{Déterminons la solution optimale du dual } \\lambda ^* \\text{avec la théorie des écarts complémentaires :}$"
   ]
  },
  {
   "cell_type": "markdown",
   "metadata": {},
   "source": [
    "\\begin{align*}\n",
    "\tx_1^{\\star} &= 11/5 > 0 &\\implies \\lambda_1^{\\star} + 2 \\lambda_2^{\\star} =2\\\\\n",
    "\tx_2^{\\star} &= 2/5 > 0  &\\implies 2\\lambda_1^{\\star} -  \\lambda_2^{\\star} =3\n",
    "\\end{align*}"
   ]
  },
  {
   "cell_type": "markdown",
   "metadata": {},
   "source": [
    "$\\text{On résout le système à deux inconnus par la méthode de substitution}$"
   ]
  },
  {
   "cell_type": "markdown",
   "metadata": {},
   "source": [
    "\\begin{align*}\n",
    "\t\\begin{cases}\n",
    "\t\t\\lambda_1^{\\star} + 2 \\lambda_2^{\\star} =2\\\\\n",
    "\t\t2\\lambda_1^{\\star} -  \\lambda_2^{\\star} =3\n",
    "\t\\end{cases}\n",
    "\n",
    "\t&\\implies\n",
    "\n",
    "\t\\begin{cases}\n",
    "\t\\lambda_1^{\\star} = 2 - 2 \\lambda_2^{\\star} \\\\\n",
    "\t2(2 -2 \\lambda_2^{\\star}) -  \\lambda_2^{\\star} =3\n",
    "\t\\end{cases} \\\\\n",
    "\n",
    "\t&\\implies\n",
    "\n",
    "\t\\begin{cases}\n",
    "\t\\lambda_1^{\\star} = 2 - 2 \\lambda_2^{\\star} \\\\\n",
    "\t4 - 5 \\lambda_2^{\\star} = 3\n",
    "\t\\end{cases} \\\\\n",
    "\n",
    "\t&\\implies\n",
    "\n",
    "\t\\begin{cases}\n",
    "\t\\lambda_1^{\\star} = 2 - 2 (1/5) = 8/5\\\\\n",
    "\t\\lambda_2^{\\star} = 1/5\n",
    "\t\\end{cases}\n",
    "\n",
    "\\end{align*}\n",
    "\n",
    "$\\text{Ainsi } \\lambda_1^* = 8/5 \\text{ et } \\lambda_2^* = 1/5$"
   ]
  },
  {
   "cell_type": "markdown",
   "metadata": {},
   "source": [
    "#### $\\text{(c)}$ $\\text{Déterminons la nouvelle solution optimale après la modification de la première contrainte;}$"
   ]
  },
  {
   "cell_type": "markdown",
   "metadata": {},
   "source": [
    "\\begin{align*}\n",
    "    \\min_x\\ & 2x_1 +3x_2 + 4x_3\\\\\n",
    "    \\text{t.q.}\\ &\n",
    "        x_1 +2x_2 +x_3 \\ge 3.1\\\\\n",
    "        & 2x_1 -x_2 +3x_3 \\ge4\\\\\n",
    "        & x_1,x_2,x_3,x_3 \\ge 0\n",
    "\\end{align*}"
   ]
  },
  {
   "cell_type": "markdown",
   "metadata": {},
   "source": [
    "$\\text{On sait que la base optimale ne change pas, donc}$\n",
    "\n",
    "\\begin{align*}\n",
    "B^{-1} = \\begin{pmatrix}\n",
    "-2/5 & 1/5 \\\\\n",
    "-1/5 & -2/5\n",
    "\\end{pmatrix}\n",
    "\\end{align*}\n",
    "\n",
    "$\\text{et pour le changement des termes de droite,}$\n",
    "\\begin{align*}\n",
    "    \\begin{pmatrix}\n",
    "        \\Delta x_2 \\\\\n",
    "        \\Delta x_1\n",
    "        \\end{pmatrix}=\n",
    "    \\begin{pmatrix}\n",
    "        -2/5 & 1/5 \\\\\n",
    "        -1/5 & -2/5\n",
    "    \\end{pmatrix}\n",
    "    \\begin{pmatrix}\n",
    "        -0.1 \\\\ 0\n",
    "    \\end{pmatrix}=\n",
    "    \\begin{pmatrix}\n",
    "        1/25 \\\\ 1/50\n",
    "    \\end{pmatrix}\n",
    "\\end{align*}\n",
    "\n",
    "$\\text{On sait que } \\Delta z = c_B^T \\Delta x_B$\n",
    "\\begin{align*}\n",
    "    \\begin{pmatrix} 3&2\\end{pmatrix} \\cdot \\begin{pmatrix}1/25 \\\\ 1/50\\end{pmatrix} = 4/25\n",
    "\\end{align*}\n",
    "\n",
    "$\\text{Ainsi, } \\tilde{z^*} = 28/5 + 4/25 = 144/25 \\approx 5.76 $\n"
   ]
  }
 ],
 "metadata": {
  "language_info": {
   "name": "python"
  },
  "orig_nbformat": 4
 },
 "nbformat": 4,
 "nbformat_minor": 2
}
