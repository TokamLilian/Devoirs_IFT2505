{
 "cells": [
  {
   "cell_type": "markdown",
   "metadata": {},
   "source": [
    "## $\\textbf{Question 3}$"
   ]
  },
  {
   "cell_type": "markdown",
   "metadata": {},
   "source": [
    "$\\textbf{Soit}$ $K =\\{x | Ax = b, x \\geq 0 \\}$ $\\textbf{K est non vide}$"
   ]
  },
  {
   "cell_type": "markdown",
   "metadata": {},
   "source": [
    "### $\\textbf{Corollaire 1:}$"
   ]
  },
  {
   "cell_type": "markdown",
   "metadata": {},
   "source": [
    "$\\textbf{Montrons que si l'ensemble convexe K est non vide, alors il existe au moins un point extrême.}$"
   ]
  },
  {
   "cell_type": "markdown",
   "metadata": {},
   "source": [
    "##### $\\textbf{Par définition d'un ensemble convexe non vide,}$ $\\textbf{chaque}$ $x \\in k$ $\\textbf{peut s'écrire comme combinaison convexe de deux points}$ $x_1, x_2 \\in k$ $\\textbf{tels que}$ $x= \\alpha x_1 + (1-\\alpha)x_2, \\alpha \\in [0,1]$"
   ]
  },
  {
   "cell_type": "markdown",
   "metadata": {},
   "source": [
    "##### $\\textbf{Par définition d'un point extrême,}$ $\\textbf{chaque x est un point extrême de k s'}$ $\\textbf{il n'existe pas de deux points}$ $x_1, x_2 \\in k$ $\\textbf{tels que}$ $x= \\alpha x_1 + (1-\\alpha)x_1 , \\alpha \\in ]0,1[$"
   ]
  },
  {
   "cell_type": "markdown",
   "metadata": {},
   "source": [
    "$\\textbf{Notons}$ $S$ $\\textbf{l'ensemble des points qui respectent;}$"
   ]
  },
  {
   "cell_type": "markdown",
   "metadata": {},
   "source": [
    "$x= \\alpha x_1 + (1-\\alpha)x_2,$ $\\textbf{avec}$ $x_1, x_2 \\in k$ $\\textbf{et}$ $\\alpha \\in ]0,1[$"
   ]
  },
  {
   "cell_type": "markdown",
   "metadata": {},
   "source": [
    "$\\textbf{Ainsi,}$ $S \\subseteq k$ $\\textbf{, or}$ $k \\setminus S \\neq ∅$ $\\textbf{, car}$ $\\exists $x $\\in $k $\\textbf{ tel que}$ $x= \\alpha x_1 + (1-\\alpha)x_2$ $\\textbf{, pour}$ $x_1, x_2 \\in k$ $\\textbf{et}$ $\\alpha = 0$ ou $\\alpha = 1$ "
   ]
  },
  {
   "cell_type": "markdown",
   "metadata": {},
   "source": [
    "$\\textbf{Ainsi lorsqu'on prend l'ensemble}$ $K$ $\\textbf{privé de tous les points qui ne sont pas des points extremes, }$ $\\textbf{on aura un ensemble resultant qui est non-vide.}$"
   ]
  },
  {
   "cell_type": "markdown",
   "metadata": {},
   "source": [
    "$\\textbf{Par conséquent, si l'ensemble convexe}$ $K$ $\\textbf{est non-vide, alors il y a au moins un point extrême.}$"
   ]
  },
  {
   "cell_type": "markdown",
   "metadata": {},
   "source": [
    "### $\\textbf{Corollaire 2:}$"
   ]
  },
  {
   "cell_type": "markdown",
   "metadata": {},
   "source": [
    "$\\textbf{Par le théorème de fondamentale de la programmation linéaire, nous savons que}$"
   ]
  },
  {
   "cell_type": "markdown",
   "metadata": {},
   "source": [
    "$\\textbf{s'il y a une solution réalisable optimale, alors il y a une solution de base réalisable optimale.}$"
   ]
  },
  {
   "cell_type": "markdown",
   "metadata": {},
   "source": [
    "$\\textbf{Ainsi, s'il existe une solution optimale finie à un problème,}$"
   ]
  },
  {
   "cell_type": "markdown",
   "metadata": {},
   "source": [
    " $\\textbf{alors il existe une solution optimale finie de base à ce problème.}$"
   ]
  },
  {
   "cell_type": "markdown",
   "metadata": {},
   "source": [
    "$\\textbf{On pose ainsi le vecteur}$ $x $\\* $\\textbf{dans}$ $Ax^{*} = b$ $\\textbf{et}$ $x^{*}\\geq 0$ $\\textbf{, une solution de base optimale de ce problème.}$"
   ]
  },
  {
   "cell_type": "markdown",
   "metadata": {},
   "source": [
    "$\\textbf{Or}$ $x $\\* $\\textbf{est une solution de base réalisable si et seulement si}$ $x $\\* $\\textbf{est un point extrême.}$"
   ]
  },
  {
   "cell_type": "markdown",
   "metadata": {},
   "source": [
    "$\\textbf{Ainsi il existe bien une solution optimale finie qui est un point extrême.}$"
   ]
  }
 ],
 "metadata": {
  "kernelspec": {
   "display_name": "Julia 1.9.3",
   "language": "julia",
   "name": "julia-1.9"
  },
  "language_info": {
   "file_extension": ".jl",
   "mimetype": "application/julia",
   "name": "julia",
   "version": "1.9.3"
  }
 },
 "nbformat": 4,
 "nbformat_minor": 2
}
