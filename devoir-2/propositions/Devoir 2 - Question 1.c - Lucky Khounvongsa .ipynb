{
 "cells": [
  {
   "cell_type": "code",
   "execution_count": 1,
   "id": "112b4ed5",
   "metadata": {},
   "outputs": [],
   "source": [
    "using JuMP, HiGHS"
   ]
  },
  {
   "cell_type": "code",
   "execution_count": 2,
   "id": "b682746a",
   "metadata": {},
   "outputs": [
    {
     "data": {
      "text/latex": [
       "$$ \\begin{aligned}\n",
       "\\min\\quad & -2 x - y - 3 z\\\\\n",
       "\\text{Subject to} \\quad & 2 x + 3 y + 4 z \\leq 120\\\\\n",
       " & x + 2 y \\leq 50\\\\\n",
       " & x + 2 z \\leq 50\\\\\n",
       " & x \\geq 0\\\\\n",
       " & y \\geq 0\\\\\n",
       " & z \\geq 0\\\\\n",
       "\\end{aligned} $$"
      ]
     },
     "metadata": {},
     "output_type": "display_data"
    }
   ],
   "source": [
    "m = Model(HiGHS.Optimizer)\n",
    "\n",
    "@variable(m, 0 <= x)\n",
    "@variable(m, 0 <= y)\n",
    "@variable(m, 0 <= z)\n",
    "\n",
    "@constraint(m, 2x + 3y + 4z <= 120.0)\n",
    "@constraint(m, x + 2y <= 50.0)\n",
    "@constraint(m, x + 2z <= 50.0)\n",
    "\n",
    "@objective(m, Min, -2x-y-3z)\n",
    "\n",
    "print(m)"
   ]
  },
  {
   "cell_type": "code",
   "execution_count": 3,
   "id": "79fcffee",
   "metadata": {},
   "outputs": [
    {
     "name": "stdout",
     "output_type": "stream",
     "text": [
      "Running HiGHS 1.5.3 [date: 1970-01-01, git hash: 45a127b78]\n",
      "Copyright (c) 2023 HiGHS under MIT licence terms\n",
      "Presolving model\n",
      "3 rows, 3 cols, 7 nonzeros\n",
      "3 rows, 3 cols, 7 nonzeros\n",
      "Presolve : Reductions: rows 3(-0); columns 3(-0); elements 7(-0) - Not reduced\n",
      "Problem not reduced by presolve: solving the LP\n",
      "Using EKK dual simplex solver - serial\n",
      "  Iteration        Objective     Infeasibilities num(sum)\n",
      "          0    -5.9999935790e+00 Ph1: 3(15); Du: 3(5.99999) 0s\n",
      "          3    -1.0000000000e+02 Pr: 0(0) 0s\n",
      "Model   status      : Optimal\n",
      "Simplex   iterations: 3\n",
      "Objective value     : -1.0000000000e+02\n",
      "HiGHS run time      :          0.00\n"
     ]
    }
   ],
   "source": [
    "status = optimize!(m)"
   ]
  },
  {
   "cell_type": "code",
   "execution_count": 4,
   "id": "8d1ec2c5",
   "metadata": {},
   "outputs": [
    {
     "data": {
      "text/plain": [
       "3-element Vector{Float64}:\n",
       " 50.0\n",
       "  0.0\n",
       " -0.0"
      ]
     },
     "execution_count": 4,
     "metadata": {},
     "output_type": "execute_result"
    }
   ],
   "source": [
    "[value(x), value(y), value(z)]"
   ]
  },
  {
   "cell_type": "code",
   "execution_count": 5,
   "id": "c80fa90e",
   "metadata": {},
   "outputs": [
    {
     "data": {
      "text/plain": [
       "simplexSolver (generic function with 1 method)"
      ]
     },
     "execution_count": 5,
     "metadata": {},
     "output_type": "execute_result"
    }
   ],
   "source": [
    "function pivot!(M::Matrix, i::Int, j::Int)\n",
    "    m, n = size(M)\n",
    "    @assert M[i, j] != 0\n",
    "    M[i, :] = M[i, :]/M[i, j]\n",
    "    for k in setdiff(1:m, i)\n",
    "        M[k, :] -= M[k, j] * M[i, :]\n",
    "    end\n",
    "    return M\n",
    "end\n",
    "\n",
    "function getReducedCosts(M::Matrix)\n",
    "    m, n = size(M)\n",
    "    return M[end, 1:n-1]\n",
    "end\n",
    "function getxB(M::Matrix)\n",
    "    m, n = size(M)\n",
    "    return M[1:m-1, end]\n",
    "end\n",
    "function enteringVar(M::Matrix)\n",
    "    rc = getReducedCosts(M)\n",
    "    index = argmin(rc)\n",
    "    return rc[index] >= 0 ? -1 : index\n",
    "end\n",
    "function exitingVarIndex(M::Matrix{T}, enteringVar::Int) where T\n",
    "    col = M[1:end-1, enteringVar]\n",
    "    xB = getxB(M)\n",
    "    m, n = size(M)\n",
    "    index = -1\n",
    "    val = T(Inf)\n",
    "    for i in 1:m-1\n",
    "        if (col[i] > 0) && (xB[i]/col[i] < val)\n",
    "            val = xB[i]/col[i]\n",
    "            index = i\n",
    "        end\n",
    "    end\n",
    "    return index\n",
    "end\n",
    "function isOneHot(v::Vector)\n",
    "    n = length(v)\n",
    "    return (sum(iszero, v) == n-1) && (sum(isone, v) == 1)\n",
    "end \n",
    "function isoptimal(M)\n",
    "    return enteringVar(M) == -1\n",
    "end\n",
    "function findInitialBasis!(M::Matrix)\n",
    "    m, n = size(M)\n",
    "    m-=1\n",
    "    n-=1\n",
    "    basis = [-1 for _ in 1:m]\n",
    "    for i in 1:n\n",
    "        if isOneHot(M[1:end-1, i])\n",
    "            index = findfirst(isone, M[:, i])\n",
    "            basis[index] = i\n",
    "        end\n",
    "    end\n",
    "    @assert !any(t-> t == -1, basis) \"problem not caconical\"\n",
    "    for i in 1:m\n",
    "        j = basis[i]\n",
    "        pivot!(M, i, j)\n",
    "    end\n",
    "    return basis\n",
    "end\n",
    "function simplexSolver(A::Matrix{T}, b::Vector, c::Vector; verbose::Bool = false) where T\n",
    "    M = [A b; c' 0]\n",
    "    basis = findInitialBasis!(M)\n",
    "    k = 1\n",
    "    nmax = 1000\n",
    "    while !isoptimal(M) && k < nmax\n",
    "        k+=1\n",
    "        verbose && display(M)\n",
    "        entering = enteringVar(M)\n",
    "        entering == -1 && (println(\"------------\"); return T[-1, -1])\n",
    "        leaving = exitingVarIndex(M, entering)\n",
    "        leaving == -1 && (println(\"------------\"); return T[-1, -1])\n",
    "        verbose && @show (entering, leaving)\n",
    "        basis[leaving] = entering\n",
    "        pivot!(M, leaving, entering)\n",
    "    end\n",
    "    verbose && display(M)\n",
    "    m, n = size(M)\n",
    "    xstar = zeros(T, n - 1)\n",
    "    xstar[basis] = getxB(M)\n",
    "    return xstar\n",
    "end"
   ]
  },
  {
   "cell_type": "code",
   "execution_count": 6,
   "id": "43623bde",
   "metadata": {},
   "outputs": [
    {
     "data": {
      "text/plain": [
       "6-element Vector{Int64}:\n",
       " -2\n",
       " -1\n",
       " -3\n",
       "  0\n",
       "  0\n",
       "  0"
      ]
     },
     "execution_count": 6,
     "metadata": {},
     "output_type": "execute_result"
    }
   ],
   "source": [
    "A=[2//1 3 4 1 0 0 ; \n",
    "    1 2 0 0 1 0;\n",
    "    1 0 2 0 0 1;\n",
    "]\n",
    "b=[120, 50, 50]\n",
    "c = [-2,-1,-3,0,0,0]"
   ]
  },
  {
   "cell_type": "code",
   "execution_count": 7,
   "id": "fb8acbcb",
   "metadata": {},
   "outputs": [
    {
     "data": {
      "text/plain": [
       "4×7 Matrix{Rational{Int64}}:\n",
       "  2//1   3//1   4//1  1//1  0//1  0//1  120//1\n",
       "  1//1   2//1   0//1  0//1  1//1  0//1   50//1\n",
       "  1//1   0//1   2//1  0//1  0//1  1//1   50//1\n",
       " -2//1  -1//1  -3//1  0//1  0//1  0//1    0//1"
      ]
     },
     "metadata": {},
     "output_type": "display_data"
    },
    {
     "name": "stdout",
     "output_type": "stream",
     "text": [
      "(entering, leaving) = (3, 3)\n"
     ]
    },
    {
     "data": {
      "text/plain": [
       "4×7 Matrix{Rational{Int64}}:\n",
       "  0//1   3//1  0//1  1//1  0//1  -2//1  20//1\n",
       "  1//1   2//1  0//1  0//1  1//1   0//1  50//1\n",
       "  1//2   0//1  1//1  0//1  0//1   1//2  25//1\n",
       " -1//2  -1//1  0//1  0//1  0//1   3//2  75//1"
      ]
     },
     "metadata": {},
     "output_type": "display_data"
    },
    {
     "name": "stdout",
     "output_type": "stream",
     "text": [
      "(entering, leaving) = (2, 1)\n"
     ]
    },
    {
     "data": {
      "text/plain": [
       "4×7 Matrix{Rational{Int64}}:\n",
       "  0//1  1//1  0//1   1//3  0//1  -2//3   20//3\n",
       "  1//1  0//1  0//1  -2//3  1//1   4//3  110//3\n",
       "  1//2  0//1  1//1   0//1  0//1   1//2   25//1\n",
       " -1//2  0//1  0//1   1//3  0//1   5//6  245//3"
      ]
     },
     "metadata": {},
     "output_type": "display_data"
    },
    {
     "name": "stdout",
     "output_type": "stream",
     "text": [
      "(entering, leaving) = (1, 2)\n"
     ]
    },
    {
     "data": {
      "text/plain": [
       "4×7 Matrix{Rational{Int64}}:\n",
       " 0//1  1//1  0//1   1//3   0//1  -2//3   20//3\n",
       " 1//1  0//1  0//1  -2//3   1//1   4//3  110//3\n",
       " 0//1  0//1  1//1   1//3  -1//2  -1//6   20//3\n",
       " 0//1  0//1  0//1   0//1   1//2   3//2  100//1"
      ]
     },
     "metadata": {},
     "output_type": "display_data"
    },
    {
     "data": {
      "text/plain": [
       "6-element Vector{Rational{Int64}}:\n",
       " 110//3\n",
       "  20//3\n",
       "  20//3\n",
       "   0//1\n",
       "   0//1\n",
       "   0//1"
      ]
     },
     "execution_count": 7,
     "metadata": {},
     "output_type": "execute_result"
    }
   ],
   "source": [
    "simplexSolver(A, b, c, verbose=true)"
   ]
  }
 ],
 "metadata": {
  "kernelspec": {
   "display_name": "Julia 1.9.3",
   "language": "julia",
   "name": "julia-1.9"
  },
  "language_info": {
   "file_extension": ".jl",
   "mimetype": "application/julia",
   "name": "julia",
   "version": "1.9.3"
  }
 },
 "nbformat": 4,
 "nbformat_minor": 5
}
