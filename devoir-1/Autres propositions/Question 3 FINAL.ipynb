{
 "cells": [
  {
   "cell_type": "markdown",
   "metadata": {},
   "source": [
    "## $\\textbf{Question 3}$"
   ]
  },
  {
   "cell_type": "markdown",
   "metadata": {},
   "source": [
    "$\\textbf{Soit}$ $K =\\{x | Ax = b, x \\geq 0 \\}$ $\\textbf{K est non vide}$"
   ]
  },
  {
   "cell_type": "markdown",
   "metadata": {},
   "source": [
    "### $\\textbf{Corollaire 1:}$"
   ]
  },
  {
   "cell_type": "markdown",
   "metadata": {},
   "source": [
    "$\\textbf{Montrons que si l'ensemble convexe K est non vide, alors il existe aumoin un point extrême.}$"
   ]
  },
  {
   "cell_type": "markdown",
   "metadata": {},
   "source": [
    "##### $\\textbf{Par définition d'un ensemble convexe non vide,}$"
   ]
  },
  {
   "cell_type": "markdown",
   "metadata": {},
   "source": [
    "$\\textbf{chaque}$ $x \\in k$ $\\textbf{peut s'écrire comme combinaison convexe de deux points}$ $x_1, x_2 \\in k$"
   ]
  },
  {
   "cell_type": "markdown",
   "metadata": {},
   "source": [
    "$\\textbf{tels que}$ $x= \\alpha x_1 + (1-\\alpha)x_2, \\alpha \\in [0,1]$"
   ]
  },
  {
   "cell_type": "markdown",
   "metadata": {},
   "source": [
    "##### $\\textbf{Par définition d'un point extrême,}$"
   ]
  },
  {
   "cell_type": "markdown",
   "metadata": {},
   "source": [
    "$\\textbf{chaque x est un point extrême de k si}$"
   ]
  },
  {
   "cell_type": "markdown",
   "metadata": {},
   "source": [
    "$\\textbf{Il n'existe pas de deux points}$ $x_1, x_2 \\in k$ $\\textbf{tels que}$ $x= \\alpha x_1 + (1-\\alpha)x_1 , \\alpha \\in ]0,1[$"
   ]
  },
  {
   "cell_type": "markdown",
   "metadata": {},
   "source": [
    "$\\textbf{Notons}$ $S$ $\\textbf{l'ensemble des points qui respectent;}$"
   ]
  },
  {
   "cell_type": "markdown",
   "metadata": {},
   "source": [
    "$x= \\alpha x_1 + (1-\\alpha)x_2,$ $\\textbf{avec}$ $x_1, x_2 \\in k$ $\\textbf{et}$ $\\alpha \\in ]0,1[$"
   ]
  },
  {
   "cell_type": "markdown",
   "metadata": {},
   "source": [
    "$\\textbf{Ainsi,}$ $S \\subseteq k$ $\\textbf{, or}$ $k \\setminus S \\neq \\empty$"
   ]
  },
  {
   "cell_type": "markdown",
   "metadata": {},
   "source": [
    "$\\textbf{ainsi lorsqu'on prend l'ensemble}$ $K$ $\\textbf{privé de tous les points qui ne sont pas des points extremes,}$"
   ]
  },
  {
   "cell_type": "markdown",
   "metadata": {},
   "source": [
    "$\\textbf{on aura un ensemble resultant qui est non-vide.}$"
   ]
  },
  {
   "cell_type": "markdown",
   "metadata": {},
   "source": [
    "$\\textbf{Par conséquent, si l'ensemble convexe}$ $K$ $\\textbf{est non-vide, alors il y a au moins un point extrême.}$"
   ]
  }
 ],
 "metadata": {
  "language_info": {
   "name": "python"
  },
  "orig_nbformat": 4
 },
 "nbformat": 4,
 "nbformat_minor": 2
}
