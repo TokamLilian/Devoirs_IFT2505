{
 "cells": [
  {
   "cell_type": "code",
   "execution_count": 1,
   "id": "24ec925f",
   "metadata": {},
   "outputs": [
    {
     "name": "stdout",
     "output_type": "stream",
     "text": [
      "Analytic center: [0.0, 0.0]\n"
     ]
    }
   ],
   "source": [
    "using NLopt\n",
    "using LinearAlgebra\n",
    "\n",
    "# Define the potential function phi(x)\n",
    "function phi(x)\n",
    "    x1, x2 = x\n",
    "    return -log(3 - x1 - x2) - log(1 + x1 + x2) - log(1 + x1 - x2) - log(1 - x1 + x2)\n",
    "end\n",
    "\n",
    "# Define the gradient of phi(x)\n",
    "function grad_phi!(gradient, x)\n",
    "    x1, x2 = x\n",
    "    gradient[1] = (-1 / (3 - x1 - x2)) + (1 / (1 + x1 + x2)) + (1 / (1 + x1 - x2)) - (1 / (1 - x1 + x2))\n",
    "    gradient[2] = (-1 / (3 - x1 - x2)) + (1 / (1 + x1 + x2)) - (1 / (1 + x1 - x2)) + (1 / (1 - x1 + x2))\n",
    "end\n",
    "\n",
    "# The optimization function using NLopt\n",
    "function find_analytic_center()\n",
    "    opt = Opt(:LD_MMA, 2)\n",
    "    opt.lower_bounds = [-Inf, -Inf]\n",
    "    opt.upper_bounds = [Inf, Inf]\n",
    "    opt.min_objective = (x, grad) -> begin\n",
    "        if length(grad) > 0\n",
    "            grad_phi!(grad, x)\n",
    "        end\n",
    "        phi(x)\n",
    "    end\n",
    "    opt.xtol_rel = 1e-4\n",
    "    x0 = [0.0, 0.0]  # Starting point\n",
    "    (minf, minx, ret) = optimize(opt, x0)\n",
    "    return minx\n",
    "end\n",
    "\n",
    "# Call the function to find the analytic center\n",
    "center = find_analytic_center()\n",
    "println(\"Analytic center: \", center)"
   ]
  },
  {
   "cell_type": "code",
   "execution_count": null,
   "id": "92a261d7",
   "metadata": {},
   "outputs": [],
   "source": []
  }
 ],
 "metadata": {
  "kernelspec": {
   "display_name": "Julia 1.9.3",
   "language": "julia",
   "name": "julia-1.9"
  },
  "language_info": {
   "file_extension": ".jl",
   "mimetype": "application/julia",
   "name": "julia",
   "version": "1.9.3"
  }
 },
 "nbformat": 4,
 "nbformat_minor": 5
}
