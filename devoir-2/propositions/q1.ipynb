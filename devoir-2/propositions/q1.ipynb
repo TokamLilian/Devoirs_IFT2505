{
 "cells": [
  {
   "cell_type": "markdown",
   "metadata": {},
   "source": [
    "## $\\textbf{Question 1}$"
   ]
  },
  {
   "cell_type": "markdown",
   "metadata": {},
   "source": [
    "$\\textbf{Soit le problème: }$"
   ]
  },
  {
   "cell_type": "markdown",
   "metadata": {},
   "source": [
    "\\begin{align*} \n",
    "\\begin{array}{l c c c c c c c} \n",
    "  \\min\\  x  = &  -2x    & - &  y   & - &  3z  &  &   \\\\ \n",
    "  \\text{tel que }   &  2x  & + &  3y  & + &  4z   &  \\leq  & 120  \\\\ \n",
    "            &  x      & + &  2y  &  \\leq  & 50  \\\\ \n",
    "            &  x      & + &  2z  &  \\leq  & 50  \\\\ \n",
    "            & x, && y, && z & \\geq & 0      \\\\ \n",
    "\\end{array} \n",
    "\\end{align*}"
   ]
  },
  {
   "cell_type": "markdown",
   "metadata": {},
   "source": [
    "- $\\textbf{(a) Resolvons le problème à la main avec la méthode du simplexe.}$"
   ]
  },
  {
   "cell_type": "markdown",
   "metadata": {},
   "source": [
    "$\\text{On transforme le problème sous la forme standard à l'introduction des variables d'écarts}$ $s_1,$ $s_2$ $\\text{et}$ $s_2.$"
   ]
  },
  {
   "cell_type": "markdown",
   "metadata": {},
   "source": [
    "$\\text{On obtient:}$"
   ]
  },
  {
   "cell_type": "markdown",
   "metadata": {},
   "source": [
    "\\begin{align*} \n",
    "\\begin{array}{l c c c c c c c c c c} \n",
    "  \\min\\  x  = &  -2x    & - &  y   & - &  3z  &  &   \\\\ \n",
    "  \\text{tel que }   &  2x  & + &  3y  & + &  4z  & + & s_1 & && && =  & 120  \\\\ \n",
    "            &  x      & + &  2y  && && & + & s_2 & &&  =  & 50  \\\\ \n",
    "            &  x      & + &  2z  && &&  && &+& s_3&  =  & 50  \\\\ \n",
    "            & x, && y, && z, && s_1, && s_2, && s_3 & \\geq & 0      \\\\ \n",
    "\\end{array} \n",
    "\\end{align*}"
   ]
  },
  {
   "cell_type": "markdown",
   "metadata": {},
   "source": [
    "$\\text{Avec les variables dans la base}$ $s_1,$ $s_2$ $\\text{et}$ $s_2,$ $\\text{On obtient le tableau du simplexe suivant;}$"
   ]
  },
  {
   "cell_type": "markdown",
   "metadata": {},
   "source": [
    "\\begin{align*}\n",
    "\\begin{array}{c|cccccc|c}\n",
    "& x & y & z & s_1 & s_2 & s_3 & \\text{T.D.}\\\\\n",
    "\\hline\n",
    "s_1 & 2 & 3 & 4 & 1 & 0 & 0 & 120 \\\\\n",
    "s_2 & 1 & 2 & 0 & 0 & 1 & 0 & 50 \\\\\n",
    "s_3 & 1 & 0 & \\color{red} 2 & 0 & 0 & 1 & 50 \\\\\n",
    "\\hline\n",
    "-z  & -2 & -1 & -3 & 0 & 0 & 0 & 0\\\\\n",
    "\\end{array}\n",
    "\\end{align*}"
   ]
  },
  {
   "cell_type": "markdown",
   "metadata": {},
   "source": [
    "$\\text{On prend}$ $z$ $\\text{comme variable d'entrée et}$ $s_3$ $\\text{comme variable de sortie.}$"
   ]
  },
  {
   "cell_type": "markdown",
   "metadata": {},
   "source": [
    "\\begin{align*}\n",
    "\\begin{array}{c|cccccc|c}\n",
    "& x & y & z & s_1 & s_2 & s_3 & \\text{T.D.}\\\\\n",
    "\\hline\n",
    "s_1 & 0 & \\color{red}3 & 0 & 1 & 0 & 0 & 20 \\\\\n",
    "s_2 & 1 & 2 & 0 & 0 & 1 & 0 & 50 \\\\\n",
    "z & 1/2 & 0 & 1 & 0 & 0 & 1/2 & 25 \\\\\n",
    "\\hline\n",
    "-z  & -1/2 & -1 & 0 & 0 & 0 & 3/2 & 75\\\\\n",
    "\\end{array}\n",
    "\\end{align*}"
   ]
  },
  {
   "cell_type": "markdown",
   "metadata": {},
   "source": [
    "$\\text{On prend}$ $y$ $\\text{comme variable d'entrée et}$ $s_1$ $\\text{comme variable de sortie.}$"
   ]
  },
  {
   "cell_type": "markdown",
   "metadata": {},
   "source": [
    "\\begin{align*}\n",
    "\\begin{array}{c|cccccc|c}\n",
    "& x & y & z & s_1 & s_2 & s_3 & \\text{T.D.}\\\\\n",
    "\\hline\n",
    "y & 0 & 1 & 0 & 1/3 & 0 & 0 & 20/3 \\\\\n",
    "s_2 & \\color{red}1 & 0 & 0 & -2/3 & 1 & 0 & 110/3 \\\\\n",
    "z & 1/2 & 0 & 1 & 0 & 0 & 1/2 & 25 \\\\\n",
    "\\hline\n",
    "-z  & -1/2 & 0 & 0 & 1/3 & 0 & 3/2 & 245/3\\\\\n",
    "\\end{array}\n",
    "\\end{align*}"
   ]
  },
  {
   "cell_type": "markdown",
   "metadata": {},
   "source": [
    "$\\text{On prend}$ $x$ $\\text{comme variable d'entrée et}$ $s_2$ $\\text{comme variable de sortie.}$"
   ]
  },
  {
   "cell_type": "markdown",
   "metadata": {},
   "source": [
    "\\begin{align*}\n",
    "\\begin{array}{c|cccccc|c}\n",
    "& x & y & z & s_1 & s_2 & s_3 & \\text{T.D.}\\\\\n",
    "\\hline\n",
    "y & 0 & 1 & 0 & 1/3 & 0 & 0 & 20/3 \\\\\n",
    "x & 1 & 0 & 0 & -2/3 & 1 & 0 & 110/3 \\\\\n",
    "z & 0 & 0 & 1 & 0 & 1/3 & 1/2 & 20/3 \\\\\n",
    "\\hline\n",
    "-z  & 0 & 0 & 0 & 0 & 1/2 & 3/2 & 100\\\\\n",
    "\\end{array}\n",
    "\\end{align*}"
   ]
  },
  {
   "cell_type": "markdown",
   "metadata": {},
   "source": [
    "$\\text{Donc,}$"
   ]
  },
  {
   "cell_type": "markdown",
   "metadata": {},
   "source": [
    "\\begin{align*}\n",
    "&x=110/3,\\ y=20/3,\\ z=20/3 \\\\\n",
    "&s_1=s_2=s_3=0 \n",
    "\\end{align*}\n",
    "$\\text{et la valeur optimale du problème est}$ $z^{\\star}=-100$."
   ]
  }
 ],
 "metadata": {
  "language_info": {
   "name": "python"
  },
  "orig_nbformat": 4
 },
 "nbformat": 4,
 "nbformat_minor": 2
}
