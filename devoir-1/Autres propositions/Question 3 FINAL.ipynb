{
 "cells": [
  {
   "cell_type": "markdown",
   "metadata": {},
   "source": [
    "## $\\textbf{Question 3}$"
   ]
  },
  {
   "cell_type": "markdown",
   "metadata": {},
   "source": [
    "$\\textbf{Soit}$ $K =\\{x | Ax = b, x \\geq 0 \\}$ $\\textbf{K est non vide}$"
   ]
  },
  {
   "cell_type": "markdown",
   "metadata": {},
   "source": [
    "### $\\textbf{Corollaire 1:}$"
   ]
  },
  {
   "cell_type": "markdown",
   "metadata": {},
   "source": [
    "$\\textbf{Montrons que si l'ensemble convexe K est non vide, alors il existe au moins un point extrême.}$"
   ]
  },
  {
   "cell_type": "markdown",
   "metadata": {},
   "source": [
    "##### $\\textbf{Par définition d'un ensemble convexe non vide,}$ $\\textbf{chaque}$ $x \\in k$ $\\textbf{peut s'écrire comme combinaison convexe de deux points}$ $x_1, x_2 \\in k$ $\\textbf{tels que}$ $x= \\alpha x_1 + (1-\\alpha)x_2, \\alpha \\in [0,1]$"
   ]
  },
  {
   "cell_type": "markdown",
   "metadata": {},
   "source": [
    "##### $\\textbf{Par définition d'un point extrême,}$ $\\textbf{chaque x est un point extrême de k s'}$ $\\textbf{il n'existe pas de deux points}$ $x_1, x_2 \\in k$ $\\textbf{tels que}$ $x= \\alpha x_1 + (1-\\alpha)x_1 , \\alpha \\in ]0,1[$"
   ]
  },
  {
   "cell_type": "markdown",
   "metadata": {},
   "source": [
    "$\\textbf{Notons}$ $S$ $\\textbf{l'ensemble des points qui respectent;}$"
   ]
  },
  {
   "cell_type": "markdown",
   "metadata": {},
   "source": [
    "$x= \\alpha x_1 + (1-\\alpha)x_2,$ $\\textbf{avec}$ $x_1, x_2 \\in k$ $\\textbf{et}$ $\\alpha \\in ]0,1[$"
   ]
  },
  {
   "cell_type": "markdown",
   "metadata": {},
   "source": [
    "$\\textbf{Ainsi,}$ $S \\subseteq k$ $\\textbf{, or}$ $k \\setminus S \\neq ∅$ $\\textbf{, car}$ $k \\setminus S= \\alpha x_1 + (1-\\alpha)x_2$ $\\textbf{, pour}$ $x_1, x_2 \\in k$ $\\textbf{et}$ $\\alpha \\in [0,1]$"
   ]
  },
  {
   "cell_type": "markdown",
   "metadata": {},
   "source": [
    "$\\textbf{Ainsi lorsqu'on prend l'ensemble}$ $K$ $\\textbf{privé de tous les points qui ne sont pas des points extremes, }$ $\\textbf{on aura un ensemble resultant qui est non-vide.}$"
   ]
  },
  {
   "cell_type": "markdown",
   "metadata": {},
   "source": [
    "$\\textbf{Par conséquent, si l'ensemble convexe}$ $K$ $\\textbf{est non-vide, alors il y a au moins un point extrême.}$"
   ]
  },
  {
   "cell_type": "markdown",
   "metadata": {},
   "source": [
    "### $\\textbf{Corollaire 2:}$"
   ]
  },
  {
   "cell_type": "markdown",
   "metadata": {},
   "source": [
    "$\\textbf{Montrons que s'il existe une solution optimale finie à un problème d'optimisation linéaire,}$"
   ]
  },
  {
   "cell_type": "markdown",
   "metadata": {},
   "source": [
    "$\\textbf{alors il existe une solution optimale finie qui est un point extrême de l'ensemble des contraintes.}$"
   ]
  },
  {
   "cell_type": "markdown",
   "metadata": {},
   "source": [
    "$\\textbf{Par le théorème de la programmation linéaire, on sait que s'il y a une solution réalisable réalisable optimale,}$ $\\textbf{alors il y a une solution de base réalisable optimale.}$"
   ]
  },
  {
   "cell_type": "markdown",
   "metadata": {},
   "source": [
    "$\\textbf{Ainsi, s'il existe une solution optimale finie à un problème, alors il existe une solution optimale finie de base à ce problème.}$"
   ]
  },
  {
   "cell_type": "markdown",
   "metadata": {},
   "source": [
    "$\\textbf{Par équivalence des points extrêmes et des solutions de base,}$ $\\textbf{Soit A une matrice}$ $m × n$ $\\textbf{de rang}$ $m$ $\\textbf{et}$ $b$ $\\textbf{un vecteur de dimension m.}$"
   ]
  },
  {
   "cell_type": "code",
   "execution_count": 2,
   "metadata": {},
   "outputs": [
    {
     "ename": "SyntaxError",
     "evalue": "invalid syntax (2381181587.py, line 1)",
     "output_type": "error",
     "traceback": [
      "\u001b[1;36m  Cell \u001b[1;32mIn[2], line 1\u001b[1;36m\u001b[0m\n\u001b[1;33m    $\\textbf{Soit A une matrice}$ $m × n$ $\\textbf{de rang}$ $m$ $\\textbf{et}$ $b$ $\\textbf{un vecteur de dimension m.}$\u001b[0m\n\u001b[1;37m    ^\u001b[0m\n\u001b[1;31mSyntaxError\u001b[0m\u001b[1;31m:\u001b[0m invalid syntax\n"
     ]
    }
   ],
   "source": [
    " $\\textbf{Soit A une matrice}$ $m × n$ $\\textbf{de rang}$ $m$ $\\textbf{et}$ $b$ $\\textbf{un vecteur de dimension m.}$"
   ]
  },
  {
   "cell_type": "markdown",
   "metadata": {},
   "source": [
    "$\\textbf{Soit}$ $K$ $\\textbf{le polytope convexe constitué de l’ensemble des\n",
    "vecteurs}$ $x$ $\\textbf{de dimension n satisfaisant}$\n",
    "$Ax = b, x ≥ 0.$"
   ]
  },
  {
   "cell_type": "markdown",
   "metadata": {},
   "source": [
    "$\\textbf{Un vecteur}$ $x$ $\\textbf{est un point extrême de}$ $K$ $\\textbf{si et seulement si}$ $x$ $\\textbf{est une solution de base réalisable pour le système précédent.}$"
   ]
  },
  {
   "cell_type": "markdown",
   "metadata": {},
   "source": [
    "$\\textbf{Ainsi il existe bien une solution optimale finie qui est un point extrême.}$"
   ]
  }
 ],
 "metadata": {
  "kernelspec": {
   "display_name": "Python 3 (ipykernel)",
   "language": "python",
   "name": "python3"
  },
  "language_info": {
   "codemirror_mode": {
    "name": "ipython",
    "version": 3
   },
   "file_extension": ".py",
   "mimetype": "text/x-python",
   "name": "python",
   "nbconvert_exporter": "python",
   "pygments_lexer": "ipython3",
   "version": "3.11.4"
  }
 },
 "nbformat": 4,
 "nbformat_minor": 2
}
