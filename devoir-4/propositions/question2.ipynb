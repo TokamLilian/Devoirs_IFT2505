{
 "cells": [
  {
   "cell_type": "markdown",
   "metadata": {},
   "source": [
    "## $\\textbf{Question 2}$"
   ]
  },
  {
   "cell_type": "markdown",
   "metadata": {},
   "source": [
    "### $\\text{(a)} $"
   ]
  },
  {
   "cell_type": "markdown",
   "metadata": {},
   "source": [
    "$y = \\{ y | A^Ty \\leq c \\} $ $, A \\in \\mathbb{R}^{m\\times n} \\, c  \\in \\mathbb{R} $\n",
    "\n",
    "$\\underset{y}{\\text{min }} \\psi(y_1, \\dots, y_n) $\n",
    "\\begin{align*}\n",
    "\\psi _{y_1, \\dots, y_n} & = - \\left(log(c_1 - a_1^T y_1) + log(c_2 - a_2^T y_2) + \\dots + log(c_n - a_n^T y_n)\\right) \\\\\n",
    "& = - \\left( log(s_1) + log(s_2) + \\dots + log(s_n)\\right)\\\\\n",
    "& = - \\left( log(s_1 s_2 \\dots s_n) \\right) \\\\\n",
    "& = - \\sum_{j=1}^n \\log s_j\n",
    "\\end{align*}\n",
    "\n",
    "$\\text{comme la fonction} -\\log (x) \\text{est strictement décroissante sur } ] 0, +\\infty [, \\\\ \\text{minimiser} -\\log (x) \\text{ revient à maximiser x, ainsi maximiser } s_1 s_2 \\dots s_n $\n"
   ]
  },
  {
   "cell_type": "markdown",
   "metadata": {},
   "source": [
    "### $\\text{(b)} $"
   ]
  },
  {
   "cell_type": "markdown",
   "metadata": {},
   "source": [
    "$AS^{-1} e = 0 $\n",
    "$\\text{Cela découle de la définition du centre analytique, en effet;} \\\\ \\text{On a } AX=0 \\text{ avec } x_j = \\frac{1}{s_j} \\iff X = $\n",
    "\n",
    "\\begin{pmatrix}\n",
    "    \\frac{1}{s_1} \\\\ \\frac{1}{s_2} \\\\ \\vdots \\\\ \\frac{1}{s_n}\n",
    "\\end{pmatrix} \n",
    "\n",
    "$\\text{par définition.} $\n"
   ]
  },
  {
   "cell_type": "markdown",
   "metadata": {},
   "source": [
    "$\\text{il suffit de vérifier que } X= S^{-1}e $\n",
    "$\\text{ainsi, on a }$ \n",
    "\\begin{align*}\n",
    "    S^{-1} = \n",
    "    \\begin{pmatrix}\n",
    "        \\frac{1}{s_1} & 0 & \\dots & 0 \\\\\n",
    "        0 & \\frac{1}{s_2} & \\dots & 0\\\\\n",
    "        \\vdots & \\vdots & \\ddots &\\vdots\\\\\n",
    "        0 & 0 & \\dots & \\frac{1}{s_n}\\\\\n",
    "    \\end{pmatrix}\n",
    "\\end{align*}"
   ]
  },
  {
   "cell_type": "markdown",
   "metadata": {},
   "source": [
    "\\begin{align*}\n",
    "    \\text{donc }S^{-1}e = \n",
    "    \\begin{pmatrix}\n",
    "        \\frac{1}{s_1} & 0 & \\dots & 0 \\\\\n",
    "        0 & \\frac{1}{s_2} & \\dots & 0\\\\\n",
    "        \\vdots & \\vdots & \\ddots &\\vdots\\\\\n",
    "        0 & 0 & \\dots & \\frac{1}{s_n}\\\\\n",
    "    \\end{pmatrix}\n",
    "    \\begin{pmatrix}\n",
    "        1\\\\\n",
    "        1\\\\\n",
    "        \\vdots\\\\\n",
    "        1\\\\\n",
    "    \\end{pmatrix}\n",
    "    =\n",
    "    \\begin{pmatrix}\n",
    "        \\frac{1}{s_1} \\\\ \\frac{1}{s_2} \\\\ \\vdots \\\\ \\frac{1}{s_n}\n",
    "    \\end{pmatrix} \n",
    "    = X\n",
    "\\end{align*}"
   ]
  },
  {
   "cell_type": "markdown",
   "metadata": {},
   "source": [
    "$\\text{on a donc l'inégalité voulu} $\n",
    "$AX = AS^{-1}e = 0 $"
   ]
  },
  {
   "cell_type": "markdown",
   "metadata": {},
   "source": [
    "### $\\text{(c)} $"
   ]
  }
 ],
 "metadata": {
  "kernelspec": {
   "display_name": "Python 3",
   "language": "python",
   "name": "python3"
  },
  "language_info": {
   "name": "python",
   "version": "3.11.5"
  },
  "orig_nbformat": 4
 },
 "nbformat": 4,
 "nbformat_minor": 2
}
