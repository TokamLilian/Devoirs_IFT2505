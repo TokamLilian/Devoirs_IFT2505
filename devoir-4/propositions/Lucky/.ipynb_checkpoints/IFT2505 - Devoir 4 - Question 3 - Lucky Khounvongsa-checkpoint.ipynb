{
 "cells": [
  {
   "cell_type": "code",
   "execution_count": null,
   "id": "24ec925f",
   "metadata": {},
   "outputs": [],
   "source": [
    "using NLopt\n",
    "\n",
    "# Définition de la fonction potentielle\n",
    "function phi(x::Vector, grad::Vector)\n",
    "    if length(grad) > 0\n",
    "        grad[1] = 1/(3 - x[1] - x[2]) - 1/(x[1] + x[2] + 1) - 1/(1 - x[1] + x[2]) + 1/(1 + x[1] - x[2])\n",
    "        grad[2] = 1/(3 - x[1] - x[2]) - 1/(x[1] + x[2] + 1) + 1/(1 - x[1] + x[2]) - 1/(1 + x[1] - x[2])\n",
    "    end\n",
    "    return -log(3 - x[1] - x[2]) - log(x[1] + x[2] + 1) - log(1 - x[1] + x[2]) - log(1 + x[1] - x[2])\n",
    "end\n",
    "\n",
    "# Configuration de l'optimiseur\n",
    "opt = Opt(:LD_MMA, 2)\n",
    "lower_bounds!(opt, [-Inf, -Inf])\n",
    "upper_bounds!(opt, [Inf, Inf])\n",
    "\n",
    "min_objective!(opt, phi)\n",
    "\n",
    "# Définition du point de départ\n",
    "x0 = [0.5, 0.5]\n",
    "\n",
    "# Exécution de l'optimiseur\n",
    "(minf,minx,ret) = optimize(opt, x0)\n",
    "\n",
    "println(\"Found minimum at $minx with value $minf and return code $ret\")"
   ]
  },
  {
   "cell_type": "code",
   "execution_count": null,
   "id": "46e920d1",
   "metadata": {},
   "outputs": [],
   "source": []
  }
 ],
 "metadata": {
  "kernelspec": {
   "display_name": "Julia 1.9.3",
   "language": "julia",
   "name": "julia-1.9"
  },
  "language_info": {
   "file_extension": ".jl",
   "mimetype": "application/julia",
   "name": "julia",
   "version": "1.9.3"
  }
 },
 "nbformat": 4,
 "nbformat_minor": 5
}
