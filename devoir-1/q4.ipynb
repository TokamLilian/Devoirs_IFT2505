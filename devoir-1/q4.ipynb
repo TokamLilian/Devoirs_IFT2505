{
 "cells": [
  {
   "cell_type": "markdown",
   "metadata": {},
   "source": [
    "## $\\textbf{Question 4}$"
   ]
  },
  {
   "cell_type": "markdown",
   "metadata": {},
   "source": [
    "$\\textbf{Soit}$\n",
    "\\begin{align*}\n",
    "  \\min\\           & c^Tx \\\\\n",
    "  \\text{tel que } &   Ax = b, x \\geq 0\n",
    "\\end{align*}"
   ]
  },
  {
   "cell_type": "markdown",
   "metadata": {},
   "source": [
    "$\\textbf{a) Montrons que d direction réalisable}$ $\\implies Ad = 0$ \\\\"
   ]
  },
  {
   "cell_type": "markdown",
   "metadata": {},
   "source": [
    "\\begin{align*}\n",
    "& A( x + \\alpha d) = b \\\\ \n",
    "& Ax + A(\\alpha d) = b  &(dévelopement)\\\\\n",
    "& b + A(\\alpha d)  = b  &(Ax =b)\\\\\n",
    "& A(\\alpha d)      = 0  &(-b)\\\\\n",
    "& Ad = 0                &(-\\alpha)            \n",
    "\\end{align*}"
   ]
  },
  {
   "cell_type": "markdown",
   "metadata": {},
   "source": [
    "\\begin{align*}\n",
    "&&&&&&&&&&&&&&&&&&&&&&&&&&&& \\ QED\n",
    "\\end{align*}"
   ]
  },
  {
   "cell_type": "markdown",
   "metadata": {},
   "source": [
    "$\\textbf{b) Nous pouvons écrire l'inégalité pour les points réalisables}$"
   ]
  },
  {
   "cell_type": "markdown",
   "metadata": {},
   "source": [
    "\\begin{align*}C^T x^* \\leq C^T x \\end{align*}"
   ]
  },
  {
   "cell_type": "markdown",
   "metadata": {},
   "source": [
    "$\\textbf{Il existe}$ $\\alpha \\gt 0$ $\\textbf{tel que}$ $x$ $= x^*$ + $\\alpha d$\n",
    "$\\textbf{On sait que}$\n",
    "\\begin{align*}\n",
    "    \\begin{aligned}Ax^* = b \\implies & A(x- \\alpha d) = b\\\\\n",
    "        & Ax - A \\alpha d = b \\\\\n",
    "        & Ax = b \n",
    "    \\end{aligned}\n",
    "\\end{align*}\n",
    "\n",
    "$\\textbf{On a x donc réalisable, qui nous donne;}$ \n",
    "\n",
    "\\begin{align*}\n",
    "    \\implies & C^Tx^* \\leq C^Tx \\\\\n",
    "    & C^Tx^* \\leq C^T(x^* +\\alpha d) &(ici,  x^{'} = x^* + \\alpha d) \\\\\n",
    "    & C^Tx^* \\leq C^Tx^* + C^T \\alpha d &(Dévelopement) \\\\\n",
    "    & 0 \\leq C^T \\alpha d &(-C^T x^*) \\\\\n",
    "    & 0 \\leq C^T d &(\\div \\alpha)\n",
    "\\end{align*}"
   ]
  },
  {
   "cell_type": "markdown",
   "metadata": {},
   "source": [
    "\\begin{align*}\n",
    "&&&&&&&&&&&&&&&&&&&&&&&& \\ QED\n",
    "\\end{align*}"
   ]
  }
 ],
 "metadata": {
  "language_info": {
   "name": "python"
  },
  "orig_nbformat": 4
 },
 "nbformat": 4,
 "nbformat_minor": 2
}
