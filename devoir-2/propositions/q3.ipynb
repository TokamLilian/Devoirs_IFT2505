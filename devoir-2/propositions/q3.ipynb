{
 "cells": [
  {
   "cell_type": "markdown",
   "metadata": {},
   "source": [
    "## $\\textbf{Question 3}$"
   ]
  },
  {
   "cell_type": "markdown",
   "metadata": {},
   "source": [
    "- $\\textbf{(a) Identifions les variables de base Initiales et Determinons}$ $B^{-1}$ $\\textbf{:}$"
   ]
  },
  {
   "cell_type": "markdown",
   "metadata": {},
   "source": [
    "$\\text{Les variables de base initiales sont}$ $x_4$ $\\text{et}$ $x_5$ $\\text{car elles leurs coeficients forment la matrice indentité.}$"
   ]
  },
  {
   "cell_type": "markdown",
   "metadata": {},
   "source": [
    "\\begin{align*}\n",
    "    B = \n",
    "    \\begin{pmatrix}\n",
    "        1 & 0\\\\\n",
    "        0 & 1 \\\\\n",
    "    \\end{pmatrix}\n",
    "    B^{-1} = \n",
    "    \\begin{pmatrix}\n",
    "        1 & 0 \\\\\n",
    "        0 & 1\n",
    "    \\end{pmatrix}\n",
    "\\end{align*}"
   ]
  },
  {
   "cell_type": "markdown",
   "metadata": {},
   "source": [
    "- $\\textbf{(b) Identifions les variables de base Initiales et Determinons}$ $B^{-1}$ $\\textbf{sur la deuxième itération:}$"
   ]
  },
  {
   "cell_type": "markdown",
   "metadata": {},
   "source": [
    "\\begin{align*}\n",
    "    \\begin{array}{cccccc}\n",
    "    x_1 & x_2 & x_3 & x4 & x_5 & b \\\\\n",
    "    f & 2/3 & 2/3 & 1/3 & 0 & i \\\\\n",
    "    g & h & -1/3 & 1/3 & 1 & j \\\\\n",
    "    0 & 1/3 & k & l & m & n \\\\\n",
    "    \\end{array}\n",
    "\\end{align*}"
   ]
  },
  {
   "cell_type": "markdown",
   "metadata": {},
   "source": []
  }
 ],
 "metadata": {
  "language_info": {
   "name": "python"
  },
  "orig_nbformat": 4
 },
 "nbformat": 4,
 "nbformat_minor": 2
}
