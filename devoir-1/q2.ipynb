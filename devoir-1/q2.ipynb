{
 "cells": [
  {
   "cell_type": "markdown",
   "metadata": {},
   "source": [
    "## $\\textbf{Question 2}$"
   ]
  },
  {
   "cell_type": "markdown",
   "metadata": {},
   "source": [
    "$\\textbf{Soit le problème}$\n",
    "\\begin{align*}\n",
    "  \\min\\           & c_1x_1+c_2x_2+\\dots+c_nx_n \\\\\n",
    "  \\text{tel que } &   a_1x_1 +a_2x_2+\\dots+a_nx_n ≤ b \\\\\n",
    "                  &   x_1, x_2,\\dots, x_n \\geq 0\n",
    "\\end{align*}"
   ]
  },
  {
   "cell_type": "markdown",
   "metadata": {},
   "source": [
    "$x_k$ $\\textbf{est la variable du problème}$ ${A = (a_1 \\dots a_k \\dots a_n)}$"
   ]
  },
  {
   "cell_type": "markdown",
   "metadata": {},
   "source": [
    "$ B = (a_k) \\implies B^{-1} = \\frac{1}{a_k}$"
   ]
  },
  {
   "cell_type": "markdown",
   "metadata": {},
   "source": [
    "$\\textbf{On a}$ $Ax = b \\implies Bx_b = b \\implies x_b = bB^{-1} \\implies x_k = \\frac{b}{a_k} $"
   ]
  },
  {
   "cell_type": "markdown",
   "metadata": {},
   "source": [
    "\\begin{align*}&\n",
    "Où & X =\n",
    "\\begin{pmatrix}\n",
    "0 \\\\\n",
    "0 \\\\\n",
    "0 \\\\\n",
    "\\vdots \\\\\n",
    "\\frac{b}{a_k} \\\\\n",
    "\\vdots \\\\\n",
    "0 \\\\\n",
    "0 \\\\\n",
    "0\n",
    "\\end{pmatrix}\n",
    "\\end{align*}"
   ]
  },
  {
   "cell_type": "markdown",
   "metadata": {},
   "source": [
    "$\\textbf{c'est une solution de base non dégénérée (1)}$\n",
    "$\\textbf{L'indice k satisfait la relation}$ $\\frac{c_k}{a_k} = \\underset{j = 1, \\dots, n}\\min \\{\\frac{c_j}{a_j}\\}$\n",
    "\n"
   ]
  },
  {
   "cell_type": "markdown",
   "metadata": {},
   "source": [
    "$\\textbf{comme}$ $\\frac{c_k}{a_k}$ $\\textbf{est le}$ $\\underset{j = 1, \\dots, n}\\min \\{\\frac{c_j}{a_j}\\}$ $\\textbf{et que par (1) on a;}$"
   ]
  },
  {
   "cell_type": "markdown",
   "metadata": {},
   "source": [
    "$\\textbf{On a}$ $z =  c_k \\frac{b}{a_k} = \\frac{c_k}{a_k} . b$ $\\textbf{alors}$ \n",
    "\\begin{align*}&\n",
    "X =\n",
    "\\begin{pmatrix}\n",
    "0 \\\\\n",
    "0 \\\\\n",
    "0 \\\\\n",
    "\\vdots \\\\\n",
    "\\frac{b}{a_k} \\\\\n",
    "\\vdots \\\\\n",
    "0 \\\\\n",
    "0 \\\\\n",
    "0\n",
    "\\end{pmatrix}\n",
    "\\end{align*}"
   ]
  },
  {
   "cell_type": "markdown",
   "metadata": {},
   "source": [
    "$\\textbf{Comme}$ $b$ $\\textbf{est constant et qu'il appratait pour toute solutions de base non dégénérée,}$"
   ]
  },
  {
   "cell_type": "markdown",
   "metadata": {},
   "source": [
    "$\\textbf{on peut se concentrer uniquement sur la valeur de}$ $\\frac{c_j}{a_j}$. Donc comme $\\frac{c_k}{a_k} = \\underset{j = 1, \\dots, n}\\min \\{\\frac{c_j}{a_j}\\}$ $\\textbf{,}$"
   ]
  },
  {
   "cell_type": "markdown",
   "metadata": {},
   "source": [
    "$\\textbf{alors la solution est optimale pour}$ $\\frac{c_k}{a_k}.$"
   ]
  },
  {
   "cell_type": "markdown",
   "metadata": {},
   "source": [
    "$\\textbf{X est bien une solution de base optimale non dégénérée.}$"
   ]
  },
  {
   "cell_type": "markdown",
   "metadata": {},
   "source": [
    "$\\textbf{Par le théorème fondamentale de la programmation linéaire, c'est aussi une solution optimale du problème.}$"
   ]
  }
 ],
 "metadata": {
  "language_info": {
   "name": "python"
  },
  "orig_nbformat": 4
 },
 "nbformat": 4,
 "nbformat_minor": 2
}
