{
 "cells": [
  {
   "cell_type": "markdown",
   "metadata": {},
   "source": [
    "<div></div>"
   ]
  },
  {
   "cell_type": "markdown",
   "metadata": {},
   "source": [
    "<div></div>"
   ]
  },
  {
   "cell_type": "markdown",
   "metadata": {},
   "source": [
    "\\begin{align*}\n",
    "\\textbf{DEVOIR 3}\n",
    "\\end{align*}"
   ]
  },
  {
   "cell_type": "markdown",
   "metadata": {},
   "source": [
    "<div></div>"
   ]
  },
  {
   "cell_type": "markdown",
   "metadata": {},
   "source": [
    "<div style=\"text-align:center; font-family:Times New Roman; font-size:22px\">\n",
    "    ROMAN NAKHUDA 20207082\n",
    "</div>\n",
    "\n",
    "<div style=\"text-align:center; font-family:Times New Roman; font-size:22px\">\n",
    "    LUCKY KHOUNVONGSA 20172476\n",
    "</div>\n",
    "<div style=\"text-align:center; font-family:Times New Roman; font-size:22px\">\n",
    "    ANGE LILIAN TCHOMTCHOUA TOKAM 20210129\n",
    "</div>"
   ]
  },
  {
   "cell_type": "markdown",
   "metadata": {},
   "source": [
    "<div></div>"
   ]
  },
  {
   "cell_type": "markdown",
   "metadata": {},
   "source": [
    "<div></div>"
   ]
  },
  {
   "cell_type": "markdown",
   "metadata": {},
   "source": [
    "<div style=\"text-align:center; font-family:Times New Roman; font-size:22px\">\n",
    "    OPTIMISATION LINEAIRE - IFT2505\n",
    "</div>\n",
    "<div style=\"text-align:center; font-family:Times New Roman; font-size:18px\">\n",
    "     PROFESSEUR FABIEN BASTIN\n",
    "</div>"
   ]
  },
  {
   "cell_type": "markdown",
   "metadata": {},
   "source": [
    "<div></div>"
   ]
  },
  {
   "cell_type": "markdown",
   "metadata": {},
   "source": [
    "<div></div>"
   ]
  },
  {
   "cell_type": "markdown",
   "metadata": {},
   "source": [
    "<div style=\"text-align:center; font-family:Times New Roman; font-size:16px\">\n",
    "    Université de Montréal\n",
    "</div>\n",
    "<div style=\"text-align:center; font-family:Times New Roman; font-size:16px\">\n",
    "    À remettre le 21 Novembre 2023 à 9:30\n",
    "</div>"
   ]
  },
  {
   "cell_type": "markdown",
   "metadata": {},
   "source": [
    "<div></div>"
   ]
  },
  {
   "cell_type": "markdown",
   "metadata": {},
   "source": [
    "<div></div>"
   ]
  },
  {
   "cell_type": "markdown",
   "metadata": {},
   "source": [
    "## $\\textbf{Question 1}$"
   ]
  },
  {
   "cell_type": "markdown",
   "metadata": {},
   "source": [
    "$\\text{Soit le problème de programmation linéaire: }$"
   ]
  },
  {
   "cell_type": "markdown",
   "metadata": {},
   "source": [
    "\\begin{align*}\n",
    "    \\min_x\\ & 2x_1 +3x_2 + 4x_3\\\\\n",
    "    \\text{t.q.}\\ &\n",
    "        x_1 +2x_2 +x_3 \\ge 3\\\\\n",
    "        & 2x_1 -x_2 +3x_3 \\ge4\\\\\n",
    "        & x_1,x_2,x_3 \\ge 0\n",
    "\\end{align*}"
   ]
  },
  {
   "cell_type": "markdown",
   "metadata": {},
   "source": [
    "#### $\\text{(a)}$ $\\text{Resolvons le problème avec l'algorithme dual du simplexe;}$"
   ]
  },
  {
   "cell_type": "markdown",
   "metadata": {},
   "source": [
    "$\\text{On transforme le problème sous forme standard à l'introdution des variables supplémentaires} \\\\ x_4 \\text{ et } x_5$"
   ]
  },
  {
   "cell_type": "markdown",
   "metadata": {},
   "source": [
    "\\begin{align*}\n",
    "\\min_x\\ & 2x_1 +3 x_2 +4 x_3 \\\\\n",
    "\t\\text{t.q.} &\n",
    "-x_1 -2x_2 -x_3 +x_4 = -3\\\\\n",
    "& -2x_1 +x_2 -3x_3 +x_5 = -4 \\\\\n",
    "& x_1,x_2,x_3, x_4, x_5 \\ge 0\n",
    "\\end{align*}"
   ]
  },
  {
   "cell_type": "markdown",
   "metadata": {},
   "source": [
    "$\\text{On applique l'algorithme du simplexe dual;}$"
   ]
  },
  {
   "cell_type": "markdown",
   "metadata": {},
   "source": [
    "\\begin{align*}\n",
    "    \\begin{array} {c|ccccc|c|c}\n",
    "        v.d & x_1 & x_2 & x_3 & x_4 &  x_5 & -z & \\text{t.d.}\\\\\n",
    "        \\hline\n",
    "        x_4 & -1 & -2 & -1 & 1 & 0 & 0 & -3\\\\\n",
    "        x_5 & \\color{red}{-2} & 1 & -3 & 0 & 1 & 0 & -4\\\\\n",
    "        \\hline\n",
    "        -z & 2 & 3 & 4 & 0 & 0 & 1 & 0\n",
    "    \\end{array}\n",
    "\\end{align*}\n",
    "\n",
    "\\begin{align*}\n",
    "    \\begin{array} {c|ccccc|c|c}\n",
    "        v.d.& x_1 & x_2 & x_3 & x_4 &  x_5 & -z & \\text{t.d.}\\\\\n",
    "        \\hline\n",
    "        x_4 & 0 & \\color{red}{-5/2} & 1/2 & 1 & -1/2 & 0 & -1\\\\\n",
    "        x_1 & 1 & -1/2 & 3/2 & 0 & -1/2 & 0 & 2\\\\\n",
    "        \\hline\n",
    "        -z & 0 & 4 & 1 & 0 & 1 & 1 & -4\n",
    "    \\end{array}\n",
    "\\end{align*}\n",
    "\n",
    "\n",
    "\\begin{align*}\n",
    "    \\begin{array} {c|ccccc|c|c}\n",
    "        v.d.& x_1 & x_2 & x_3 & x_4 &  x_5 & -z & \\text{t.d.}\\\\\n",
    "        \\hline\n",
    "        x_2 & 0 & 1 & -1/5 & -2/5 & 1/5 & 0 & 2/5 \\\\\n",
    "        x_1 & 1 & 0 & 7/5 & -1/5 & -2/5 & 0 & 11/5\\\\\n",
    "        \\hline\n",
    "        -z & 0 & 0 & 9/5 & 8/5 & 1/5 & 1 & -28/5 \n",
    "    \\end{array}\n",
    "\\end{align*}\n",
    "\n",
    "$\\text{On obtient ainsi la solution optimale } (11/5, 2/5, 0, 0, 0) \\text{ avec } z = 28/5. $"
   ]
  },
  {
   "cell_type": "markdown",
   "metadata": {},
   "source": [
    "#### $\\text{(b)}$ $\\text{Déterminons une solution optimale avec les écarts complémentaires;}$"
   ]
  },
  {
   "cell_type": "markdown",
   "metadata": {},
   "source": [
    "$\\text{Le problème du dual associé est;}$"
   ]
  },
  {
   "cell_type": "markdown",
   "metadata": {},
   "source": [
    "\\begin{align*}\t\n",
    "\t\\max_x \\ &3 \\lambda_1 + 4\\lambda_2 \\\\\n",
    "\t\\text{s.a. } &\n",
    "\t\\lambda_1 + 2\\lambda_2 \\le 2\\\\\n",
    "\t&2 \\lambda_1 - \\lambda_2 \\le 3\\\\\\\n",
    "\t&\\lambda_1 + 3 \\lambda_2 \\le 4\\\\\n",
    "\t&\\lambda_1, \\lambda_2 \\ge 0\n",
    "\\end{align*}\t"
   ]
  },
  {
   "cell_type": "markdown",
   "metadata": {},
   "source": [
    "$\\text{Déterminons la solution optimale du dual } \\lambda ^* \\text{avec la théorie des écarts complémentaires :}$"
   ]
  },
  {
   "cell_type": "markdown",
   "metadata": {},
   "source": [
    "\\begin{align*}\n",
    "\tx_1^{\\star} &= 11/5 > 0 &\\implies \\lambda_1^{\\star} + 2 \\lambda_2^{\\star} =2\\\\\n",
    "\tx_2^{\\star} &= 2/5 > 0  &\\implies 2\\lambda_1^{\\star} -  \\lambda_2^{\\star} =3\n",
    "\\end{align*}"
   ]
  },
  {
   "cell_type": "markdown",
   "metadata": {},
   "source": [
    "$\\text{On résout le système à deux inconnus par la méthode de substitution}$"
   ]
  },
  {
   "cell_type": "markdown",
   "metadata": {},
   "source": [
    "\\begin{align*}\n",
    "\t\\begin{cases}\n",
    "\t\t\\lambda_1^{\\star} + 2 \\lambda_2^{\\star} =2\\\\\n",
    "\t\t2\\lambda_1^{\\star} -  \\lambda_2^{\\star} =3\n",
    "\t\\end{cases}\n",
    "\n",
    "\t&\\implies\n",
    "\n",
    "\t\\begin{cases}\n",
    "\t\\lambda_1^{\\star} = 2 - 2 \\lambda_2^{\\star} \\\\\n",
    "\t2(2 -2 \\lambda_2^{\\star}) -  \\lambda_2^{\\star} =3\n",
    "\t\\end{cases} \\\\\n",
    "\n",
    "\t&\\implies\n",
    "\n",
    "\t\\begin{cases}\n",
    "\t\\lambda_1^{\\star} = 2 - 2 \\lambda_2^{\\star} \\\\\n",
    "\t4 - 5 \\lambda_2^{\\star} = 3\n",
    "\t\\end{cases} \\\\\n",
    "\n",
    "\t&\\implies\n",
    "\n",
    "\t\\begin{cases}\n",
    "\t\\lambda_1^{\\star} = 2 - 2 (1/5) = 8/5\\\\\n",
    "\t\\lambda_2^{\\star} = 1/5\n",
    "\t\\end{cases}\n",
    "\n",
    "\\end{align*}"
   ]
  },
  {
   "cell_type": "markdown",
   "metadata": {},
   "source": [
    "\n",
    "$\\text{Ainsi } \\lambda_1^* = 8/5 \\text{ et } \\lambda_2^* = 1/5$"
   ]
  },
  {
   "cell_type": "markdown",
   "metadata": {},
   "source": [
    "#### $\\text{(c)}$ $\\text{Déterminons la nouvelle solution optimale après la modification de la première contrainte;}$"
   ]
  },
  {
   "cell_type": "markdown",
   "metadata": {},
   "source": [
    "\\begin{align*}\n",
    "    \\min_x\\ & 2x_1 +3x_2 + 4x_3\\\\\n",
    "    \\text{t.q.}\\ &\n",
    "        x_1 +2x_2 +x_3 \\ge 3.1\\\\\n",
    "        & 2x_1 -x_2 +3x_3 \\ge4\\\\\n",
    "        & x_1,x_2,x_3,x_3 \\ge 0\n",
    "\\end{align*}"
   ]
  },
  {
   "cell_type": "markdown",
   "metadata": {},
   "source": [
    "$\\text{On sait que la base optimale ne change pas, donc}$\n",
    "\n",
    "\\begin{align*}\n",
    "B^{-1} = \\begin{pmatrix}\n",
    "-2/5 & 1/5 \\\\\n",
    "-1/5 & -2/5\n",
    "\\end{pmatrix}\n",
    "\\end{align*}\n",
    "\n",
    "$\\text{et pour le changement des termes de droite,}$\n",
    "\\begin{align*}\n",
    "    \\begin{pmatrix}\n",
    "        \\Delta x_2 \\\\\n",
    "        \\Delta x_1\n",
    "        \\end{pmatrix}=\n",
    "    \\begin{pmatrix}\n",
    "        -2/5 & 1/5 \\\\\n",
    "        -1/5 & -2/5\n",
    "    \\end{pmatrix}\n",
    "    \\begin{pmatrix}\n",
    "        -0.1 \\\\ 0\n",
    "    \\end{pmatrix}=\n",
    "    \\begin{pmatrix}\n",
    "        1/25 \\\\ 1/50\n",
    "    \\end{pmatrix}\n",
    "\\end{align*}\n",
    "\n",
    "$\\text{On sait que } \\Delta z = c_B^T \\Delta x_B$\n",
    "\\begin{align*}\n",
    "    \\begin{pmatrix} 3&2\\end{pmatrix} \\cdot \\begin{pmatrix}1/25 \\\\ 1/50\\end{pmatrix} = 4/25\n",
    "\\end{align*}\n",
    "\n",
    "$\\text{Ainsi, } \\tilde{z^*} = 28/5 + 4/25 = 144/25 \\approx 5.76 $\n"
   ]
  },
  {
   "cell_type": "markdown",
   "metadata": {},
   "source": [
    "<div></div>"
   ]
  },
  {
   "cell_type": "markdown",
   "metadata": {},
   "source": [
    "<div></div>"
   ]
  },
  {
   "cell_type": "markdown",
   "metadata": {},
   "source": [
    "## $\\textbf{Question 2}$"
   ]
  },
  {
   "cell_type": "markdown",
   "metadata": {},
   "source": [
    "$\\text{Soit le problème de programmation linéaire: }$"
   ]
  },
  {
   "cell_type": "markdown",
   "metadata": {},
   "source": [
    "\\begin{align*}\n",
    "    \\min_x\\ & 3x_2 + 4x_3 + 5x_4\\\\\n",
    "    \\text{t.q.}\\ &\n",
    "        x_1 + x_3 \\ge 3\\\\\n",
    "        & x_2 + 2x_3 + x_4 \\ge4\\\\\n",
    "        & x_4 \\geq 2 \\\\\n",
    "        & x_1, x_2, x_3, x_4 \\ge 0\n",
    "\\end{align*}"
   ]
  },
  {
   "cell_type": "markdown",
   "metadata": {},
   "source": [
    "$\\text{On a le problème suivant sous forme standard,}$\n",
    "\\begin{align*}\n",
    "    \\min_x\\ & 3x_2 + 4x_3 + 5x_4\\\\\n",
    "    \\text{t.q.}\\ &\n",
    "        x_1 + x_3 -x_5 = 3\\\\\n",
    "        & x_2 + 2x_3 + x_4 -x_6 = 4\\\\\n",
    "        & x_4 - x_7 = 2 \\\\\n",
    "        & x_1, x_2, x_3, x_4, x_5, x_6, x_7 \\ge 0\n",
    "\\end{align*}\n"
   ]
  },
  {
   "cell_type": "markdown",
   "metadata": {},
   "source": [
    "\\begin{align*}\n",
    "    \\min_x\\ & 3x_2 + 4x_3 + 5x_4\\\\\n",
    "    \\text{t.q.}\\ &\n",
    "        -x_1 - x_3 + x_5 = -3\\\\\n",
    "        & -x_2 - 2x_3 - x_4 + x_6 = -4\\\\\n",
    "        & -x_4 + x_7 = -2 \\\\\n",
    "        & x_1, x_2, x_3, x_4, x_5, x_6, x_7 \\ge 0\n",
    "\\end{align*}"
   ]
  },
  {
   "cell_type": "markdown",
   "metadata": {},
   "source": [
    "\\begin{align*}\n",
    "    \\begin{array} {c|ccccccc|c}\n",
    "        v.d & x_1 & x_2 & x_3 & x_4 & x_5 & x_6 & x_7 & \\text{t.d.}\\\\\n",
    "        \\hline\n",
    "        x_5 &-1 & 0 & -1 & 0 & 1 & 0 & 0 & -3\\\\\n",
    "        x_6 & 0 &-1 & -2 &-1 & 0 & 1 & 0 & -4\\\\\n",
    "        x_7 & 0 & 0 &  0 &-1 & 0 & 0 & 1 &-2\\\\\n",
    "        \\hline\n",
    "        -z & 0 & 3 & 4 & 5 & 0 & 0 & 0 & 0\n",
    "    \\end{array}\n",
    "\\end{align*}"
   ]
  },
  {
   "cell_type": "code",
   "execution_count": 1,
   "metadata": {
    "vscode": {
     "languageId": "julia"
    }
   },
   "outputs": [
    {
     "data": {
      "text/plain": [
       "feasible (generic function with 1 method)"
      ]
     },
     "execution_count": 1,
     "metadata": {},
     "output_type": "execute_result"
    }
   ],
   "source": [
    "mutable struct SimplexTableau\n",
    "  z_c     ::Array{Float64}  # coûts réduits\n",
    "  Y       ::Array{Vector{Float64}}  # contraintes linéaires\n",
    "  x_B     ::Array{Float64}  # solution de base\n",
    "  obj     ::Float64         # valeur de la fonction objectif\n",
    "  b_idx   ::Array{Int64}    # indices des variables de bases\n",
    "\n",
    "  function SimplexTableau(z_c, Y, x_B, obj, b_idx)\n",
    "    new(z_c, Y, x_B, obj, b_idx)\n",
    "  end\n",
    "\n",
    "end \n",
    "\n",
    "\n",
    "function draw_table(t::SimplexTableau; verbose::Bool)\n",
    "  println(\"------------------------------\")\n",
    "  A = hcat(t.Y...)\n",
    "  M = [A' t.x_B; t.z_c' t.obj]\n",
    "  verbose && display(M)\n",
    "  println(\"------------------------------\")\n",
    "end\n",
    "\n",
    "\n",
    "function pivot_point(tableau_simplexe)\n",
    "  # Récupération des indices des variables de base\n",
    "  b_idx = tableau_simplexe.b_idx\n",
    "\n",
    "  # Calcul des coûts réduits des variables non de base\n",
    "  z_c = tableau_simplexe.z_c\n",
    "\n",
    "  #Recuperer le nombre de variables de départ\n",
    "  nombre_variables = length(z_c) - length(b_idx)\n",
    "\n",
    "  # Sélection de la variable d'entrée (variable avec le coût réduit le plus négatif)\n",
    "  if 1 in b_idx\n",
    "    indice_variable_entree = argmax(z_c[1:nombre_variables])\n",
    "  else\n",
    "    indice_variable_entree = argmin(z_c)\n",
    "  end\n",
    "\n",
    "  # Récupération des coefficients de la colonne correspondant à la variable d'entrée\n",
    "  colonne_variable_entree = [ligne[indice_variable_entree] for ligne in tableau_simplexe.Y]\n",
    "\n",
    "  # Sélection de la variable de sortie (variable de base avec le rapport positif minimal)\n",
    "  indices_sortants = findall(x -> x != 0, colonne_variable_entree)    ## specifique au probleme du devoir 3\n",
    "\n",
    "  rapport_minimal = Inf\n",
    "  indice_variable_sortante = nothing\n",
    "\n",
    "  for indice_sortant in indices_sortants\n",
    "      rapport = tableau_simplexe.x_B[indice_sortant] / colonne_variable_entree[indice_sortant]\n",
    "      if rapport < rapport_minimal\n",
    "          rapport_minimal = rapport\n",
    "          indice_variable_sortante = indice_sortant\n",
    "      end\n",
    "  end\n",
    "\n",
    "  # Retourner les indices de la variable d'entrée et de sortie\n",
    "  return indice_variable_entree, b_idx[indice_variable_sortante]\n",
    "end\n",
    "\n",
    "\n",
    "function pivoting!(t::SimplexTableau)\n",
    "    m, n = length(t.Y), length(t.Y[1])\n",
    "\n",
    "    entering, exiting = pivot_point(t)\n",
    "    exiting_temp = exiting\n",
    "\n",
    "    #Recuperer la position(ligne) de la variable de sortie\n",
    "    exiting = findfirst(x -> x==exiting, t.b_idx)   \n",
    "\n",
    "    @show (entering, exiting)\n",
    "\n",
    "    # Pivoting: exiting-row, entering-column\n",
    "    # updating exiting-row\n",
    "    coef = t.Y[exiting][entering]\n",
    "    t.Y[exiting, :] /= coef\n",
    "    t.x_B[exiting] /= coef\n",
    "\n",
    "    # updating other rows of Y\n",
    "    for i in setdiff(1:m, exiting)\n",
    "      coef = t.Y[i][entering]\n",
    "      t.Y[i, :] -= coef * t.Y[exiting, :]\n",
    "      t.x_B[i] -= coef * t.x_B[exiting]\n",
    "    end\n",
    "\n",
    "    # updating the row for the reduced costs\n",
    "    coef = t.z_c[entering]\n",
    "    t.z_c[:] -= coef * t.Y[exiting][:]\n",
    "    t.obj -= coef * t.x_B[exiting]\n",
    "\n",
    "    # Updating b_idx\n",
    "    t.b_idx[findall(x -> x == exiting_temp, t.b_idx)] .= entering\n",
    "    return t\n",
    "\n",
    "end \n",
    "\n",
    "#feasible prend un tableau du simplex et retourne si il contient une solution primal rélisable\n",
    "function feasible(t::SimplexTableau)\n",
    "  # Vérifier les couts reduits\n",
    "  couts_reduits = all(t.z_c[:, end] .>= 0)\n",
    "\n",
    "  # Vérifier la non-négativité des variables\n",
    "\n",
    "  non_negativite_variables = all(t.x_B[:, 1:end] .>= 0)\n",
    "\n",
    "  # La solution est réalisable si les deux conditions sont satisfaites\n",
    "  return non_negativite_variables\n",
    "end"
   ]
  },
  {
   "cell_type": "code",
   "execution_count": 2,
   "metadata": {
    "vscode": {
     "languageId": "julia"
    }
   },
   "outputs": [
    {
     "name": "stdout",
     "output_type": "stream",
     "text": [
      "------------------------------\n"
     ]
    },
    {
     "data": {
      "text/plain": [
       "4×8 Matrix{Float64}:\n",
       " -1.0   0.0  -1.0   0.0  1.0  0.0  0.0  -3.0\n",
       "  0.0  -1.0  -2.0  -1.0  0.0  1.0  0.0  -4.0\n",
       "  0.0   0.0   0.0  -1.0  0.0  0.0  1.0  -2.0\n",
       "  0.0   3.0   4.0   5.0  0.0  0.0  0.0   0.0"
      ]
     },
     "metadata": {},
     "output_type": "display_data"
    },
    {
     "name": "stdout",
     "output_type": "stream",
     "text": [
      "------------------------------\n",
      "(entering, exiting) = (1, 1)\n",
      "------------------------------\n"
     ]
    },
    {
     "data": {
      "text/plain": [
       "4×8 Matrix{Float64}:\n",
       " 1.0  -0.0   1.0  -0.0  -1.0  -0.0  -0.0   3.0\n",
       " 0.0  -1.0  -2.0  -1.0   0.0   1.0   0.0  -4.0\n",
       " 0.0   0.0   0.0  -1.0   0.0   0.0   1.0  -2.0\n",
       " 0.0   3.0   4.0   5.0   0.0   0.0   0.0   0.0"
      ]
     },
     "metadata": {},
     "output_type": "display_data"
    },
    {
     "name": "stdout",
     "output_type": "stream",
     "text": [
      "------------------------------\n",
      "(entering, exiting) = (4, 3)\n",
      "------------------------------\n"
     ]
    },
    {
     "data": {
      "text/plain": [
       "4×8 Matrix{Float64}:\n",
       "  1.0  -0.0   1.0  0.0  -1.0  -0.0  -0.0    3.0\n",
       "  0.0  -1.0  -2.0  0.0   0.0   1.0  -1.0   -2.0\n",
       " -0.0  -0.0  -0.0  1.0  -0.0  -0.0  -1.0    2.0\n",
       "  0.0   3.0   4.0  0.0   0.0   0.0   5.0  -10.0"
      ]
     },
     "metadata": {},
     "output_type": "display_data"
    },
    {
     "name": "stdout",
     "output_type": "stream",
     "text": [
      "------------------------------\n",
      "(entering, exiting) = (3, 2)\n",
      "------------------------------\n"
     ]
    },
    {
     "data": {
      "text/plain": [
       "4×8 Matrix{Float64}:\n",
       "  1.0  -0.5  0.0   0.0  -1.0   0.5  -0.5    2.0\n",
       " -0.0   0.5  1.0  -0.0  -0.0  -0.5   0.5    1.0\n",
       " -0.0   0.0  0.0   1.0  -0.0  -0.0  -1.0    2.0\n",
       "  0.0   1.0  0.0   0.0   0.0   2.0   3.0  -14.0"
      ]
     },
     "metadata": {},
     "output_type": "display_data"
    },
    {
     "name": "stdout",
     "output_type": "stream",
     "text": [
      "------------------------------\n"
     ]
    },
    {
     "data": {
      "text/plain": [
       "-14.0"
      ]
     },
     "execution_count": 2,
     "metadata": {},
     "output_type": "execute_result"
    }
   ],
   "source": [
    "using LinearAlgebra\n",
    "nouveauTableau = SimplexTableau([0, 3, 4, 5, 0, 0, 0], \n",
    "                          [ [-1//1, 0, -1, 0, 1, 0, 0],\n",
    "                            [0, -1, -2, -1, 0, 1, 0],\n",
    "                            [0,  0,  0, -1, 0, 0, 1] ],\n",
    "                          [-3, -4, -2],\n",
    "                          0,\n",
    "                          [5, 6, 7])\n",
    "\n",
    "function DualsimplexSolver(t::SimplexTableau; verbose::Bool = false)\n",
    "  k = 1\n",
    "  nmax = 1000\n",
    "\n",
    "  while !feasible(t) && k < nmax\n",
    "      \n",
    "      k+=1\n",
    "      draw_table(t, verbose=true)\n",
    "      pivoting!(t)\n",
    "    end\n",
    "    \n",
    "  draw_table(t, verbose=true)\n",
    "  return t.obj\n",
    "end                    \n",
    "\n",
    "DualsimplexSolver(nouveauTableau, verbose = true)\n",
    "\n"
   ]
  }
 ],
 "metadata": {
  "kernelspec": {
   "display_name": "Julia 1.9.3",
   "language": "julia",
   "name": "julia-1.9"
  },
  "language_info": {
   "name": "python"
  }
 },
 "nbformat": 4,
 "nbformat_minor": 2
}
