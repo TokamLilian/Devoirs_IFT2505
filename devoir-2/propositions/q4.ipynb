{
 "cells": [
  {
   "cell_type": "markdown",
   "metadata": {},
   "source": [
    "## $\\textbf{Question 4}$"
   ]
  },
  {
   "cell_type": "markdown",
   "metadata": {},
   "source": [
    "$\\text{Soit le système}$"
   ]
  },
  {
   "cell_type": "markdown",
   "metadata": {},
   "source": [
    "\\begin{align*}\n",
    "    x_1 + x_2 \\leq 1&\\\\\n",
    "    x_1 + x_2 \\geq 2&\\\\\n",
    "    x_1, x_2 \\geq 0&\\\\\n",
    "\\end{align*}\n",
    "\n",
    "$\\text{Utilisons la phase I du simplexe pour montrer que ce système de possède pas de solution}$\n",
    "\n",
    "$\\text{On converti le problème sous forme standard à l'introduction de deux variables artificiels}$ $x_3,$ $x_4,$ $\\text{on a;}$\n",
    "\n",
    "\\begin{array}{ccccc}\n",
    "    \\min\\ &&&x_3  &+x_4\\\\\n",
    "    \\text{tel que}&x_1  &+x_2  &+x_3 &&= 1\\\\\n",
    "    &x_1  &+x_2  &&+x_4 &= 2\\\\\n",
    "    &x_1, &x_2, &x_3, &x_4 &\\geq 0\\\\\n",
    "\\end{array}\n",
    "\n",
    "$\\text{On obtient le problème sous forme de tableau}$\n",
    "\\begin{array}{ccccc}\n",
    "    &x_1 & x_2 & x_3 &x_4 & b\\\\\n",
    "    &1   & 1   & 1   & 0  & 1\\\\\n",
    "    &1   & 1   & 0   & 1  & 2\\\\\n",
    "    c^T& 0   &0 &1 &1 &0\\\\\n",
    "\\end{array}\n",
    "$\\text{Pour obtenir une solution de base réalisable, il faut annuler les\n",
    "coefficients de}$ $x_3$ $\\text{et}$ $x_4.$ $\\text{Nous obtenons le nouveau tableau}$\n",
    "\\begin{array}{ccccc}\n",
    "    &x_1 & x_2 & x_3 &x_4 & b\\\\\n",
    "    &1   & 1   & 1   & 0  & 1\\\\\n",
    "    &1   & 1   & 0   & 1  & 2\\\\\n",
    "c^T &-2   &-2    &0    &0   &-3\\\\\n",
    "\\end{array}\n",
    "\n",
    "$\\text{On peut maintenant continuer la résolution du système en utilisant le simplexe, comme d’ordinaire}$"
   ]
  },
  {
   "cell_type": "markdown",
   "metadata": {},
   "source": [
    "$\\text{premier pivotage}$"
   ]
  },
  {
   "cell_type": "markdown",
   "metadata": {},
   "source": [
    "\\begin{array}{ccccc}\n",
    "    &x_1 & x_2 & x_3 &x_4 & b\\\\\n",
    "    &1   & 1   & 1   & 0  & 1\\\\\n",
    "    &0   & 0   & -1   & 1  & 1\\\\\n",
    "c^T &0   &0    &2    &0   &-1\\\\\n",
    "\\end{array}"
   ]
  },
  {
   "cell_type": "markdown",
   "metadata": {},
   "source": [
    "$\\text{les colonnes de}$ $x_1$ $\\text{et}$ $x_2$ $\\text{étant linéairement dépendantes, on a ainsi un cas de dégénéréscence du problème.}$"
   ]
  },
  {
   "cell_type": "markdown",
   "metadata": {},
   "source": [
    "$\\text{La partie en julia;}$"
   ]
  },
  {
   "cell_type": "code",
   "execution_count": 1,
   "metadata": {},
   "outputs": [
    {
     "data": {
      "text/plain": [
       "simplexSolver (generic function with 1 method)"
      ]
     },
     "metadata": {},
     "output_type": "display_data"
    }
   ],
   "source": [
    "function pivot!(M::Matrix, i::Int, j::Int)\n",
    "    m, n = size(M)\n",
    "    @assert M[i, j] != 0\n",
    "    M[i, :] = M[i, :]/M[i, j]\n",
    "    for k in setdiff(1:m, i)\n",
    "        M[k, :] -= M[k, j] * M[i, :]\n",
    "    end\n",
    "    return M\n",
    "end\n",
    "\n",
    "function getReducedCosts(M::Matrix)\n",
    "    m, n = size(M)\n",
    "    return M[end, 1:n-1]\n",
    "end\n",
    "function getxB(M::Matrix)\n",
    "    m, n = size(M)\n",
    "    return M[1:m-1, end]\n",
    "end\n",
    "function enteringVar(M::Matrix)\n",
    "    rc = getReducedCosts(M)\n",
    "    index = argmin(rc)\n",
    "    return rc[index] >= 0 ? -1 : index\n",
    "end\n",
    "function exitingVarIndex(M::Matrix{T}, enteringVar::Int) where T\n",
    "    col = M[1:end-1, enteringVar]\n",
    "    xB = getxB(M)\n",
    "    m, n = size(M)\n",
    "    index = -1\n",
    "    val = T(Inf)\n",
    "    for i in 1:m-1\n",
    "        if (col[i] > 0) && (xB[i]/col[i] < val)\n",
    "            val = xB[i]/col[i]\n",
    "            index = i\n",
    "        end\n",
    "    end\n",
    "    return index\n",
    "end\n",
    "function isOneHot(v::Vector)\n",
    "    n = length(v)\n",
    "    return (sum(iszero, v) == n-1) && (sum(isone, v) == 1)\n",
    "end \n",
    "function isoptimal(M)\n",
    "    return enteringVar(M) == -1\n",
    "end\n",
    "function findInitialBasis!(M::Matrix)\n",
    "    m, n = size(M)\n",
    "    m-=1\n",
    "    n-=1\n",
    "    basis = [-1 for _ in 1:m]\n",
    "    for i in 1:n\n",
    "        if isOneHot(M[1:end-1, i])\n",
    "            index = findfirst(isone, M[:, i])\n",
    "            basis[index] = i\n",
    "        end\n",
    "    end\n",
    "    @assert !any(t-> t == -1, basis) \"problem not caconical\"\n",
    "    for i in 1:m\n",
    "        j = basis[i]\n",
    "        pivot!(M, i, j)\n",
    "    end\n",
    "    return basis\n",
    "end\n",
    "function simplexSolver(A::Matrix{T}, b::Vector, c::Vector; verbose::Bool = false) where T\n",
    "    M = [A b; c' 0]\n",
    "    basis = findInitialBasis!(M)\n",
    "    k = 1\n",
    "    nmax = 1000\n",
    "    while !isoptimal(M) && k < nmax\n",
    "        k+=1\n",
    "        verbose && display(M)\n",
    "        entering = enteringVar(M)\n",
    "        entering == -1 && (println(\"------------\"); return T[-1, -1])\n",
    "        leaving = exitingVarIndex(M, entering)\n",
    "        leaving == -1 && (println(\"------------\"); return T[-1, -1])\n",
    "        verbose && @show (entering, leaving)\n",
    "        basis[leaving] = entering\n",
    "        pivot!(M, leaving, entering)\n",
    "    end\n",
    "    verbose && display(M)\n",
    "    m, n = size(M)\n",
    "    xstar = zeros(T, n - 1)\n",
    "    xstar[basis] = getxB(M)\n",
    "    return xstar\n",
    "end"
   ]
  },
  {
   "cell_type": "code",
   "execution_count": 2,
   "metadata": {},
   "outputs": [
    {
     "data": {
      "text/plain": [
       "3×5 Matrix{Rational{Int64}}:\n",
       "  1//1   1//1  1//1  0//1   1//1\n",
       "  1//1   1//1  0//1  1//1   2//1\n",
       " -2//1  -2//1  0//1  0//1  -3//1"
      ]
     },
     "metadata": {},
     "output_type": "display_data"
    },
    {
     "data": {
      "text/plain": [
       "3×5 Matrix{Rational{Int64}}:\n",
       " 1//1  1//1   1//1  0//1   1//1\n",
       " 0//1  0//1  -1//1  1//1   1//1\n",
       " 0//1  0//1   2//1  0//1  -1//1"
      ]
     },
     "metadata": {},
     "output_type": "display_data"
    },
    {
     "name": "stdout",
     "output_type": "stream",
     "text": [
      "(entering, leaving) = (1, 1)\n"
     ]
    },
    {
     "data": {
      "text/plain": [
       "4-element Vector{Rational{Int64}}:\n",
       " 1//1\n",
       " 0//1\n",
       " 0//1\n",
       " 1//1"
      ]
     },
     "metadata": {},
     "output_type": "display_data"
    }
   ],
   "source": [
    "function  devoir3_4()\n",
    "    \n",
    "    A=[1//1 1 1 0 ; \n",
    "          1 1 0 1;\n",
    "    ]\n",
    "    \n",
    "    b=[1, 2]\n",
    "    \n",
    "    c = [0, 0, 1, 1]\n",
    "    simplexSolver(A, b, c, verbose=true)\n",
    "end\n",
    "\n",
    "devoir3_4()"
   ]
  }
 ],
 "metadata": {
  "kernelspec": {
   "display_name": "Julia 1.9.3",
   "language": "julia",
   "name": "julia-1.9"
  },
  "language_info": {
   "file_extension": ".jl",
   "mimetype": "application/julia",
   "name": "julia",
   "version": "1.9.3"
  },
  "orig_nbformat": 4
 },
 "nbformat": 4,
 "nbformat_minor": 2
}
