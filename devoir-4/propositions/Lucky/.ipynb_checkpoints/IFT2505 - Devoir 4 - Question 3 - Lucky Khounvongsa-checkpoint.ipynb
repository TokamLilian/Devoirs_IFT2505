{
 "cells": [
  {
   "cell_type": "code",
   "execution_count": 1,
   "id": "24ec925f",
   "metadata": {},
   "outputs": [
    {
     "name": "stdout",
     "output_type": "stream",
     "text": [
      "Analytic center: [0.0, 0.0]\n"
     ]
    }
   ],
   "source": [
    "using LinearAlgebra\n",
    "\n",
    "# Prévenir les log(0)\n",
    "epsillon = 1e-5\n",
    "\n",
    "\n",
    "function barrier(x)\n",
    "    return -sum(log.(max.(epsillon, b - A * x)))\n",
    "end\n",
    "\n",
    "# Gradiant de la fonction barrier\n",
    "function grad_barrier(x)\n",
    "    return A' * (1. ./ max.(epsillon, b - A * x))\n",
    "end\n",
    "\n",
    "# Hessian of the barrier function\n",
    "function hessian_barrier(x)\n",
    "    return A' * Diagonal((1. ./ max.(epsillon, b - A * x)).^2) * A\n",
    "end\n",
    "\n",
    "# Application de Newton\n",
    "function newton(x0; tol=1e-8, iter_max=100)\n",
    "    x = x0\n",
    "    for i in 1:iter_max\n",
    "        gradiant = grad_barrier(x)\n",
    "        hessienne = hessian_barrier(x)\n",
    "        \n",
    "        delta_x = -inv(hessienne) * gradiant\n",
    "        lambda = -gradiant' * delta_x\n",
    "        \n",
    "        # Arret\n",
    "        if sqrt(lambda) / 2 < tol\n",
    "            break\n",
    "        end\n",
    "        \n",
    "        # Backtracking (Recherche arrière)\n",
    "        t = 1.0\n",
    "        alpha = 0.25\n",
    "        beta = 0.5\n",
    "        while barrier(x + t * delta_x) > barrier(x) + alpha * t * gradiant' * delta_x\n",
    "            t *= beta\n",
    "        end\n",
    "        \n",
    "        x += t * delta_x\n",
    "    end\n",
    "    return x\n",
    "end\n",
    "\n",
    "# Contraintes\n",
    "A = [1 1; -1 -1; 1 -1; -1 1]\n",
    "b = [3; -1; 1; 1]\n",
    "\n",
    "# Point de départ\n",
    "x0 = [1, 1]\n",
    "\n",
    "center = newton(x0)\n",
    "\n",
    "println(\"Centre analytique du polyhedre: \", center)"
   ]
  },
  {
   "cell_type": "code",
   "execution_count": null,
   "id": "92a261d7",
   "metadata": {},
   "outputs": [],
   "source": []
  }
 ],
 "metadata": {
  "kernelspec": {
   "display_name": "Julia 1.9.3",
   "language": "julia",
   "name": "julia-1.9"
  },
  "language_info": {
   "file_extension": ".jl",
   "mimetype": "application/julia",
   "name": "julia",
   "version": "1.9.3"
  }
 },
 "nbformat": 4,
 "nbformat_minor": 5
}
